{
 "cells": [
  {
   "cell_type": "code",
   "execution_count": 1,
   "id": "9ac4c95e-23bf-47a9-b52f-fd7020a941fd",
   "metadata": {},
   "outputs": [],
   "source": [
    "#%%%%%%%%%%%%%%%%%%%%%%%%%%%%%% Homework #3 $$$$$$$$$$$$$$$$$$$$$$$$$$$$$$$$$$$$$$$$$$$$$$$$$$$$$$$$$$$$$$$$$$$$$$$$$$$$"
   ]
  },
  {
   "cell_type": "code",
   "execution_count": 1,
   "id": "278577bb-06ce-4163-80d8-b52c480318c7",
   "metadata": {},
   "outputs": [],
   "source": [
    "import numpy as np\n",
    "import matplotlib.pyplot as plt \n",
    "from matplotlib.pyplot import figure\n",
    "import pandas as pd \n",
    "from sklearn.decomposition import PCA\n",
    "from sklearn.datasets import load_breast_cancer "
   ]
  },
  {
   "cell_type": "code",
   "execution_count": 2,
   "id": "4ce63da2-ff9c-4bf6-a540-1f3431eb66df",
   "metadata": {},
   "outputs": [],
   "source": [
    "# References for pandas\n",
    "\n",
    "# data: {ndarray, dataframe} of shape (569, 30)\n",
    "# This is the data matrix. If as_frame=True, data will be a pandas DataFrame.\n",
    "\n",
    "# target: {ndarray, Series} of shape (569,)\n",
    "# This is the classification target. If as_frame=True, target will be a pandas Series.\n"
   ]
  },
  {
   "cell_type": "code",
   "execution_count": 3,
   "id": "9e7d6e06-b9ff-4a3f-afd7-972a42e28b10",
   "metadata": {},
   "outputs": [],
   "source": [
    "# For a range in N, when N = 1, 2, ..., K calculate a PCA and return \n",
    "# I want this to be able to graph the number N pricipal components that maximizes the accuracy. \n",
    "\n",
    "def pca_iterations(K,data,target):\n",
    "    pca = PCA(n_components = K) \n",
    "    principalComponents = pca.fit_transform(data) \n",
    "    principalDf = pd.DataFrame(data = principalComponents) # The columns of this will be numbered 0 to K-1 \n",
    "    finalDF = pd.concat([principalDf, breast_dataset[['targets']]], axis = 1)\n",
    "        \n",
    "    return finalDF        "
   ]
  },
  {
   "cell_type": "code",
   "execution_count": 4,
   "id": "55d4222f-64cc-44f4-96bb-e2c7e461357d",
   "metadata": {},
   "outputs": [],
   "source": [
    "#$$$$$$$$$$$$$$$$$$$$$$$$$$  Problem 1  $$$$$$$$$$$$$$$$$$$$$$$$$$$$$$$$$$$$$$$$$$$$$$$$$$$$$$$$$$$$$$$$$$$$$$$$$$$$$$$$$$"
   ]
  },
  {
   "cell_type": "code",
   "execution_count": 5,
   "id": "e455073e-b10f-4753-a886-e9b9faeb9d7d",
   "metadata": {},
   "outputs": [],
   "source": [
    "# Import the breast cancer dataset into python\n",
    "breast = load_breast_cancer() "
   ]
  },
  {
   "cell_type": "code",
   "execution_count": 6,
   "id": "b9f0d193-a036-4ae8-bb38-938472e86a6d",
   "metadata": {},
   "outputs": [
    {
     "name": "stdout",
     "output_type": "stream",
     "text": [
      "Shape of 'breast_data': (569, 30)\n",
      "Shape of 'features': (30,)\n",
      "Shape of 'breast_labels': (569,)\n"
     ]
    }
   ],
   "source": [
    "# Extract data from 'breast' \n",
    "breast_data = breast.data \n",
    "breast_labels = breast.target\n",
    "features = breast.feature_names \n",
    "\n",
    "# Show the shapes of things\n",
    "print(\"Shape of 'breast_data':\",breast_data.shape)\n",
    "print(\"Shape of 'features':\",features.shape)\n",
    "print(\"Shape of 'breast_labels':\",breast_labels.shape)"
   ]
  },
  {
   "cell_type": "code",
   "execution_count": 7,
   "id": "d84afc99-a081-4f0d-bdec-e8eb17c7bdad",
   "metadata": {},
   "outputs": [
    {
     "name": "stdout",
     "output_type": "stream",
     "text": [
      "Shape of 'targets': (569, 1)\n",
      "First 5 terms: [[0]\n",
      " [0]\n",
      " [0]\n",
      " [0]\n",
      " [0]]\n"
     ]
    }
   ],
   "source": [
    "# Reshape 'breast_labels' into a column vector\n",
    "targets = np.reshape(breast_labels,(569,1)) \n",
    "\n",
    "print(\"Shape of 'targets':\",targets.shape)\n",
    "print(\"First 5 terms:\",targets[:5])"
   ]
  },
  {
   "cell_type": "code",
   "execution_count": 8,
   "id": "b3488b06-459f-46c0-a0b5-439d6839845c",
   "metadata": {},
   "outputs": [],
   "source": [
    "# Creates dataframe from 'breast_data'\n",
    "breast_input = pd.DataFrame(breast_data)\n",
    "\n",
    "# '.describe' can be used with objects within '.DataFrame'\n",
    "# breast_input.describe "
   ]
  },
  {
   "cell_type": "code",
   "execution_count": 9,
   "id": "99b57d7b-932d-43d6-afc1-802ec98e6284",
   "metadata": {},
   "outputs": [
    {
     "data": {
      "text/plain": [
       "(569, 31)"
      ]
     },
     "execution_count": 9,
     "metadata": {},
     "output_type": "execute_result"
    }
   ],
   "source": [
    "# Create a new dataset called 'final_breast_data' by adding the \n",
    "# column 'targets' to the end of 'breast_data'\n",
    "final_breast_data = np.concatenate([breast_data,targets],axis=1)\n",
    "\n",
    "# shape of 'final_breast_data'\n",
    "final_breast_data.shape "
   ]
  },
  {
   "cell_type": "code",
   "execution_count": 10,
   "id": "926f8778-f1e0-4f2a-9d4d-c983fbe33c3b",
   "metadata": {},
   "outputs": [],
   "source": [
    "# Create a new dataframe called 'breast_dataset' from 'final_breast_data'\n",
    "breast_dataset = pd.DataFrame(final_breast_data)"
   ]
  },
  {
   "cell_type": "code",
   "execution_count": 11,
   "id": "e8572c03-2392-4f92-99bc-fe5e4e3a8a94",
   "metadata": {},
   "outputs": [],
   "source": [
    "# Name all of the features in breast_dataset\n",
    "features_labels = np.append(features,'targets') \n",
    "breast_dataset.columns = features_labels "
   ]
  },
  {
   "cell_type": "code",
   "execution_count": 12,
   "id": "fa4b7059-39f3-48b6-ae8e-446349b888c2",
   "metadata": {},
   "outputs": [
    {
     "data": {
      "text/html": [
       "<div>\n",
       "<style scoped>\n",
       "    .dataframe tbody tr th:only-of-type {\n",
       "        vertical-align: middle;\n",
       "    }\n",
       "\n",
       "    .dataframe tbody tr th {\n",
       "        vertical-align: top;\n",
       "    }\n",
       "\n",
       "    .dataframe thead th {\n",
       "        text-align: right;\n",
       "    }\n",
       "</style>\n",
       "<table border=\"1\" class=\"dataframe\">\n",
       "  <thead>\n",
       "    <tr style=\"text-align: right;\">\n",
       "      <th></th>\n",
       "      <th>mean radius</th>\n",
       "      <th>mean texture</th>\n",
       "      <th>mean perimeter</th>\n",
       "      <th>mean area</th>\n",
       "      <th>mean smoothness</th>\n",
       "      <th>mean compactness</th>\n",
       "      <th>mean concavity</th>\n",
       "      <th>mean concave points</th>\n",
       "      <th>mean symmetry</th>\n",
       "      <th>mean fractal dimension</th>\n",
       "      <th>...</th>\n",
       "      <th>worst texture</th>\n",
       "      <th>worst perimeter</th>\n",
       "      <th>worst area</th>\n",
       "      <th>worst smoothness</th>\n",
       "      <th>worst compactness</th>\n",
       "      <th>worst concavity</th>\n",
       "      <th>worst concave points</th>\n",
       "      <th>worst symmetry</th>\n",
       "      <th>worst fractal dimension</th>\n",
       "      <th>targets</th>\n",
       "    </tr>\n",
       "  </thead>\n",
       "  <tbody>\n",
       "    <tr>\n",
       "      <th>0</th>\n",
       "      <td>17.99</td>\n",
       "      <td>10.38</td>\n",
       "      <td>122.80</td>\n",
       "      <td>1001.0</td>\n",
       "      <td>0.11840</td>\n",
       "      <td>0.27760</td>\n",
       "      <td>0.3001</td>\n",
       "      <td>0.14710</td>\n",
       "      <td>0.2419</td>\n",
       "      <td>0.07871</td>\n",
       "      <td>...</td>\n",
       "      <td>17.33</td>\n",
       "      <td>184.60</td>\n",
       "      <td>2019.0</td>\n",
       "      <td>0.1622</td>\n",
       "      <td>0.6656</td>\n",
       "      <td>0.7119</td>\n",
       "      <td>0.2654</td>\n",
       "      <td>0.4601</td>\n",
       "      <td>0.11890</td>\n",
       "      <td>0.0</td>\n",
       "    </tr>\n",
       "    <tr>\n",
       "      <th>1</th>\n",
       "      <td>20.57</td>\n",
       "      <td>17.77</td>\n",
       "      <td>132.90</td>\n",
       "      <td>1326.0</td>\n",
       "      <td>0.08474</td>\n",
       "      <td>0.07864</td>\n",
       "      <td>0.0869</td>\n",
       "      <td>0.07017</td>\n",
       "      <td>0.1812</td>\n",
       "      <td>0.05667</td>\n",
       "      <td>...</td>\n",
       "      <td>23.41</td>\n",
       "      <td>158.80</td>\n",
       "      <td>1956.0</td>\n",
       "      <td>0.1238</td>\n",
       "      <td>0.1866</td>\n",
       "      <td>0.2416</td>\n",
       "      <td>0.1860</td>\n",
       "      <td>0.2750</td>\n",
       "      <td>0.08902</td>\n",
       "      <td>0.0</td>\n",
       "    </tr>\n",
       "    <tr>\n",
       "      <th>2</th>\n",
       "      <td>19.69</td>\n",
       "      <td>21.25</td>\n",
       "      <td>130.00</td>\n",
       "      <td>1203.0</td>\n",
       "      <td>0.10960</td>\n",
       "      <td>0.15990</td>\n",
       "      <td>0.1974</td>\n",
       "      <td>0.12790</td>\n",
       "      <td>0.2069</td>\n",
       "      <td>0.05999</td>\n",
       "      <td>...</td>\n",
       "      <td>25.53</td>\n",
       "      <td>152.50</td>\n",
       "      <td>1709.0</td>\n",
       "      <td>0.1444</td>\n",
       "      <td>0.4245</td>\n",
       "      <td>0.4504</td>\n",
       "      <td>0.2430</td>\n",
       "      <td>0.3613</td>\n",
       "      <td>0.08758</td>\n",
       "      <td>0.0</td>\n",
       "    </tr>\n",
       "    <tr>\n",
       "      <th>3</th>\n",
       "      <td>11.42</td>\n",
       "      <td>20.38</td>\n",
       "      <td>77.58</td>\n",
       "      <td>386.1</td>\n",
       "      <td>0.14250</td>\n",
       "      <td>0.28390</td>\n",
       "      <td>0.2414</td>\n",
       "      <td>0.10520</td>\n",
       "      <td>0.2597</td>\n",
       "      <td>0.09744</td>\n",
       "      <td>...</td>\n",
       "      <td>26.50</td>\n",
       "      <td>98.87</td>\n",
       "      <td>567.7</td>\n",
       "      <td>0.2098</td>\n",
       "      <td>0.8663</td>\n",
       "      <td>0.6869</td>\n",
       "      <td>0.2575</td>\n",
       "      <td>0.6638</td>\n",
       "      <td>0.17300</td>\n",
       "      <td>0.0</td>\n",
       "    </tr>\n",
       "    <tr>\n",
       "      <th>4</th>\n",
       "      <td>20.29</td>\n",
       "      <td>14.34</td>\n",
       "      <td>135.10</td>\n",
       "      <td>1297.0</td>\n",
       "      <td>0.10030</td>\n",
       "      <td>0.13280</td>\n",
       "      <td>0.1980</td>\n",
       "      <td>0.10430</td>\n",
       "      <td>0.1809</td>\n",
       "      <td>0.05883</td>\n",
       "      <td>...</td>\n",
       "      <td>16.67</td>\n",
       "      <td>152.20</td>\n",
       "      <td>1575.0</td>\n",
       "      <td>0.1374</td>\n",
       "      <td>0.2050</td>\n",
       "      <td>0.4000</td>\n",
       "      <td>0.1625</td>\n",
       "      <td>0.2364</td>\n",
       "      <td>0.07678</td>\n",
       "      <td>0.0</td>\n",
       "    </tr>\n",
       "  </tbody>\n",
       "</table>\n",
       "<p>5 rows × 31 columns</p>\n",
       "</div>"
      ],
      "text/plain": [
       "   mean radius  mean texture  mean perimeter  mean area  mean smoothness  \\\n",
       "0        17.99         10.38          122.80     1001.0          0.11840   \n",
       "1        20.57         17.77          132.90     1326.0          0.08474   \n",
       "2        19.69         21.25          130.00     1203.0          0.10960   \n",
       "3        11.42         20.38           77.58      386.1          0.14250   \n",
       "4        20.29         14.34          135.10     1297.0          0.10030   \n",
       "\n",
       "   mean compactness  mean concavity  mean concave points  mean symmetry  \\\n",
       "0           0.27760          0.3001              0.14710         0.2419   \n",
       "1           0.07864          0.0869              0.07017         0.1812   \n",
       "2           0.15990          0.1974              0.12790         0.2069   \n",
       "3           0.28390          0.2414              0.10520         0.2597   \n",
       "4           0.13280          0.1980              0.10430         0.1809   \n",
       "\n",
       "   mean fractal dimension  ...  worst texture  worst perimeter  worst area  \\\n",
       "0                 0.07871  ...          17.33           184.60      2019.0   \n",
       "1                 0.05667  ...          23.41           158.80      1956.0   \n",
       "2                 0.05999  ...          25.53           152.50      1709.0   \n",
       "3                 0.09744  ...          26.50            98.87       567.7   \n",
       "4                 0.05883  ...          16.67           152.20      1575.0   \n",
       "\n",
       "   worst smoothness  worst compactness  worst concavity  worst concave points  \\\n",
       "0            0.1622             0.6656           0.7119                0.2654   \n",
       "1            0.1238             0.1866           0.2416                0.1860   \n",
       "2            0.1444             0.4245           0.4504                0.2430   \n",
       "3            0.2098             0.8663           0.6869                0.2575   \n",
       "4            0.1374             0.2050           0.4000                0.1625   \n",
       "\n",
       "   worst symmetry  worst fractal dimension  targets  \n",
       "0          0.4601                  0.11890      0.0  \n",
       "1          0.2750                  0.08902      0.0  \n",
       "2          0.3613                  0.08758      0.0  \n",
       "3          0.6638                  0.17300      0.0  \n",
       "4          0.2364                  0.07678      0.0  \n",
       "\n",
       "[5 rows x 31 columns]"
      ]
     },
     "execution_count": 12,
     "metadata": {},
     "output_type": "execute_result"
    }
   ],
   "source": [
    "breast_dataset[: 5]"
   ]
  },
  {
   "cell_type": "code",
   "execution_count": 13,
   "id": "97c19d29-3671-4e93-a082-1e27108373bd",
   "metadata": {},
   "outputs": [
    {
     "name": "stdout",
     "output_type": "stream",
     "text": [
      "X shape:  (569, 30) X values:  [[1.799e+01 1.038e+01 1.228e+02 1.001e+03 1.184e-01 2.776e-01 3.001e-01\n",
      "  1.471e-01 2.419e-01 7.871e-02 1.095e+00 9.053e-01 8.589e+00 1.534e+02\n",
      "  6.399e-03 4.904e-02 5.373e-02 1.587e-02 3.003e-02 6.193e-03 2.538e+01\n",
      "  1.733e+01 1.846e+02 2.019e+03 1.622e-01 6.656e-01 7.119e-01 2.654e-01\n",
      "  4.601e-01 1.189e-01]]\n",
      "Y shape: (569,) Y values: [0. 0. 0. 0. 0.]\n"
     ]
    }
   ],
   "source": [
    "# This creates arrays to be used with machine learning algorithm\n",
    "X = breast_dataset.loc[:, features].values \n",
    "Y = breast_dataset.loc[:, ['targets']].values\n",
    "\n",
    "# Reshape Y to be an array instead of a column vector. This is for logistic regression\n",
    "Y_array = Y.reshape(569,)\n",
    "\n",
    "print(\"X shape: \", X.shape,\"X values: \", X[: 1])\n",
    "print(\"Y shape:\", Y_array.shape,\"Y values:\",Y_array[: 5])"
   ]
  },
  {
   "cell_type": "code",
   "execution_count": 14,
   "id": "ac833271-270f-49ae-8f0f-26b930e20eb8",
   "metadata": {},
   "outputs": [],
   "source": [
    "# Split the datasets into training/test groups. In this case, an 80/20% split was used. \n",
    "from sklearn.model_selection import train_test_split \n",
    "X_train, X_test, Y_train, Y_test = train_test_split(X, Y_array, test_size = 0.20, random_state = 0) "
   ]
  },
  {
   "cell_type": "code",
   "execution_count": 15,
   "id": "e3a423f3-a1e1-4a08-86c0-14f831b71186",
   "metadata": {},
   "outputs": [],
   "source": [
    "# Feature Scaling. MinMax scaling was used prior to running logistic regression\n",
    "from sklearn.preprocessing import StandardScaler, MinMaxScaler \n",
    "\n",
    "#sc_X = StandardScaler() \n",
    "sc_X = MinMaxScaler() \n",
    "X_train = sc_X.fit_transform(X_train) \n",
    "X_test = sc_X.transform(X_test) "
   ]
  },
  {
   "cell_type": "code",
   "execution_count": 16,
   "id": "9447476b-2b42-48b9-ae0c-e83a9f2c4e5f",
   "metadata": {},
   "outputs": [
    {
     "name": "stdout",
     "output_type": "stream",
     "text": [
      "Max iterations:  100\n",
      "Y_pred shape: (114,)\n",
      "Actual results: [0. 1. 1. 1. 1.]\n",
      "Predicted results: [0. 1. 1. 1. 1.]\n"
     ]
    }
   ],
   "source": [
    "# Logistic Regression \n",
    "\n",
    "from sklearn.linear_model import LogisticRegression \n",
    "\n",
    "classifier = LogisticRegression(random_state=0) \n",
    "print(\"Max iterations: \",classifier.max_iter)\n",
    "\n",
    "classifier.fit(X_train, Y_train) \n",
    "Y_pred = classifier.predict(X_test) \n",
    "print(\"Y_pred shape:\",Y_pred.shape)\n",
    "print(\"Actual results:\",Y_test[0:5])\n",
    "print(\"Predicted results:\",Y_pred[0:5])"
   ]
  },
  {
   "cell_type": "code",
   "execution_count": 17,
   "id": "4c2692f4-a629-4487-828b-ee6bfa082b69",
   "metadata": {},
   "outputs": [],
   "source": [
    "# Import and create a confusion matrix to compare 'Y_pred' to 'Y_test'\n",
    "from sklearn.metrics import confusion_matrix \n",
    "cnf_matrix = confusion_matrix(Y_test, Y_pred) "
   ]
  },
  {
   "cell_type": "code",
   "execution_count": 18,
   "id": "54bb9e60-271c-466e-88cf-5d267f3d38e1",
   "metadata": {},
   "outputs": [
    {
     "name": "stdout",
     "output_type": "stream",
     "text": [
      "Accuracy:  96.49 %\n",
      "Precision: 94.37 %\n",
      "Recall: 100.0 %\n"
     ]
    }
   ],
   "source": [
    "#Accuracy, Precision, Recall for Logistic Regression\n",
    "\n",
    "from sklearn import metrics \n",
    "\n",
    "print(\"Accuracy: \",round(metrics.accuracy_score(Y_test, Y_pred)*100,2),\"%\")\n",
    "print(\"Precision:\",round(metrics.precision_score(Y_test, Y_pred)*100,2),\"%\") \n",
    "print(\"Recall:\",round(metrics.recall_score(Y_test, Y_pred)*100,2),\"%\") "
   ]
  },
  {
   "cell_type": "code",
   "execution_count": 19,
   "id": "213b6734-65e5-4a54-9802-0cb6330aeea5",
   "metadata": {},
   "outputs": [
    {
     "data": {
      "text/plain": [
       "Text(0.5, 257.44, 'Predicted label')"
      ]
     },
     "execution_count": 19,
     "metadata": {},
     "output_type": "execute_result"
    },
    {
     "data": {
      "image/png": "[encoded data removed]",
      "text/plain": [
       "<Figure size 432x288 with 2 Axes>"
      ]
     },
     "metadata": {
      "needs_background": "light"
     },
     "output_type": "display_data"
    }
   ],
   "source": [
    "# Plotting Confusion Matrix Heatmap\n",
    "\n",
    "import seaborn as sns \n",
    "class_names=[0,1] # name  of classes \n",
    "fig, ax = plt.subplots() \n",
    "tick_marks = np.arange(len(class_names)) \n",
    "plt.xticks(tick_marks, class_names) \n",
    "plt.yticks(tick_marks, class_names) \n",
    "\n",
    "# create heatmap \n",
    "sns.heatmap(pd.DataFrame(cnf_matrix), annot=True, cmap=\"YlGnBu\" ,fmt='g') \n",
    "ax.xaxis.set_label_position(\"top\") \n",
    "plt.tight_layout() \n",
    "plt.title('Logistic Regression', y=1.1) \n",
    "plt.ylabel('Actual label') \n",
    "plt.xlabel('Predicted label') "
   ]
  },
  {
   "cell_type": "code",
   "execution_count": 20,
   "id": "fde2dba3-0d1b-488c-88c0-a9a67cac3c0c",
   "metadata": {},
   "outputs": [],
   "source": [
    "# How do I show loss and classification accuracy over iterations?"
   ]
  },
  {
   "cell_type": "markdown",
   "id": "fe927211-2005-40dd-8c83-ba0967653f58",
   "metadata": {},
   "source": [
    "Conclusion:\n",
    "\n",
    "When a MinMax scaler was used to pre-process the data, logistic regression had excellent results. \n",
    "I was not sure how to plot loss and classification accuracy over iterations in this problem. I think \n",
    "That I need to know more about how the Logistic Regression algorithm works first. "
   ]
  },
  {
   "cell_type": "code",
   "execution_count": 21,
   "id": "479e793a-c975-4bd5-94dc-16a050226b66",
   "metadata": {},
   "outputs": [],
   "source": [
    "#$$$$$$$$$$$$$$$$$$$$$$$$$$$  Problem 2: PCA feature extraction  $$$$$$$$$$$$$$$$$$$$$$$$$$$$$$$$$$$$$$$$$$$$$$$$$$$$$$$$$$$$$$$$$$$$$$$$$$$$$$$$$$"
   ]
  },
  {
   "cell_type": "code",
   "execution_count": 22,
   "id": "97c921e9-9200-4f12-9001-c12b35435c49",
   "metadata": {},
   "outputs": [],
   "source": [
    "# Before beginning PCA, we want to standardize all of the feature samples\n",
    "\n",
    "from sklearn.preprocessing import StandardScaler \n",
    "\n",
    "# Separating out the features  \n",
    "x = breast_dataset.loc[:, features].values \n",
    "\n",
    "# Separating out the target \n",
    "y = breast_dataset.loc[:, ['targets']].values\n",
    "\n",
    "# Standardizing the features array in 'breast_dataset'\n",
    "x = StandardScaler().fit_transform(x) "
   ]
  },
  {
   "cell_type": "code",
   "execution_count": 23,
   "id": "60945e15-29a7-43d3-af6c-2b69df562ea7",
   "metadata": {},
   "outputs": [
    {
     "name": "stdout",
     "output_type": "stream",
     "text": [
      "          0          1\n",
      "0  9.192837   1.948583\n",
      "1  2.387802  -3.768172\n",
      "2  5.733896  -1.075174\n",
      "3  7.122953  10.275589\n",
      "4  3.935302  -1.948072\n"
     ]
    }
   ],
   "source": [
    "# Run the PCA, in this case make n_components = 2. Do this for different values of n_components \n",
    "# Possibly create a function that does this?\n",
    "\n",
    "from sklearn.decomposition import PCA \n",
    "\n",
    "pca = PCA(n_components=2) \n",
    "principalComponents = pca.fit_transform(x) \n",
    "principalDf = pd.DataFrame(data = principalComponents) # , columns = ['principal component 1', 'principal component 2']) \n",
    "print(principalDf[: 5])"
   ]
  },
  {
   "cell_type": "code",
   "execution_count": 24,
   "id": "6996b60e-53cf-43f4-8fb3-6875ccfcbcb9",
   "metadata": {},
   "outputs": [],
   "source": [
    "# concatonate principalDf and the 'targets' column\n",
    "finalDF = pd.concat([principalDf, breast_dataset[['targets']]], axis = 1)"
   ]
  },
  {
   "cell_type": "code",
   "execution_count": 25,
   "id": "fd5b9094-c222-4ba0-bd98-20cedc8a6443",
   "metadata": {},
   "outputs": [
    {
     "data": {
      "image/png": "[encoded data removed]",
      "text/plain": [
       "<Figure size 576x576 with 1 Axes>"
      ]
     },
     "metadata": {
      "needs_background": "light"
     },
     "output_type": "display_data"
    }
   ],
   "source": [
    "# This is a plot of the principal components and colored to show\n",
    "# Where the Benign and Malignant cases show up\n",
    "\n",
    "fig = plt.figure(figsize = (8,8)) \n",
    "\n",
    "ax = fig.add_subplot(1,1,1)  \n",
    "ax.set_xlabel('Principal Component 1', fontsize = 15) \n",
    "ax.set_ylabel('Principal Component 2', fontsize = 15) \n",
    "ax.set_title('2 Component PCA', fontsize = 20) \n",
    "\n",
    "labels = [0,1] \n",
    "colors = ['g', 'r','b'] \n",
    "\n",
    "# What does this do? What is zip?\n",
    "for labels, color in zip(labels,colors): \n",
    "    \n",
    "    indicesToKeep = finalDF['targets'] == labels\n",
    "    ax.scatter(finalDF.loc[indicesToKeep, 0] \n",
    "               , finalDF.loc[indicesToKeep, 1] \n",
    "               , c = color \n",
    "               , s = 50) \n",
    "ax.legend([\"Benign\",\"Malignant\"]) \n",
    "ax.grid() "
   ]
  },
  {
   "cell_type": "code",
   "execution_count": 26,
   "id": "0b4ba0e3-871b-4e02-b770-d9ef9dbcd797",
   "metadata": {},
   "outputs": [],
   "source": [
    "# Problem Statement: Identify the optimum number of K, principleComponents that achieve the highest classification accuracy. \n",
    "#                    Plot your classification accuracy,precision, and recall over a different number of K's."
   ]
  },
  {
   "cell_type": "code",
   "execution_count": 27,
   "id": "a8ca82b5-2d04-43a9-84a5-406da42186f6",
   "metadata": {},
   "outputs": [],
   "source": [
    "# Defining a max Value of K we want plotted\n",
    "upperK = 15"
   ]
  },
  {
   "cell_type": "code",
   "execution_count": 28,
   "id": "8c8369c5-ad3a-4610-9dee-9c34779fb5e9",
   "metadata": {},
   "outputs": [
    {
     "name": "stdout",
     "output_type": "stream",
     "text": [
      "Accuracy Length: 15 , [93.  91.2 94.7 95.6 95.6 95.6 95.6 94.7 94.7 96.5 96.5 96.5 96.5 96.5\n",
      "  0. ]\n",
      " \n",
      "Precision Length: 15 , [96.83 93.85 95.52 95.59 95.59 95.59 95.59 95.52 95.52 97.01 97.01 97.01\n",
      " 97.01 97.01  0.  ]\n",
      " \n",
      "Recall Length: 15 , [91.04 91.04 95.52 97.01 97.01 97.01 97.01 95.52 95.52 97.01 97.01 97.01\n",
      " 97.01 97.01  0.  ]\n"
     ]
    }
   ],
   "source": [
    "# for loop to calculate the accuracy, precision, and recall for multiple values of K\n",
    "\n",
    "accuracy = np.zeros(upperK)\n",
    "precision = np.zeros(upperK)\n",
    "recall = np.zeros(upperK)\n",
    "\n",
    "for h in range(2,upperK+1):\n",
    "    a_list1 = list(range(0,h))\n",
    "    K1 = pca_iterations(h,x,y)\n",
    "    #print(K1)\n",
    "    #print(\"a_list: \",a_list1)\n",
    "    X = K1.loc[:, a_list1].values \n",
    "    Y = K1.loc[:, ['targets']].values\n",
    "    Y_array = Y.reshape(569,)\n",
    "    X_train, X_test, Y_train, Y_test = train_test_split(X, Y_array, test_size = 0.20, random_state = 0)\n",
    "    classifier.fit(X_train, Y_train) \n",
    "    Y_pred = classifier.predict(X_test) \n",
    "    cnf_matrix = confusion_matrix(Y_test, Y_pred) \n",
    "    \n",
    "    accuracy[h-2] = round(metrics.accuracy_score(Y_test, Y_pred)*100,1)\n",
    "    precision[h-2] = round(metrics.precision_score(Y_test, Y_pred)*100,2)\n",
    "    recall[h-2] = round(metrics.recall_score(Y_test, Y_pred)*100,2)\n",
    "\n",
    "print(\"Accuracy Length:\",len(accuracy),\",\",accuracy)\n",
    "print(\" \")\n",
    "print(\"Precision Length:\",len(precision),\",\",precision)\n",
    "print(\" \")\n",
    "print(\"Recall Length:\",len(recall),\",\",recall)"
   ]
  },
  {
   "cell_type": "markdown",
   "id": "ecf049b8-e827-41db-b3c9-6b0918216a45",
   "metadata": {},
   "source": [
    "# The highest values for each of the metrics are:\n",
    "# Accuracy = 96.5%\n",
    "# Precision = 97.01%\n",
    "# Recall = 97.01%"
   ]
  },
  {
   "cell_type": "code",
   "execution_count": 29,
   "id": "7d652922-76ba-4360-9fb1-98054c85a5e0",
   "metadata": {},
   "outputs": [
    {
     "data": {
      "image/png": "[encoded data removed]",
      "text/plain": [
       "<Figure size 640x480 with 1 Axes>"
      ]
     },
     "metadata": {
      "needs_background": "light"
     },
     "output_type": "display_data"
    }
   ],
   "source": [
    "# This plots accuracy over multiple # of PCA component. It seems the minimum amount of PCA \n",
    "# components needed to obtain a good accuracy is 12. When a higher value of upperK is used\n",
    "# the results do not get any better.\n",
    "\n",
    "yes = np.arange(upperK)\n",
    "for i in range(len(yes)):\n",
    "    yes[i] = yes[i] + 2\n",
    "\n",
    "width = 0.25       \n",
    "# plt.bar(ind, men_means, width, label='Men')\n",
    "# plt.bar(ind + width, women_means, width, label='Women')    \n",
    "\n",
    "figure(figsize=(8, 6), dpi=80)\n",
    "plt.bar(yes, accuracy, color='blue',width=0.25, label = \"accuracy\")\n",
    "plt.bar(yes+width, precision, color='pink',width=0.25, label = \"precision\")\n",
    "plt.bar(yes+width+width, recall, color='green',width=0.25, label = \"recall\")\n",
    "\n",
    "plt.xlabel(\"# of PCA Components\")\n",
    "plt.ylabel(\"Accuracy [%]\")\n",
    "plt.title(\"Accuracy vs. # of PCA Components\")\n",
    "plt.axis([1, upperK+1, 85, 100])\n",
    "plt.legend(loc='best')\n",
    "plt.show()"
   ]
  },
  {
   "cell_type": "markdown",
   "id": "ca9a53b7-6613-46b3-87a1-fd3050fe75ef",
   "metadata": {},
   "source": [
    "Conclusion:\n",
    "\n",
    "Creating the algorithm to display the accuracy, precision, and recall together\n",
    "took a while to create. If it is correct, it tells us how transforming\n",
    "the original matrix to a K dimensions will affect model performance. Logistic \n",
    "regression using all features, and pre-processed using the MinMax scaler\n",
    "seems to outperform this model. "
   ]
  },
  {
   "cell_type": "code",
   "execution_count": 30,
   "id": "6d5a976f-3421-409e-9aa8-6153a14a9b19",
   "metadata": {},
   "outputs": [],
   "source": [
    "#$$$$$$$$$$$$$$$$$$$$$$$$$  Problem 3: LDA feature extraction  $$$$$$$$$$$$$$$$$$$$$$$$$$$$$$$$$$$$$$$$$$$$$$$$$$$$$$$$$$$$$$$$$$$$$$$$$$$$$$$$$$"
   ]
  },
  {
   "cell_type": "code",
   "execution_count": 31,
   "id": "e7cc02fb-3ddc-4ae3-8764-7e37d221f95b",
   "metadata": {},
   "outputs": [],
   "source": [
    "from sklearn.discriminant_analysis import LinearDiscriminantAnalysis \n",
    "from sklearn.metrics import accuracy_score \n",
    "from sklearn.metrics import confusion_matrix "
   ]
  },
  {
   "cell_type": "code",
   "execution_count": 32,
   "id": "6302b67f-25d1-439a-a709-59ddac0e9419",
   "metadata": {},
   "outputs": [
    {
     "name": "stdout",
     "output_type": "stream",
     "text": [
      "(569, 30)\n",
      "(569,)\n"
     ]
    }
   ],
   "source": [
    "breast_data = breast.data \n",
    "breast_labels = breast.target\n",
    "\n",
    "print(breast_data.shape)\n",
    "print(breast_labels.shape)"
   ]
  },
  {
   "cell_type": "code",
   "execution_count": 33,
   "id": "2ffc7d98-f6dc-4f2a-a713-0f19ef7011a2",
   "metadata": {},
   "outputs": [
    {
     "name": "stdout",
     "output_type": "stream",
     "text": [
      "Shape of LDA: (569, 1)   [[3.32392717]\n",
      " [2.31910801]\n",
      " [3.74742484]\n",
      " [4.04854946]\n",
      " [2.28115767]]\n"
     ]
    }
   ],
   "source": [
    "#Fitting LDA to breast dataset: \n",
    "lda = LinearDiscriminantAnalysis(n_components=1) \n",
    "lda_t = lda.fit_transform(breast_data,breast_labels) \n",
    "#Number of components (<= min(n_classes - 1, n_features)) for dimensionality reduction.\n",
    "print(\"Shape of LDA:\",lda_t.shape,\" \",lda_t[: 5])"
   ]
  },
  {
   "cell_type": "code",
   "execution_count": 34,
   "id": "14b078fe-3143-4902-a75a-db4438a4ab78",
   "metadata": {},
   "outputs": [],
   "source": [
    "# Run Bayes classifier\n",
    "from sklearn.naive_bayes import GaussianNB\n",
    "classifier = GaussianNB()\n",
    "classifier.fit(X_train,Y_train)\n",
    "prediction = classifier.predict(X_test)"
   ]
  },
  {
   "cell_type": "code",
   "execution_count": 35,
   "id": "0c8c019c-c80b-4cec-aaf3-0a35951ba785",
   "metadata": {},
   "outputs": [
    {
     "name": "stdout",
     "output_type": "stream",
     "text": [
      "Accuracy: 90.35\n",
      "Precision: 90.0\n",
      "Recall: 94.03\n"
     ]
    }
   ],
   "source": [
    "# Create a confusion matrix and then print out the Accuracy, Precision, and Recall \n",
    "# after completing a Bayes Classifier\n",
    "\n",
    "cnf_matrix = confusion_matrix(Y_test,prediction)\n",
    "print(\"Accuracy:\",round(metrics.accuracy_score(Y_test,prediction)*100,2))\n",
    "print(\"Precision:\",round(metrics.precision_score(Y_test,prediction)*100,2))\n",
    "print(\"Recall:\",round(metrics.recall_score(Y_test,prediction)*100,2))"
   ]
  },
  {
   "cell_type": "code",
   "execution_count": 36,
   "id": "6e0fa11f-fca4-405c-8778-0fa972183278",
   "metadata": {},
   "outputs": [
    {
     "data": {
      "text/plain": [
       "Text(0.5, 257.44, 'Predicted label')"
      ]
     },
     "execution_count": 36,
     "metadata": {},
     "output_type": "execute_result"
    },
    {
     "data": {
      "image/png": "[encoded data removed]",
      "text/plain": [
       "<Figure size 432x288 with 2 Axes>"
      ]
     },
     "metadata": {
      "needs_background": "light"
     },
     "output_type": "display_data"
    }
   ],
   "source": [
    "class_names=[0,1]\n",
    "fig, ax = plt.subplots()\n",
    "\n",
    "sns.heatmap(pd.DataFrame(cnf_matrix),annot=True,cmap=\"YlGnBu\",fmt='g')\n",
    "ax.xaxis.set_label_position(\"top\")\n",
    "plt.tight_layout()\n",
    "plt.title('Confusion matrix', y=1.1)\n",
    "tick_marks = np.arange(len(class_names))\n",
    "plt.xticks(tick_marks,class_names)\n",
    "plt.yticks(tick_marks,class_names)\n",
    "plt.ylabel('Actual label')\n",
    "plt.xlabel('Predicted label')"
   ]
  },
  {
   "cell_type": "markdown",
   "id": "8956e2ec-a6a5-4d41-9c36-25dbd9087462",
   "metadata": {},
   "source": [
    "Conclusion:\n",
    "\n",
    "Not sure why this is, but I cannot run the LDA with n_components > 1 for some reason.\n",
    "The accuracy, precision, and recall while using LDA in conjunction with a Bayes classifier\n",
    "was a bit lower that the PCA and even regular logistic regression. I believe that the key to possibly \n",
    "getting better results here is to understand how you can change the n_components to something \n",
    "other than 1. "
   ]
  },
  {
   "cell_type": "code",
   "execution_count": null,
   "id": "5d6e98b9-c7ce-474a-a0fc-be5ab2817816",
   "metadata": {},
   "outputs": [],
   "source": []
  },
  {
   "cell_type": "code",
   "execution_count": null,
   "id": "258f4427-38a7-4cfd-9478-367d0a6000b2",
   "metadata": {},
   "outputs": [],
   "source": []
  }
 ],
 "metadata": {
  "kernelspec": {
   "display_name": "Python 3",
   "language": "python",
   "name": "python3"
  },
  "language_info": {
   "codemirror_mode": {
    "name": "ipython",
    "version": 3
   },
   "file_extension": ".py",
   "mimetype": "text/x-python",
   "name": "python",
   "nbconvert_exporter": "python",
   "pygments_lexer": "ipython3",
   "version": "3.8.8"
  }
 },
 "nbformat": 4,
 "nbformat_minor": 5
}
