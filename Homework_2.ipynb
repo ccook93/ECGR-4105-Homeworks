{
 "cells": [
  {
   "cell_type": "code",
   "execution_count": 1,
   "id": "8c83d9fe-ccdc-420b-a924-554b35062484",
   "metadata": {},
   "outputs": [],
   "source": [
    "import numpy as np \n",
    "import matplotlib.pyplot as plt \n",
    "import pandas as pd \n",
    "import seaborn as sns"
   ]
  },
  {
   "cell_type": "code",
   "execution_count": 2,
   "id": "9120bc18-2a33-4800-b9b3-6306cdadc934",
   "metadata": {},
   "outputs": [],
   "source": [
    "#Function\n",
    "# Finds the mean of the nonzero values in a column, then replaces all zeros in that column with the mean value.\n",
    "\n",
    "def zero_to_mean(dataset,numcol): \n",
    "    \n",
    "    dataLen = len(dataset)\n",
    "    headers = dataset.columns\n",
    "    \n",
    "    for k in range(numcol):\n",
    "        mean = num = sum1 = 0\n",
    "        for i in range(dataLen):\n",
    "            if diabetes.values[i,k] > 0:\n",
    "                sum1 = sum1 + diabetes.values[i,k]\n",
    "                num = num + 1\n",
    "        mean = sum1/num\n",
    "        diabetes[headers[k]] = diabetes[headers[k]].replace([0],mean)\n",
    "        print(\"Mean\", k,\",\",mean)"
   ]
  },
  {
   "cell_type": "code",
   "execution_count": 3,
   "id": "e50357cc-5e8c-4c7d-9f68-b2ac6294db03",
   "metadata": {},
   "outputs": [
    {
     "data": {
      "text/html": [
       "<div>\n",
       "<style scoped>\n",
       "    .dataframe tbody tr th:only-of-type {\n",
       "        vertical-align: middle;\n",
       "    }\n",
       "\n",
       "    .dataframe tbody tr th {\n",
       "        vertical-align: top;\n",
       "    }\n",
       "\n",
       "    .dataframe thead th {\n",
       "        text-align: right;\n",
       "    }\n",
       "</style>\n",
       "<table border=\"1\" class=\"dataframe\">\n",
       "  <thead>\n",
       "    <tr style=\"text-align: right;\">\n",
       "      <th></th>\n",
       "      <th>Pregnancies</th>\n",
       "      <th>Glucose</th>\n",
       "      <th>BloodPressure</th>\n",
       "      <th>SkinThickness</th>\n",
       "      <th>Insulin</th>\n",
       "      <th>BMI</th>\n",
       "      <th>DiabetesPedigreeFunction</th>\n",
       "      <th>Age</th>\n",
       "      <th>Outcome</th>\n",
       "    </tr>\n",
       "  </thead>\n",
       "  <tbody>\n",
       "    <tr>\n",
       "      <th>0</th>\n",
       "      <td>6</td>\n",
       "      <td>148</td>\n",
       "      <td>72</td>\n",
       "      <td>35</td>\n",
       "      <td>0</td>\n",
       "      <td>33.6</td>\n",
       "      <td>0.627</td>\n",
       "      <td>50</td>\n",
       "      <td>1</td>\n",
       "    </tr>\n",
       "    <tr>\n",
       "      <th>1</th>\n",
       "      <td>1</td>\n",
       "      <td>85</td>\n",
       "      <td>66</td>\n",
       "      <td>29</td>\n",
       "      <td>0</td>\n",
       "      <td>26.6</td>\n",
       "      <td>0.351</td>\n",
       "      <td>31</td>\n",
       "      <td>0</td>\n",
       "    </tr>\n",
       "    <tr>\n",
       "      <th>2</th>\n",
       "      <td>8</td>\n",
       "      <td>183</td>\n",
       "      <td>64</td>\n",
       "      <td>0</td>\n",
       "      <td>0</td>\n",
       "      <td>23.3</td>\n",
       "      <td>0.672</td>\n",
       "      <td>32</td>\n",
       "      <td>1</td>\n",
       "    </tr>\n",
       "    <tr>\n",
       "      <th>3</th>\n",
       "      <td>1</td>\n",
       "      <td>89</td>\n",
       "      <td>66</td>\n",
       "      <td>23</td>\n",
       "      <td>94</td>\n",
       "      <td>28.1</td>\n",
       "      <td>0.167</td>\n",
       "      <td>21</td>\n",
       "      <td>0</td>\n",
       "    </tr>\n",
       "    <tr>\n",
       "      <th>4</th>\n",
       "      <td>0</td>\n",
       "      <td>137</td>\n",
       "      <td>40</td>\n",
       "      <td>35</td>\n",
       "      <td>168</td>\n",
       "      <td>43.1</td>\n",
       "      <td>2.288</td>\n",
       "      <td>33</td>\n",
       "      <td>1</td>\n",
       "    </tr>\n",
       "    <tr>\n",
       "      <th>5</th>\n",
       "      <td>5</td>\n",
       "      <td>116</td>\n",
       "      <td>74</td>\n",
       "      <td>0</td>\n",
       "      <td>0</td>\n",
       "      <td>25.6</td>\n",
       "      <td>0.201</td>\n",
       "      <td>30</td>\n",
       "      <td>0</td>\n",
       "    </tr>\n",
       "    <tr>\n",
       "      <th>6</th>\n",
       "      <td>3</td>\n",
       "      <td>78</td>\n",
       "      <td>50</td>\n",
       "      <td>32</td>\n",
       "      <td>88</td>\n",
       "      <td>31.0</td>\n",
       "      <td>0.248</td>\n",
       "      <td>26</td>\n",
       "      <td>1</td>\n",
       "    </tr>\n",
       "    <tr>\n",
       "      <th>7</th>\n",
       "      <td>10</td>\n",
       "      <td>115</td>\n",
       "      <td>0</td>\n",
       "      <td>0</td>\n",
       "      <td>0</td>\n",
       "      <td>35.3</td>\n",
       "      <td>0.134</td>\n",
       "      <td>29</td>\n",
       "      <td>0</td>\n",
       "    </tr>\n",
       "    <tr>\n",
       "      <th>8</th>\n",
       "      <td>2</td>\n",
       "      <td>197</td>\n",
       "      <td>70</td>\n",
       "      <td>45</td>\n",
       "      <td>543</td>\n",
       "      <td>30.5</td>\n",
       "      <td>0.158</td>\n",
       "      <td>53</td>\n",
       "      <td>1</td>\n",
       "    </tr>\n",
       "    <tr>\n",
       "      <th>9</th>\n",
       "      <td>8</td>\n",
       "      <td>125</td>\n",
       "      <td>96</td>\n",
       "      <td>0</td>\n",
       "      <td>0</td>\n",
       "      <td>0.0</td>\n",
       "      <td>0.232</td>\n",
       "      <td>54</td>\n",
       "      <td>1</td>\n",
       "    </tr>\n",
       "  </tbody>\n",
       "</table>\n",
       "</div>"
      ],
      "text/plain": [
       "   Pregnancies  Glucose  BloodPressure  SkinThickness  Insulin   BMI  \\\n",
       "0            6      148             72             35        0  33.6   \n",
       "1            1       85             66             29        0  26.6   \n",
       "2            8      183             64              0        0  23.3   \n",
       "3            1       89             66             23       94  28.1   \n",
       "4            0      137             40             35      168  43.1   \n",
       "5            5      116             74              0        0  25.6   \n",
       "6            3       78             50             32       88  31.0   \n",
       "7           10      115              0              0        0  35.3   \n",
       "8            2      197             70             45      543  30.5   \n",
       "9            8      125             96              0        0   0.0   \n",
       "\n",
       "   DiabetesPedigreeFunction  Age  Outcome  \n",
       "0                     0.627   50        1  \n",
       "1                     0.351   31        0  \n",
       "2                     0.672   32        1  \n",
       "3                     0.167   21        0  \n",
       "4                     2.288   33        1  \n",
       "5                     0.201   30        0  \n",
       "6                     0.248   26        1  \n",
       "7                     0.134   29        0  \n",
       "8                     0.158   53        1  \n",
       "9                     0.232   54        1  "
      ]
     },
     "execution_count": 3,
     "metadata": {},
     "output_type": "execute_result"
    }
   ],
   "source": [
    "diabetes = pd.read_csv('diabetes.csv') \n",
    "diabetes.head(10)  "
   ]
  },
  {
   "cell_type": "code",
   "execution_count": 4,
   "id": "443b9679-5458-4434-b1a5-87f4ad0f1ce0",
   "metadata": {},
   "outputs": [
    {
     "name": "stdout",
     "output_type": "stream",
     "text": [
      "Mean 0 , 4.494672754946728\n",
      "Mean 1 , 121.6867627785059\n",
      "Mean 2 , 72.40518417462484\n",
      "Mean 3 , 29.153419593345657\n",
      "Mean 4 , 155.5482233502538\n",
      "Mean 5 , 32.45746367239099\n",
      "Mean 6 , 0.4718763020833327\n",
      "Mean 7 , 33.240885416666664\n"
     ]
    }
   ],
   "source": [
    "# Data Addition\n",
    "# The function zero_to_mean takes in a dataset, and number of columns to operate on.\n",
    "\n",
    "zero_to_mean(diabetes,8)"
   ]
  },
  {
   "cell_type": "code",
   "execution_count": 5,
   "id": "74f5abd5-57d2-45bc-8f6b-5963bf7f0842",
   "metadata": {},
   "outputs": [
    {
     "data": {
      "text/html": [
       "<div>\n",
       "<style scoped>\n",
       "    .dataframe tbody tr th:only-of-type {\n",
       "        vertical-align: middle;\n",
       "    }\n",
       "\n",
       "    .dataframe tbody tr th {\n",
       "        vertical-align: top;\n",
       "    }\n",
       "\n",
       "    .dataframe thead th {\n",
       "        text-align: right;\n",
       "    }\n",
       "</style>\n",
       "<table border=\"1\" class=\"dataframe\">\n",
       "  <thead>\n",
       "    <tr style=\"text-align: right;\">\n",
       "      <th></th>\n",
       "      <th>Pregnancies</th>\n",
       "      <th>Glucose</th>\n",
       "      <th>BloodPressure</th>\n",
       "      <th>SkinThickness</th>\n",
       "      <th>Insulin</th>\n",
       "      <th>BMI</th>\n",
       "      <th>DiabetesPedigreeFunction</th>\n",
       "      <th>Age</th>\n",
       "      <th>Outcome</th>\n",
       "    </tr>\n",
       "  </thead>\n",
       "  <tbody>\n",
       "    <tr>\n",
       "      <th>0</th>\n",
       "      <td>6.000000</td>\n",
       "      <td>148.0</td>\n",
       "      <td>72.000000</td>\n",
       "      <td>35.00000</td>\n",
       "      <td>155.548223</td>\n",
       "      <td>33.600000</td>\n",
       "      <td>0.627</td>\n",
       "      <td>50</td>\n",
       "      <td>1</td>\n",
       "    </tr>\n",
       "    <tr>\n",
       "      <th>1</th>\n",
       "      <td>1.000000</td>\n",
       "      <td>85.0</td>\n",
       "      <td>66.000000</td>\n",
       "      <td>29.00000</td>\n",
       "      <td>155.548223</td>\n",
       "      <td>26.600000</td>\n",
       "      <td>0.351</td>\n",
       "      <td>31</td>\n",
       "      <td>0</td>\n",
       "    </tr>\n",
       "    <tr>\n",
       "      <th>2</th>\n",
       "      <td>8.000000</td>\n",
       "      <td>183.0</td>\n",
       "      <td>64.000000</td>\n",
       "      <td>29.15342</td>\n",
       "      <td>155.548223</td>\n",
       "      <td>23.300000</td>\n",
       "      <td>0.672</td>\n",
       "      <td>32</td>\n",
       "      <td>1</td>\n",
       "    </tr>\n",
       "    <tr>\n",
       "      <th>3</th>\n",
       "      <td>1.000000</td>\n",
       "      <td>89.0</td>\n",
       "      <td>66.000000</td>\n",
       "      <td>23.00000</td>\n",
       "      <td>94.000000</td>\n",
       "      <td>28.100000</td>\n",
       "      <td>0.167</td>\n",
       "      <td>21</td>\n",
       "      <td>0</td>\n",
       "    </tr>\n",
       "    <tr>\n",
       "      <th>4</th>\n",
       "      <td>4.494673</td>\n",
       "      <td>137.0</td>\n",
       "      <td>40.000000</td>\n",
       "      <td>35.00000</td>\n",
       "      <td>168.000000</td>\n",
       "      <td>43.100000</td>\n",
       "      <td>2.288</td>\n",
       "      <td>33</td>\n",
       "      <td>1</td>\n",
       "    </tr>\n",
       "    <tr>\n",
       "      <th>5</th>\n",
       "      <td>5.000000</td>\n",
       "      <td>116.0</td>\n",
       "      <td>74.000000</td>\n",
       "      <td>29.15342</td>\n",
       "      <td>155.548223</td>\n",
       "      <td>25.600000</td>\n",
       "      <td>0.201</td>\n",
       "      <td>30</td>\n",
       "      <td>0</td>\n",
       "    </tr>\n",
       "    <tr>\n",
       "      <th>6</th>\n",
       "      <td>3.000000</td>\n",
       "      <td>78.0</td>\n",
       "      <td>50.000000</td>\n",
       "      <td>32.00000</td>\n",
       "      <td>88.000000</td>\n",
       "      <td>31.000000</td>\n",
       "      <td>0.248</td>\n",
       "      <td>26</td>\n",
       "      <td>1</td>\n",
       "    </tr>\n",
       "    <tr>\n",
       "      <th>7</th>\n",
       "      <td>10.000000</td>\n",
       "      <td>115.0</td>\n",
       "      <td>72.405184</td>\n",
       "      <td>29.15342</td>\n",
       "      <td>155.548223</td>\n",
       "      <td>35.300000</td>\n",
       "      <td>0.134</td>\n",
       "      <td>29</td>\n",
       "      <td>0</td>\n",
       "    </tr>\n",
       "    <tr>\n",
       "      <th>8</th>\n",
       "      <td>2.000000</td>\n",
       "      <td>197.0</td>\n",
       "      <td>70.000000</td>\n",
       "      <td>45.00000</td>\n",
       "      <td>543.000000</td>\n",
       "      <td>30.500000</td>\n",
       "      <td>0.158</td>\n",
       "      <td>53</td>\n",
       "      <td>1</td>\n",
       "    </tr>\n",
       "    <tr>\n",
       "      <th>9</th>\n",
       "      <td>8.000000</td>\n",
       "      <td>125.0</td>\n",
       "      <td>96.000000</td>\n",
       "      <td>29.15342</td>\n",
       "      <td>155.548223</td>\n",
       "      <td>32.457464</td>\n",
       "      <td>0.232</td>\n",
       "      <td>54</td>\n",
       "      <td>1</td>\n",
       "    </tr>\n",
       "  </tbody>\n",
       "</table>\n",
       "</div>"
      ],
      "text/plain": [
       "   Pregnancies  Glucose  BloodPressure  SkinThickness     Insulin        BMI  \\\n",
       "0     6.000000    148.0      72.000000       35.00000  155.548223  33.600000   \n",
       "1     1.000000     85.0      66.000000       29.00000  155.548223  26.600000   \n",
       "2     8.000000    183.0      64.000000       29.15342  155.548223  23.300000   \n",
       "3     1.000000     89.0      66.000000       23.00000   94.000000  28.100000   \n",
       "4     4.494673    137.0      40.000000       35.00000  168.000000  43.100000   \n",
       "5     5.000000    116.0      74.000000       29.15342  155.548223  25.600000   \n",
       "6     3.000000     78.0      50.000000       32.00000   88.000000  31.000000   \n",
       "7    10.000000    115.0      72.405184       29.15342  155.548223  35.300000   \n",
       "8     2.000000    197.0      70.000000       45.00000  543.000000  30.500000   \n",
       "9     8.000000    125.0      96.000000       29.15342  155.548223  32.457464   \n",
       "\n",
       "   DiabetesPedigreeFunction  Age  Outcome  \n",
       "0                     0.627   50        1  \n",
       "1                     0.351   31        0  \n",
       "2                     0.672   32        1  \n",
       "3                     0.167   21        0  \n",
       "4                     2.288   33        1  \n",
       "5                     0.201   30        0  \n",
       "6                     0.248   26        1  \n",
       "7                     0.134   29        0  \n",
       "8                     0.158   53        1  \n",
       "9                     0.232   54        1  "
      ]
     },
     "execution_count": 5,
     "metadata": {},
     "output_type": "execute_result"
    }
   ],
   "source": [
    "diabetes.head(10)  "
   ]
  },
  {
   "cell_type": "code",
   "execution_count": 6,
   "id": "2696050c-42c2-4da3-858d-8332b2b47d15",
   "metadata": {},
   "outputs": [],
   "source": [
    "# use bivariate correlation to find correlation between each parameter \n",
    "corr = diabetes.corr(method='pearson') \n",
    "# print(corr[:5])"
   ]
  },
  {
   "cell_type": "code",
   "execution_count": 7,
   "id": "3c3a1041-6c24-46ca-ab8a-e9042affce91",
   "metadata": {},
   "outputs": [
    {
     "data": {
      "image/png": "[encoded data removed]",
      "text/plain": [
       "<Figure size 432x288 with 2 Axes>"
      ]
     },
     "metadata": {
      "needs_background": "light"
     },
     "output_type": "display_data"
    }
   ],
   "source": [
    "ax = sns.heatmap(corr, annot=True,linewidths=.5,xticklabels=corr.columns,yticklabels=corr.columns)"
   ]
  },
  {
   "cell_type": "code",
   "execution_count": 8,
   "id": "b72ff7b8-88a0-4de7-9942-04cfc3bd8a87",
   "metadata": {},
   "outputs": [],
   "source": [
    "################################# Problem 1 #################################"
   ]
  },
  {
   "cell_type": "code",
   "execution_count": 9,
   "id": "1c228f9f-45de-4fc2-a8d4-f9c982f4542a",
   "metadata": {},
   "outputs": [],
   "source": [
    "# Using all labels in my training. It seems to work best this way \n",
    "\n",
    "X = diabetes.iloc[:, [0,1,2,3,4,5,6,7]].values \n",
    "Y = diabetes.iloc[:, 8].values "
   ]
  },
  {
   "cell_type": "code",
   "execution_count": 10,
   "id": "219915a1-9fbc-40dd-9a02-afcddafe9cb1",
   "metadata": {},
   "outputs": [],
   "source": [
    "# Train and Test Split\n",
    "\n",
    "from sklearn.model_selection import train_test_split \n",
    "X_train, X_test, Y_train, Y_test = train_test_split(X, Y, test_size = 0.25, random_state = 0) "
   ]
  },
  {
   "cell_type": "code",
   "execution_count": 11,
   "id": "c5a96dbe-cb52-4bd4-bec3-336188dd85a0",
   "metadata": {},
   "outputs": [],
   "source": [
    "# Feature Scaling\n",
    "\n",
    "from sklearn.preprocessing import StandardScaler, MinMaxScaler \n",
    "#sc_X = StandardScaler() \n",
    "sc_X = MinMaxScaler() \n",
    "X_train = sc_X.fit_transform(X_train) \n",
    "X_test = sc_X.transform(X_test) "
   ]
  },
  {
   "cell_type": "code",
   "execution_count": 12,
   "id": "520ed7f1-830c-4d9e-9c83-c7c27899823b",
   "metadata": {},
   "outputs": [
    {
     "data": {
      "text/plain": [
       "array([1, 0, 0, 1, 0, 0, 1, 1, 0], dtype=int64)"
      ]
     },
     "execution_count": 12,
     "metadata": {},
     "output_type": "execute_result"
    }
   ],
   "source": [
    "# Logistic Regression \n",
    "\n",
    "from sklearn.linear_model import LogisticRegression \n",
    "classifier = LogisticRegression(random_state=0) \n",
    "classifier.fit(X_train, Y_train) \n",
    "Y_pred = classifier.predict(X_test) \n",
    "Y_pred[0:9] "
   ]
  },
  {
   "cell_type": "code",
   "execution_count": 13,
   "id": "55bc5dc4-7abc-4275-a32e-a0603baeaa26",
   "metadata": {},
   "outputs": [],
   "source": [
    "# Confusion Matrix, Logistic Regression\n",
    "\n",
    "from sklearn.metrics import confusion_matrix \n",
    "cnf_matrix = confusion_matrix(Y_test, Y_pred) \n",
    "# cnf_matrix "
   ]
  },
  {
   "cell_type": "code",
   "execution_count": 14,
   "id": "cff35ab5-21c6-454d-b5e7-7f19b5a6bf6a",
   "metadata": {},
   "outputs": [
    {
     "name": "stdout",
     "output_type": "stream",
     "text": [
      "Accuracy:  79.69 %\n",
      "Precision: 76.74 %\n",
      "Recall: 53.23 %\n"
     ]
    }
   ],
   "source": [
    "#Accuracy, Precision, Recall for Logistic Regression\n",
    "\n",
    "from sklearn import metrics \n",
    "print(\"Accuracy: \",round(metrics.accuracy_score(Y_test, Y_pred)*100,2),\"%\")\n",
    "print(\"Precision:\",round(metrics.precision_score(Y_test, Y_pred)*100,2),\"%\") \n",
    "print(\"Recall:\",round(metrics.recall_score(Y_test, Y_pred)*100,2),\"%\") "
   ]
  },
  {
   "cell_type": "code",
   "execution_count": 15,
   "id": "4b2e9d1f-16c0-46a8-ac02-9eef0ec89e2a",
   "metadata": {},
   "outputs": [
    {
     "data": {
      "text/plain": [
       "Text(0.5, 257.44, 'Predicted label')"
      ]
     },
     "execution_count": 15,
     "metadata": {},
     "output_type": "execute_result"
    },
    {
     "data": {
      "image/png": "[encoded data removed]",
      "text/plain": [
       "<Figure size 432x288 with 2 Axes>"
      ]
     },
     "metadata": {
      "needs_background": "light"
     },
     "output_type": "display_data"
    }
   ],
   "source": [
    "# Confusion Matrix Heatmap\n",
    "\n",
    "import seaborn as sns \n",
    "class_names=[0,1] # name  of classes \n",
    "fig, ax = plt.subplots() \n",
    "tick_marks = np.arange(len(class_names)) \n",
    "plt.xticks(tick_marks, class_names) \n",
    "plt.yticks(tick_marks, class_names) \n",
    "\n",
    "# create heatmap \n",
    "sns.heatmap(pd.DataFrame(cnf_matrix), annot=True, cmap=\"YlGnBu\" ,fmt='g') \n",
    "ax.xaxis.set_label_position(\"top\") \n",
    "plt.tight_layout() \n",
    "plt.title('Logistic Regression', y=1.1) \n",
    "plt.ylabel('Actual label') \n",
    "plt.xlabel('Predicted label') "
   ]
  },
  {
   "cell_type": "code",
   "execution_count": 16,
   "id": "62106dc1-273b-4391-acfd-3a3f6f8d7c08",
   "metadata": {},
   "outputs": [],
   "source": [
    "# This section is supposed to be for drawing a color map for the logistic regression. Not entirely sure how this works.\n",
    "# plt.countourf produces a warning and I am not entirely sure why\n",
    "\n",
    "#import warnings\n",
    "# from matplotlib.colors import ListedColormap\n",
    "# warnings.filterwarnings('ignore') \n",
    "# x_set, y_set = X_test, Y_test\n",
    "# x1, x2 = np.meshgrid(np.arange(start = x_set[:,0].min()-1,stop = x_set[:,0].max()+1, step =0.01), np.arange(start = x_set[:,1].min()-1,stop = x_set[:,1].max()+1, step =0.01))\n",
    "# plt.contourf(x1, x2, classifier.predict(np.array([x1.ravel(), x2.ravel()]).T).reshape(x1.shape), alpha = 0.75, cmap = ListedColormap(('red', 'green')))\n",
    "# plt.xlim(x1.min(), x1.max())\n",
    "# plt.ylim(x1.min(), x2.max())\n",
    "# for i,j in enumerate(np.unique(y_set)):\n",
    "#     plt.scatter(x_set[y_set == j, 0], x_set[y_set == j, 1],\n",
    "#     c = ListedColormap(('yellow', 'blue'))(i),label = j)\n",
    "# plt.title('Logistic Regression (Test set)') \n",
    "# plt.xlabel('Age') \n",
    "# plt.ylabel('Estimated Salary')\n",
    "# plt.show()\n",
    "# print(x1.shape)\n",
    "# print(x2.shape)"
   ]
  },
  {
   "cell_type": "code",
   "execution_count": 17,
   "id": "5ecaee3d-7e63-4eb7-91a8-e7b50e3ed6d8",
   "metadata": {},
   "outputs": [],
   "source": [
    "################################# Problem 2 #################################"
   ]
  },
  {
   "cell_type": "code",
   "execution_count": 18,
   "id": "d18084eb-7a47-4536-812e-1cd05b949118",
   "metadata": {},
   "outputs": [
    {
     "name": "stdout",
     "output_type": "stream",
     "text": [
      "Mean 0 , 4.494672754946728\n",
      "Mean 1 , 121.6867627785059\n",
      "Mean 2 , 72.40518417462484\n",
      "Mean 3 , 29.153419593345657\n",
      "Mean 4 , 155.5482233502538\n",
      "Mean 5 , 32.45746367239099\n",
      "Mean 6 , 0.4718763020833327\n",
      "Mean 7 , 33.240885416666664\n"
     ]
    },
    {
     "data": {
      "text/html": [
       "<div>\n",
       "<style scoped>\n",
       "    .dataframe tbody tr th:only-of-type {\n",
       "        vertical-align: middle;\n",
       "    }\n",
       "\n",
       "    .dataframe tbody tr th {\n",
       "        vertical-align: top;\n",
       "    }\n",
       "\n",
       "    .dataframe thead th {\n",
       "        text-align: right;\n",
       "    }\n",
       "</style>\n",
       "<table border=\"1\" class=\"dataframe\">\n",
       "  <thead>\n",
       "    <tr style=\"text-align: right;\">\n",
       "      <th></th>\n",
       "      <th>Pregnancies</th>\n",
       "      <th>Glucose</th>\n",
       "      <th>BloodPressure</th>\n",
       "      <th>SkinThickness</th>\n",
       "      <th>Insulin</th>\n",
       "      <th>BMI</th>\n",
       "      <th>DiabetesPedigreeFunction</th>\n",
       "      <th>Age</th>\n",
       "      <th>Outcome</th>\n",
       "    </tr>\n",
       "  </thead>\n",
       "  <tbody>\n",
       "    <tr>\n",
       "      <th>0</th>\n",
       "      <td>6.000000</td>\n",
       "      <td>148.0</td>\n",
       "      <td>72.000000</td>\n",
       "      <td>35.00000</td>\n",
       "      <td>155.548223</td>\n",
       "      <td>33.600000</td>\n",
       "      <td>0.627</td>\n",
       "      <td>50</td>\n",
       "      <td>1</td>\n",
       "    </tr>\n",
       "    <tr>\n",
       "      <th>1</th>\n",
       "      <td>1.000000</td>\n",
       "      <td>85.0</td>\n",
       "      <td>66.000000</td>\n",
       "      <td>29.00000</td>\n",
       "      <td>155.548223</td>\n",
       "      <td>26.600000</td>\n",
       "      <td>0.351</td>\n",
       "      <td>31</td>\n",
       "      <td>0</td>\n",
       "    </tr>\n",
       "    <tr>\n",
       "      <th>2</th>\n",
       "      <td>8.000000</td>\n",
       "      <td>183.0</td>\n",
       "      <td>64.000000</td>\n",
       "      <td>29.15342</td>\n",
       "      <td>155.548223</td>\n",
       "      <td>23.300000</td>\n",
       "      <td>0.672</td>\n",
       "      <td>32</td>\n",
       "      <td>1</td>\n",
       "    </tr>\n",
       "    <tr>\n",
       "      <th>3</th>\n",
       "      <td>1.000000</td>\n",
       "      <td>89.0</td>\n",
       "      <td>66.000000</td>\n",
       "      <td>23.00000</td>\n",
       "      <td>94.000000</td>\n",
       "      <td>28.100000</td>\n",
       "      <td>0.167</td>\n",
       "      <td>21</td>\n",
       "      <td>0</td>\n",
       "    </tr>\n",
       "    <tr>\n",
       "      <th>4</th>\n",
       "      <td>4.494673</td>\n",
       "      <td>137.0</td>\n",
       "      <td>40.000000</td>\n",
       "      <td>35.00000</td>\n",
       "      <td>168.000000</td>\n",
       "      <td>43.100000</td>\n",
       "      <td>2.288</td>\n",
       "      <td>33</td>\n",
       "      <td>1</td>\n",
       "    </tr>\n",
       "    <tr>\n",
       "      <th>5</th>\n",
       "      <td>5.000000</td>\n",
       "      <td>116.0</td>\n",
       "      <td>74.000000</td>\n",
       "      <td>29.15342</td>\n",
       "      <td>155.548223</td>\n",
       "      <td>25.600000</td>\n",
       "      <td>0.201</td>\n",
       "      <td>30</td>\n",
       "      <td>0</td>\n",
       "    </tr>\n",
       "    <tr>\n",
       "      <th>6</th>\n",
       "      <td>3.000000</td>\n",
       "      <td>78.0</td>\n",
       "      <td>50.000000</td>\n",
       "      <td>32.00000</td>\n",
       "      <td>88.000000</td>\n",
       "      <td>31.000000</td>\n",
       "      <td>0.248</td>\n",
       "      <td>26</td>\n",
       "      <td>1</td>\n",
       "    </tr>\n",
       "    <tr>\n",
       "      <th>7</th>\n",
       "      <td>10.000000</td>\n",
       "      <td>115.0</td>\n",
       "      <td>72.405184</td>\n",
       "      <td>29.15342</td>\n",
       "      <td>155.548223</td>\n",
       "      <td>35.300000</td>\n",
       "      <td>0.134</td>\n",
       "      <td>29</td>\n",
       "      <td>0</td>\n",
       "    </tr>\n",
       "    <tr>\n",
       "      <th>8</th>\n",
       "      <td>2.000000</td>\n",
       "      <td>197.0</td>\n",
       "      <td>70.000000</td>\n",
       "      <td>45.00000</td>\n",
       "      <td>543.000000</td>\n",
       "      <td>30.500000</td>\n",
       "      <td>0.158</td>\n",
       "      <td>53</td>\n",
       "      <td>1</td>\n",
       "    </tr>\n",
       "    <tr>\n",
       "      <th>9</th>\n",
       "      <td>8.000000</td>\n",
       "      <td>125.0</td>\n",
       "      <td>96.000000</td>\n",
       "      <td>29.15342</td>\n",
       "      <td>155.548223</td>\n",
       "      <td>32.457464</td>\n",
       "      <td>0.232</td>\n",
       "      <td>54</td>\n",
       "      <td>1</td>\n",
       "    </tr>\n",
       "  </tbody>\n",
       "</table>\n",
       "</div>"
      ],
      "text/plain": [
       "   Pregnancies  Glucose  BloodPressure  SkinThickness     Insulin        BMI  \\\n",
       "0     6.000000    148.0      72.000000       35.00000  155.548223  33.600000   \n",
       "1     1.000000     85.0      66.000000       29.00000  155.548223  26.600000   \n",
       "2     8.000000    183.0      64.000000       29.15342  155.548223  23.300000   \n",
       "3     1.000000     89.0      66.000000       23.00000   94.000000  28.100000   \n",
       "4     4.494673    137.0      40.000000       35.00000  168.000000  43.100000   \n",
       "5     5.000000    116.0      74.000000       29.15342  155.548223  25.600000   \n",
       "6     3.000000     78.0      50.000000       32.00000   88.000000  31.000000   \n",
       "7    10.000000    115.0      72.405184       29.15342  155.548223  35.300000   \n",
       "8     2.000000    197.0      70.000000       45.00000  543.000000  30.500000   \n",
       "9     8.000000    125.0      96.000000       29.15342  155.548223  32.457464   \n",
       "\n",
       "   DiabetesPedigreeFunction  Age  Outcome  \n",
       "0                     0.627   50        1  \n",
       "1                     0.351   31        0  \n",
       "2                     0.672   32        1  \n",
       "3                     0.167   21        0  \n",
       "4                     2.288   33        1  \n",
       "5                     0.201   30        0  \n",
       "6                     0.248   26        1  \n",
       "7                     0.134   29        0  \n",
       "8                     0.158   53        1  \n",
       "9                     0.232   54        1  "
      ]
     },
     "execution_count": 18,
     "metadata": {},
     "output_type": "execute_result"
    }
   ],
   "source": [
    "# Naive Gaussian Bayes \n",
    "\n",
    "from sklearn.naive_bayes import GaussianNB \n",
    "classifier = GaussianNB() \n",
    "\n",
    "\n",
    "diabetes = pd.read_csv('diabetes.csv') \n",
    "zero_to_mean(diabetes,8)\n",
    "diabetes.head(10)  "
   ]
  },
  {
   "cell_type": "code",
   "execution_count": 19,
   "id": "5cc61759-bf4e-47b4-ab13-fdd74ac36266",
   "metadata": {},
   "outputs": [],
   "source": [
    "# Using all labels in my training. It seems to work best this way \n",
    "\n",
    "X = diabetes.iloc[:, [0,1,2,3,4,5,6,7]].values \n",
    "Y = diabetes.iloc[:, 8].values "
   ]
  },
  {
   "cell_type": "code",
   "execution_count": 20,
   "id": "6ffee02e-f9a6-46c1-bd23-a2a3cb658c65",
   "metadata": {},
   "outputs": [],
   "source": [
    "# Train and Test Split\n",
    "\n",
    "from sklearn.model_selection import train_test_split \n",
    "X_train, X_test, Y_train, Y_test = train_test_split(X, Y, test_size = 0.25, random_state = 0) "
   ]
  },
  {
   "cell_type": "code",
   "execution_count": 21,
   "id": "2d2ca94c-de36-4789-8898-42929544dd05",
   "metadata": {},
   "outputs": [],
   "source": [
    "classifier.fit(X_train, Y_train) \n",
    "Y2_pred  =  classifier.predict(X_test) "
   ]
  },
  {
   "cell_type": "code",
   "execution_count": 22,
   "id": "5b05a019-bb69-4e95-9364-e00298cf1749",
   "metadata": {},
   "outputs": [],
   "source": [
    "# Confusion Matrix, Naive Gaussian Bayes\n",
    "\n",
    "cm = confusion_matrix(Y_test, Y2_pred) "
   ]
  },
  {
   "cell_type": "code",
   "execution_count": 23,
   "id": "0e70ddc8-460e-42d7-b4ee-f4d70c34e650",
   "metadata": {},
   "outputs": [
    {
     "name": "stdout",
     "output_type": "stream",
     "text": [
      "Accuracy:  76.56 %\n",
      "Precision: 66.04 %\n",
      "Recall: 56.45 %\n"
     ]
    }
   ],
   "source": [
    "#Accuracy, Precision, Recall for Naive Gaussian Bayes\n",
    "\n",
    "ac = metrics.accuracy_score(Y_test, Y2_pred) \n",
    "\n",
    "print(\"Accuracy: \",round(ac*100,2),\"%\")\n",
    "print(\"Precision:\",round(metrics.precision_score(Y_test, Y2_pred)*100,2),\"%\") \n",
    "print(\"Recall:\",round(metrics.recall_score(Y_test, Y2_pred)*100,2),\"%\") "
   ]
  },
  {
   "cell_type": "code",
   "execution_count": 24,
   "id": "0e8a634a-56fa-4018-a3d6-88eca42266e3",
   "metadata": {},
   "outputs": [
    {
     "data": {
      "text/plain": [
       "Text(0.5, 257.44, 'Predicted label')"
      ]
     },
     "execution_count": 24,
     "metadata": {},
     "output_type": "execute_result"
    },
    {
     "data": {
      "image/png": "[encoded data removed]",
      "text/plain": [
       "<Figure size 432x288 with 2 Axes>"
      ]
     },
     "metadata": {
      "needs_background": "light"
     },
     "output_type": "display_data"
    }
   ],
   "source": [
    "# Confusion Matrix Heatmap\n",
    "\n",
    "class_names=[0,1] # name  of classes \n",
    "fig, ax = plt.subplots() \n",
    "tick_marks = np.arange(len(class_names)) \n",
    "plt.xticks(tick_marks, class_names) \n",
    "plt.yticks(tick_marks, class_names) \n",
    "\n",
    "# create heatmap \n",
    "sns.heatmap(pd.DataFrame(cm), annot=True, cmap=\"YlGnBu\" ,fmt='g') # cnf matrix?\n",
    "ax.xaxis.set_label_position(\"top\") \n",
    "plt.tight_layout() \n",
    "plt.title('Confusion matrix', y=1.1) \n",
    "plt.ylabel('Actual label') \n",
    "plt.xlabel('Predicted label') "
   ]
  },
  {
   "cell_type": "code",
   "execution_count": 22,
   "id": "5e72a500-1389-4a1b-b4b7-accadbb8200f",
   "metadata": {},
   "outputs": [],
   "source": [
    "################################# Problem 3 #################################"
   ]
  },
  {
   "cell_type": "code",
   "execution_count": 23,
   "id": "52b996a3-5bbd-483e-b0cf-d96c83b27469",
   "metadata": {},
   "outputs": [],
   "source": [
    "# K-Fold Cross-Validation\n",
    "\n",
    "from scipy.stats import sem\n",
    "from numpy import mean\n",
    "from numpy import std\n",
    "from sklearn.datasets import make_classification\n",
    "from sklearn.model_selection import KFold\n",
    "from sklearn.model_selection import RepeatedKFold\n",
    "from sklearn.model_selection import cross_val_score\n",
    "from matplotlib import pyplot\n",
    "\n",
    "def evaluate_model(X, y, repeats, splits):\n",
    "    # prepare the cross-validation procedure\n",
    "    cv = RepeatedKFold(n_splits=splits, n_repeats=repeats, random_state=1)\n",
    "    # create model\n",
    "    model = LogisticRegression()\n",
    "    # evaluate model\n",
    "    scores = cross_val_score(model, X, y, scoring='accuracy', cv=cv, n_jobs=-1)\n",
    "    return scores"
   ]
  },
  {
   "cell_type": "code",
   "execution_count": 24,
   "id": "be93f115-4cf4-4e05-8b15-b7dd6410ee1e",
   "metadata": {},
   "outputs": [
    {
     "name": "stdout",
     "output_type": "stream",
     "text": [
      ">1 mean=0.7526 se=0.014\n",
      ">2 mean=0.7604 se=0.009\n",
      ">3 mean=0.7665 se=0.009\n",
      ">4 mean=0.7643 se=0.007\n",
      ">5 mean=0.7649 se=0.006\n",
      ">6 mean=0.7630 se=0.006\n",
      ">7 mean=0.7645 se=0.005\n",
      ">8 mean=0.7655 se=0.005\n",
      ">9 mean=0.7664 se=0.004\n",
      ">10 mean=0.7675 se=0.004\n",
      ">11 mean=0.7678 se=0.004\n",
      ">12 mean=0.7679 se=0.004\n",
      ">13 mean=0.7673 se=0.004\n",
      ">14 mean=0.7668 se=0.004\n",
      ">15 mean=0.7662 se=0.003\n"
     ]
    },
    {
     "data": {
      "image/png": "[encoded data removed]",
      "text/plain": [
       "<Figure size 432x288 with 1 Axes>"
      ]
     },
     "metadata": {
      "needs_background": "light"
     },
     "output_type": "display_data"
    }
   ],
   "source": [
    "# Perform repeated K-fold cross_validation, 5 folds\n",
    "repeats = range(1,16)\n",
    "results = list()\n",
    "for r in repeats:\n",
    "    # evaluate using a given number of repeats\n",
    "    scores = evaluate_model(X, Y, r, 5)\n",
    "    # summarize\n",
    "    print('>%d mean=%.4f se=%.3f' % (r, mean(scores), sem(scores)))\n",
    "    # store\n",
    "    results.append(scores)\n",
    "    \n",
    "# plot the results\n",
    "pyplot.boxplot(results, labels=[str(r) for r in repeats], showmeans=True)\n",
    "plt.ylabel('Mean Accuracy') \n",
    "plt.xlabel('Iterations') \n",
    "pyplot.show()"
   ]
  },
  {
   "cell_type": "code",
   "execution_count": 25,
   "id": "d9aedcbe-85a6-49aa-92e2-1e8c27ce4af4",
   "metadata": {},
   "outputs": [
    {
     "name": "stdout",
     "output_type": "stream",
     "text": [
      ">1 mean=0.7565 se=0.017\n",
      ">2 mean=0.7650 se=0.011\n",
      ">3 mean=0.7643 se=0.009\n",
      ">4 mean=0.7656 se=0.008\n",
      ">5 mean=0.7672 se=0.007\n",
      ">6 mean=0.7680 se=0.006\n",
      ">7 mean=0.7679 se=0.006\n",
      ">8 mean=0.7677 se=0.005\n",
      ">9 mean=0.7668 se=0.005\n",
      ">10 mean=0.7673 se=0.005\n",
      ">11 mean=0.7667 se=0.005\n",
      ">12 mean=0.7665 se=0.005\n",
      ">13 mean=0.7660 se=0.004\n",
      ">14 mean=0.7660 se=0.004\n",
      ">15 mean=0.7657 se=0.004\n"
     ]
    },
    {
     "data": {
      "image/png": "[encoded data removed]",
      "text/plain": [
       "<Figure size 432x288 with 1 Axes>"
      ]
     },
     "metadata": {
      "needs_background": "light"
     },
     "output_type": "display_data"
    }
   ],
   "source": [
    "# Perform repeated K-fold cross_validation, 10 folds\n",
    "\n",
    "repeats = range(1,16)\n",
    "results = list()\n",
    "for r in repeats:\n",
    "    # evaluate using a given number of repeats\n",
    "    scores = evaluate_model(X, Y, r, 10)\n",
    "    # summarize\n",
    "    print('>%d mean=%.4f se=%.3f' % (r, mean(scores), sem(scores)))\n",
    "    # store\n",
    "    results.append(scores)\n",
    "    \n",
    "# plot the results\n",
    "pyplot.boxplot(results, labels=[str(r) for r in repeats], showmeans=True)\n",
    "plt.ylabel('Mean Accuracy') \n",
    "plt.xlabel('Iterations') \n",
    "pyplot.show()"
   ]
  },
  {
   "cell_type": "code",
   "execution_count": 26,
   "id": "153cabf1-f827-42d3-aa8f-45a1b2ceaa43",
   "metadata": {},
   "outputs": [],
   "source": [
    "################################# Problem 4 #################################"
   ]
  },
  {
   "cell_type": "code",
   "execution_count": 27,
   "id": "9393a397-916d-4400-9381-0005a0365f82",
   "metadata": {},
   "outputs": [],
   "source": [
    "# Using Naive Bayes with k-fold cross-validation does not make sense. The result will \n",
    "# just be K datasets, each with different evaluation metrics."
   ]
  }
 ],
 "metadata": {
  "kernelspec": {
   "display_name": "Python 3",
   "language": "python",
   "name": "python3"
  },
  "language_info": {
   "codemirror_mode": {
    "name": "ipython",
    "version": 3
   },
   "file_extension": ".py",
   "mimetype": "text/x-python",
   "name": "python",
   "nbconvert_exporter": "python",
   "pygments_lexer": "ipython3",
   "version": "3.8.8"
  }
 },
 "nbformat": 4,
 "nbformat_minor": 5
}
