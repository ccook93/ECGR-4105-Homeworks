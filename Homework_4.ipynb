{
 "cells": [
  {
   "cell_type": "code",
   "execution_count": 1,
   "id": "724fde9a-634c-4ced-a3d2-f8500427be97",
   "metadata": {},
   "outputs": [],
   "source": [
    "import pandas as pd \n",
    "import numpy as np\n",
    "import matplotlib.pyplot as plt \n",
    "\n",
    "from sklearn.datasets import load_breast_cancer \n",
    "from sklearn.decomposition import PCA\n",
    "from matplotlib.pyplot import figure\n"
   ]
  },
  {
   "cell_type": "code",
   "execution_count": 2,
   "id": "bc2c59b5-5e5f-4d27-ac2f-7bc2b78312c5",
   "metadata": {},
   "outputs": [],
   "source": [
    "# For a range in N, when N = 1, 2, ..., K calculate a PCA and return \n",
    "# I want this to be able to graph the number N pricipal components that maximizes the accuracy. \n",
    "\n",
    "def pca_iterations(K,data,target):\n",
    "    pca = PCA(n_components = K) \n",
    "    principalComponents = pca.fit_transform(data) \n",
    "    principalDf = pd.DataFrame(data = principalComponents) # The columns of this will be numbered 0 to K-1 \n",
    "    finalDF = pd.concat([principalDf, breast_dataset[['targets']]], axis = 1)\n",
    "        \n",
    "    return finalDF        "
   ]
  },
  {
   "cell_type": "code",
   "execution_count": 3,
   "id": "0899893b-a8fc-4fb5-947d-0e9988256ac8",
   "metadata": {},
   "outputs": [],
   "source": [
    "#$$$$$$$$$$$$$$$$$$$$$$$$$$  Problem 1  $$$$$$$$$$$$$$$$$$$$$$$$$$$$$$$$$$$$$$$$$$$$$$$$$$$$$$$$$$$$$$$$$$$$$$$$$$$$$$$$$$"
   ]
  },
  {
   "cell_type": "code",
   "execution_count": 4,
   "id": "9826d055-5ddf-4b8b-96d1-92d54c492c0e",
   "metadata": {},
   "outputs": [],
   "source": [
    "# Load Breast Cancer dataset and break up this data into sections for data, labels, and features\n",
    "breast = load_breast_cancer() \n",
    "\n",
    "# Extract data from 'breast' \n",
    "breast_data = breast.data \n",
    "breast_labels = breast.target\n",
    "features = breast.feature_names \n",
    "\n",
    "# Show the shapes of things, if you would like\n",
    "# print(\"Shape of 'breast_data':\",breast_data.shape)\n",
    "# print(\"Shape of 'features':\",features.shape)\n",
    "# print(\"Shape of 'breast_labels':\",breast_labels.shape)"
   ]
  },
  {
   "cell_type": "code",
   "execution_count": 5,
   "id": "dc5acda1-aa5a-4ec1-b4d8-ca2f4445246a",
   "metadata": {},
   "outputs": [],
   "source": [
    "# Reshape 'breast_labels' into a column vector\n",
    "targets = np.reshape(breast_labels,(569,1)) \n",
    "\n",
    "# print(\"Shape of 'targets':\",targets.shape)\n",
    "# print(\"First 5 terms:\",targets[:5])"
   ]
  },
  {
   "cell_type": "code",
   "execution_count": 6,
   "id": "80bbb67e-a7a8-43dd-9cc8-8485a21190d3",
   "metadata": {},
   "outputs": [],
   "source": [
    "# Create a new dataset called 'final_breast_data' by adding the \n",
    "# column 'targets' to the end of 'breast_data'\n",
    "final_breast_data = np.concatenate([breast_data,targets],axis=1)\n",
    "\n",
    "# Show the shape of 'final_breast_data'\n",
    "# final_breast_data.shape "
   ]
  },
  {
   "cell_type": "code",
   "execution_count": 7,
   "id": "f0d8fa9d-c913-4764-9686-e81afaa0621c",
   "metadata": {},
   "outputs": [],
   "source": [
    "# Create new dataframe from 'final_breast_data'\n",
    "breast_dataset = pd.DataFrame(final_breast_data)"
   ]
  },
  {
   "cell_type": "code",
   "execution_count": 8,
   "id": "316c1728-51ba-47d4-888e-0224f11959d8",
   "metadata": {},
   "outputs": [],
   "source": [
    "# Name all of the features in breast_dataset\n",
    "features_labels = np.append(features,'targets') \n",
    "breast_dataset.columns = features_labels "
   ]
  },
  {
   "cell_type": "code",
   "execution_count": 9,
   "id": "ee51510d-168f-4995-8e30-ea2cd858d594",
   "metadata": {},
   "outputs": [],
   "source": [
    "# Before beginning PCA, we want to standardize all of the feature samples\n",
    "\n",
    "from sklearn.preprocessing import StandardScaler \n",
    "\n",
    "# Separating out the features  \n",
    "x = breast_dataset.loc[:, features].values \n",
    "\n",
    "# Separating out the target \n",
    "y = breast_dataset.loc[:, ['targets']].values\n",
    "\n",
    "# Standardizing the features array in 'breast_dataset'\n",
    "x = StandardScaler().fit_transform(x) "
   ]
  },
  {
   "cell_type": "code",
   "execution_count": 10,
   "id": "15c20e41-9872-407d-b75c-4cf908e9805f",
   "metadata": {},
   "outputs": [],
   "source": [
    "# Defining a max Value of K we want plotted\n",
    "upperK = 15"
   ]
  },
  {
   "cell_type": "code",
   "execution_count": 11,
   "id": "094cb416-cb45-4180-8ad8-d7e26103fc89",
   "metadata": {},
   "outputs": [
    {
     "name": "stdout",
     "output_type": "stream",
     "text": [
      "Accuracy Length: 15 , [92.1 91.2 95.6 95.6 95.6 93.9 94.7 96.5 95.6 95.6 95.6 95.6 96.5 96.5\n",
      "  0. ]\n",
      " \n",
      "Precision Length: 15 , [95.31 93.85 96.97 95.59 95.59 95.45 96.92 97.01 96.97 96.97 96.97 96.97\n",
      " 97.01 97.01  0.  ]\n",
      " \n",
      "Recall Length: 15 , [91.04 91.04 95.52 97.01 97.01 94.03 94.03 97.01 95.52 95.52 95.52 95.52\n",
      " 97.01 97.01  0.  ]\n"
     ]
    }
   ],
   "source": [
    "# FIGURE OUT HOW TO MAKE THIS WORK WITH SVM\n",
    "# This is where the PCA algorithm should start. As in the last homework, the accuracy, precision\n",
    "# and recall should all be calculated for each iteration of the algorithm. \n",
    "\n",
    "# for loop to calculate the accuracy, precision, and recall for multiple values of K\n",
    "\n",
    "#Import svm model\n",
    "from sklearn import svm\n",
    "from sklearn.model_selection import train_test_split \n",
    "from sklearn.metrics import confusion_matrix \n",
    "from sklearn import metrics \n",
    "\n",
    "# Initial arrays to store evaluation metric data\n",
    "accuracy = np.zeros(upperK)\n",
    "precision = np.zeros(upperK)\n",
    "recall = np.zeros(upperK)\n",
    "\n",
    "# PCA feature extraction algorithm. Also runs SVM and computes evaluation metrics\n",
    "for h in range(2,upperK+1):\n",
    "    h_range = list(range(0,h))\n",
    "    K1 = pca_iterations(h,x,y)\n",
    "    \n",
    "    X = K1.loc[:, h_range].values \n",
    "    Y = K1.loc[:, ['targets']].values\n",
    "    Y_array = Y.reshape(569,)\n",
    "    X_train, X_test, Y_train, Y_test = train_test_split(X, Y_array, test_size = 0.20, random_state = 0)\n",
    "        \n",
    "    # Create a svm Classifier\n",
    "    clf = svm.SVC(kernel='linear') # Linear Kernel\n",
    "    clf.fit(X_train, Y_train)\n",
    "    Y_pred = clf.predict(X_test)\n",
    "    cnf_matrix = confusion_matrix(Y_test, Y_pred) \n",
    "\n",
    "    # Calculate accuracy, precision, and recall for each iteration\n",
    "    accuracy[h-2] = round(metrics.accuracy_score(Y_test, Y_pred)*100,1)\n",
    "    precision[h-2] = round(metrics.precision_score(Y_test, Y_pred)*100,2)\n",
    "    recall[h-2] = round(metrics.recall_score(Y_test, Y_pred)*100,2)\n",
    "\n",
    "# Show the evaluation mertic arrays\n",
    "print(\"Accuracy Length:\",len(accuracy),\",\",accuracy)\n",
    "print(\" \")\n",
    "print(\"Precision Length:\",len(precision),\",\",precision)\n",
    "print(\" \")\n",
    "print(\"Recall Length:\",len(recall),\",\",recall)"
   ]
  },
  {
   "cell_type": "code",
   "execution_count": 15,
   "id": "b440668b-2e9b-44c8-9885-b4209e962cc4",
   "metadata": {},
   "outputs": [
    {
     "data": {
      "image/png": "[encoded data removed]",
      "text/plain": [
       "<Figure size 640x480 with 1 Axes>"
      ]
     },
     "metadata": {
      "needs_background": "light"
     },
     "output_type": "display_data"
    }
   ],
   "source": [
    "# This plots accuracy over multiple # of PCA component. It seems the minimum amount of PCA \n",
    "# components needed to obtain a good accuracy is 12. When a higher value of upperK is used\n",
    "# the results do not get any better.\n",
    "\n",
    "yes = np.arange(upperK)\n",
    "for i in range(len(yes)):\n",
    "    yes[i] = yes[i] + 2\n",
    "\n",
    "width = 0.25       \n",
    "# plt.bar(ind, men_means, width, label='Men')\n",
    "# plt.bar(ind + width, women_means, width, label='Women')    \n",
    "\n",
    "figure(figsize=(8, 6), dpi=80)\n",
    "plt.bar(yes, accuracy, color='blue',width=0.25, label = \"accuracy\")\n",
    "plt.bar(yes+width, precision, color='pink',width=0.25, label = \"precision\")\n",
    "plt.bar(yes+width+width, recall, color='green',width=0.25, label = \"recall\")\n",
    "\n",
    "plt.xlabel(\"# of PCA Components\")\n",
    "plt.ylabel(\"Accuracy [%]\")\n",
    "plt.title(\"Accuracy vs. # of PCA Components\")\n",
    "plt.axis([1, upperK+1, 90, 100])\n",
    "plt.legend(loc='best')\n",
    "plt.show()"
   ]
  },
  {
   "cell_type": "code",
   "execution_count": null,
   "id": "cd8f6da1-1c67-40e6-bea9-b50683073d62",
   "metadata": {},
   "outputs": [],
   "source": [
    "# Explore different kernel tricks to capture non-linearities within your data.  \n",
    "# Plot the resultsand compare the accuracies for different kernels."
   ]
  },
  {
   "cell_type": "code",
   "execution_count": null,
   "id": "6302c29e-bdf4-4f13-8a61-889478583881",
   "metadata": {},
   "outputs": [],
   "source": [
    "# Compare your results against the logistic regression that you have done in homework 3."
   ]
  },
  {
   "cell_type": "code",
   "execution_count": null,
   "id": "6de6ddb9-a7d8-4464-808d-ea6a6d7f9c80",
   "metadata": {},
   "outputs": [],
   "source": [
    "#$$$$$$$$$$$$$$$$$$$$$$$$$$  Problem 2  $$$$$$$$$$$$$$$$$$$$$$$$$$$$$$$$$$$$$$$$$$$$$$$$$$$$$$$$$$$$$$$$$$$$$$$$$$$$$$$$$$"
   ]
  },
  {
   "cell_type": "code",
   "execution_count": 17,
   "id": "ee4d8002-6158-4c5b-afb0-9e33df5e31cd",
   "metadata": {},
   "outputs": [
    {
     "name": "stdout",
     "output_type": "stream",
     "text": [
      "(545, 13)\n"
     ]
    },
    {
     "data": {
      "text/html": [
       "<div>\n",
       "<style scoped>\n",
       "    .dataframe tbody tr th:only-of-type {\n",
       "        vertical-align: middle;\n",
       "    }\n",
       "\n",
       "    .dataframe tbody tr th {\n",
       "        vertical-align: top;\n",
       "    }\n",
       "\n",
       "    .dataframe thead th {\n",
       "        text-align: right;\n",
       "    }\n",
       "</style>\n",
       "<table border=\"1\" class=\"dataframe\">\n",
       "  <thead>\n",
       "    <tr style=\"text-align: right;\">\n",
       "      <th></th>\n",
       "      <th>price</th>\n",
       "      <th>area</th>\n",
       "      <th>bedrooms</th>\n",
       "      <th>bathrooms</th>\n",
       "      <th>stories</th>\n",
       "      <th>mainroad</th>\n",
       "      <th>guestroom</th>\n",
       "      <th>basement</th>\n",
       "      <th>hotwaterheating</th>\n",
       "      <th>airconditioning</th>\n",
       "      <th>parking</th>\n",
       "      <th>prefarea</th>\n",
       "      <th>furnishingstatus</th>\n",
       "    </tr>\n",
       "  </thead>\n",
       "  <tbody>\n",
       "    <tr>\n",
       "      <th>0</th>\n",
       "      <td>13300000</td>\n",
       "      <td>7420</td>\n",
       "      <td>4</td>\n",
       "      <td>2</td>\n",
       "      <td>3</td>\n",
       "      <td>yes</td>\n",
       "      <td>no</td>\n",
       "      <td>no</td>\n",
       "      <td>no</td>\n",
       "      <td>yes</td>\n",
       "      <td>2</td>\n",
       "      <td>yes</td>\n",
       "      <td>furnished</td>\n",
       "    </tr>\n",
       "    <tr>\n",
       "      <th>1</th>\n",
       "      <td>12250000</td>\n",
       "      <td>8960</td>\n",
       "      <td>4</td>\n",
       "      <td>4</td>\n",
       "      <td>4</td>\n",
       "      <td>yes</td>\n",
       "      <td>no</td>\n",
       "      <td>no</td>\n",
       "      <td>no</td>\n",
       "      <td>yes</td>\n",
       "      <td>3</td>\n",
       "      <td>no</td>\n",
       "      <td>furnished</td>\n",
       "    </tr>\n",
       "    <tr>\n",
       "      <th>2</th>\n",
       "      <td>12250000</td>\n",
       "      <td>9960</td>\n",
       "      <td>3</td>\n",
       "      <td>2</td>\n",
       "      <td>2</td>\n",
       "      <td>yes</td>\n",
       "      <td>no</td>\n",
       "      <td>yes</td>\n",
       "      <td>no</td>\n",
       "      <td>no</td>\n",
       "      <td>2</td>\n",
       "      <td>yes</td>\n",
       "      <td>semi-furnished</td>\n",
       "    </tr>\n",
       "    <tr>\n",
       "      <th>3</th>\n",
       "      <td>12215000</td>\n",
       "      <td>7500</td>\n",
       "      <td>4</td>\n",
       "      <td>2</td>\n",
       "      <td>2</td>\n",
       "      <td>yes</td>\n",
       "      <td>no</td>\n",
       "      <td>yes</td>\n",
       "      <td>no</td>\n",
       "      <td>yes</td>\n",
       "      <td>3</td>\n",
       "      <td>yes</td>\n",
       "      <td>furnished</td>\n",
       "    </tr>\n",
       "    <tr>\n",
       "      <th>4</th>\n",
       "      <td>11410000</td>\n",
       "      <td>7420</td>\n",
       "      <td>4</td>\n",
       "      <td>1</td>\n",
       "      <td>2</td>\n",
       "      <td>yes</td>\n",
       "      <td>yes</td>\n",
       "      <td>yes</td>\n",
       "      <td>no</td>\n",
       "      <td>yes</td>\n",
       "      <td>2</td>\n",
       "      <td>no</td>\n",
       "      <td>furnished</td>\n",
       "    </tr>\n",
       "  </tbody>\n",
       "</table>\n",
       "</div>"
      ],
      "text/plain": [
       "      price  area  bedrooms  bathrooms  stories mainroad guestroom basement  \\\n",
       "0  13300000  7420         4          2        3      yes        no       no   \n",
       "1  12250000  8960         4          4        4      yes        no       no   \n",
       "2  12250000  9960         3          2        2      yes        no      yes   \n",
       "3  12215000  7500         4          2        2      yes        no      yes   \n",
       "4  11410000  7420         4          1        2      yes       yes      yes   \n",
       "\n",
       "  hotwaterheating airconditioning  parking prefarea furnishingstatus  \n",
       "0              no             yes        2      yes        furnished  \n",
       "1              no             yes        3       no        furnished  \n",
       "2              no              no        2      yes   semi-furnished  \n",
       "3              no             yes        3      yes        furnished  \n",
       "4              no             yes        2       no        furnished  "
      ]
     },
     "execution_count": 17,
     "metadata": {},
     "output_type": "execute_result"
    }
   ],
   "source": [
    "# This section is for SVR regression model to predict housing prices that were seen in HW1\n",
    "\n",
    "# Import housing list \n",
    "housing = pd.read_csv('Housing.csv')\n",
    "print(housing.shape)\n",
    "\n",
    "# 1a Variables\n",
    "varlist1 = ['area','bedrooms','bathrooms','stories','parking','price']\n",
    "\n",
    "# 1b Variables\n",
    "varlist2 = ['area','bedrooms','bathrooms','stories','mainroad','guestroom','basement','hotwaterheating','airconditioning','parking','prefarea','price']\n",
    "\n",
    "housing.head()"
   ]
  },
  {
   "cell_type": "code",
   "execution_count": null,
   "id": "4e17f96f-092d-43d0-b7bd-4e6f320162c2",
   "metadata": {},
   "outputs": [],
   "source": []
  }
 ],
 "metadata": {
  "kernelspec": {
   "display_name": "Python 3",
   "language": "python",
   "name": "python3"
  },
  "language_info": {
   "codemirror_mode": {
    "name": "ipython",
    "version": 3
   },
   "file_extension": ".py",
   "mimetype": "text/x-python",
   "name": "python",
   "nbconvert_exporter": "python",
   "pygments_lexer": "ipython3",
   "version": "3.8.8"
  }
 },
 "nbformat": 4,
 "nbformat_minor": 5
}
