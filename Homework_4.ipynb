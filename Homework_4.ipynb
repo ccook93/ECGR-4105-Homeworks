{
 "cells": [
  {
   "cell_type": "code",
   "execution_count": 1,
   "id": "724fde9a-634c-4ced-a3d2-f8500427be97",
   "metadata": {},
   "outputs": [],
   "source": [
    "import pandas as pd \n",
    "import numpy as np\n",
    "import matplotlib.pyplot as plt \n",
    "\n",
    "from sklearn.datasets import load_breast_cancer \n",
    "from sklearn.decomposition import PCA\n",
    "from matplotlib.pyplot import figure\n"
   ]
  },
  {
   "cell_type": "code",
   "execution_count": 2,
   "id": "bc2c59b5-5e5f-4d27-ac2f-7bc2b78312c5",
   "metadata": {},
   "outputs": [],
   "source": [
    "# For a range in N, when N = 1, 2, ..., K calculate a PCA and return \n",
    "# I want this to be able to graph the number N pricipal components that maximizes the accuracy. \n",
    "\n",
    "def pca_iterations(K,data,target):\n",
    "    pca = PCA(n_components = K) \n",
    "    principalComponents = pca.fit_transform(data) \n",
    "    principalDf = pd.DataFrame(data = principalComponents) # The columns of this will be numbered 0 to K-1 \n",
    "    finalDF = pd.concat([principalDf, breast_dataset[['targets']]], axis = 1)\n",
    "        \n",
    "    return finalDF        "
   ]
  },
  {
   "cell_type": "code",
   "execution_count": 3,
   "id": "0899893b-a8fc-4fb5-947d-0e9988256ac8",
   "metadata": {},
   "outputs": [],
   "source": [
    "#$$$$$$$$$$$$$$$$$$$$$$$$$$  Problem 1  $$$$$$$$$$$$$$$$$$$$$$$$$$$$$$$$$$$$$$$$$$$$$$$$$$$$$$$$$$$$$$$$$$$$$$$$$$$$$$$$$$"
   ]
  },
  {
   "cell_type": "code",
   "execution_count": 4,
   "id": "9826d055-5ddf-4b8b-96d1-92d54c492c0e",
   "metadata": {},
   "outputs": [
    {
     "name": "stdout",
     "output_type": "stream",
     "text": [
      "Shape of 'breast_data': (569, 30)\n",
      "Shape of 'features': (30,)\n"
     ]
    }
   ],
   "source": [
    "# Load Breast Cancer dataset and break up this data into sections for data, labels, and features\n",
    "breast = load_breast_cancer() \n",
    "\n",
    "# Extract data from 'breast' \n",
    "breast_data = breast.data \n",
    "breast_labels = breast.target\n",
    "features = breast.feature_names \n",
    "\n",
    "# Show the shapes of things, if you would like\n",
    "print(\"Shape of 'breast_data':\",breast_data.shape)\n",
    "print(\"Shape of 'features':\",features.shape)\n",
    "# print(\"Shape of 'breast_labels':\",breast_labels.shape)"
   ]
  },
  {
   "cell_type": "code",
   "execution_count": 5,
   "id": "dc5acda1-aa5a-4ec1-b4d8-ca2f4445246a",
   "metadata": {},
   "outputs": [],
   "source": [
    "# Reshape 'breast_labels' into a column vector\n",
    "targets = np.reshape(breast_labels,(569,1)) \n",
    "\n",
    "# print(\"Shape of 'targets':\",targets.shape)\n",
    "# print(\"First 5 terms:\",targets[:5])"
   ]
  },
  {
   "cell_type": "code",
   "execution_count": 6,
   "id": "80bbb67e-a7a8-43dd-9cc8-8485a21190d3",
   "metadata": {},
   "outputs": [],
   "source": [
    "# Create a new dataset called 'final_breast_data' by adding the \n",
    "# column 'targets' to the end of 'breast_data'\n",
    "final_breast_data = np.concatenate([breast_data,targets],axis=1)\n",
    "\n",
    "# Show the shape of 'final_breast_data'\n",
    "# final_breast_data.shape "
   ]
  },
  {
   "cell_type": "code",
   "execution_count": 7,
   "id": "f0d8fa9d-c913-4764-9686-e81afaa0621c",
   "metadata": {},
   "outputs": [],
   "source": [
    "# Create new dataframe from 'final_breast_data'\n",
    "breast_dataset = pd.DataFrame(final_breast_data)"
   ]
  },
  {
   "cell_type": "code",
   "execution_count": 8,
   "id": "316c1728-51ba-47d4-888e-0224f11959d8",
   "metadata": {},
   "outputs": [],
   "source": [
    "# Name all of the features in breast_dataset\n",
    "features_labels = np.append(features,'targets') \n",
    "breast_dataset.columns = features_labels "
   ]
  },
  {
   "cell_type": "code",
   "execution_count": 9,
   "id": "ee51510d-168f-4995-8e30-ea2cd858d594",
   "metadata": {},
   "outputs": [],
   "source": [
    "# Before beginning PCA, we want to standardize all of the feature samples\n",
    "\n",
    "from sklearn.preprocessing import StandardScaler \n",
    "\n",
    "# Separating out the features  \n",
    "x = breast_dataset.loc[:, features].values \n",
    "\n",
    "# Separating out the target \n",
    "y = breast_dataset.loc[:, ['targets']].values\n",
    "\n",
    "# Standardizing the features array in 'breast_dataset'\n",
    "x = StandardScaler().fit_transform(x) "
   ]
  },
  {
   "cell_type": "code",
   "execution_count": 10,
   "id": "15c20e41-9872-407d-b75c-4cf908e9805f",
   "metadata": {},
   "outputs": [],
   "source": [
    "# Defining a maximum number of PCA components we want plotted, for upperK >= 2\n",
    "upperK = 30\n",
    "\n",
    "# Doesn't do anything but the lowest value of PCA components should be 2\n",
    "lowerK = 2"
   ]
  },
  {
   "cell_type": "code",
   "execution_count": 11,
   "id": "094cb416-cb45-4180-8ad8-d7e26103fc89",
   "metadata": {},
   "outputs": [
    {
     "name": "stdout",
     "output_type": "stream",
     "text": [
      "Accuracy Length: 30 , [92.1 91.2 95.6 95.6 95.6 93.9 94.7 96.5 95.6 95.6 95.6 95.6 96.5 96.5\n",
      " 96.5 96.5 96.5 97.4 97.4 96.5 96.5 97.4 97.4 97.4 97.4 97.4 97.4 97.4\n",
      " 97.4  0. ]\n",
      "Maximum accuracy: 97.4 using 19 components\n",
      " \n",
      "Precision Length: 30 , [95.31 93.85 96.97 95.59 95.59 95.45 96.92 97.01 96.97 96.97 96.97 96.97\n",
      " 97.01 97.01 97.01 97.01 97.01 97.06 97.06 97.01 97.01 97.06 97.06 97.06\n",
      " 97.06 97.06 97.06 97.06 97.06  0.  ]\n",
      "Maximum precision: 97.06 using 19 components\n",
      " \n",
      "Recall Length: 30 , [91.04 91.04 95.52 97.01 97.01 94.03 94.03 97.01 95.52 95.52 95.52 95.52\n",
      " 97.01 97.01 97.01 97.01 97.01 98.51 98.51 97.01 97.01 98.51 98.51 98.51\n",
      " 98.51 98.51 98.51 98.51 98.51  0.  ]\n",
      "Maximum recall: 98.51 using 19 components\n"
     ]
    }
   ],
   "source": [
    "# FIGURE OUT HOW TO MAKE THIS WORK WITH SVM\n",
    "# This is where the PCA algorithm should start. As in the last homework, the accuracy, precision\n",
    "# and recall should all be calculated for each iteration of the algorithm. \n",
    "#\n",
    "#     sklearn.svm Notes\n",
    "#\n",
    "# class sklearn.svm.SVC(*, C=1.0, kernel='rbf', degree=3, gamma='scale', coef0=0.0, shrinking=True, probability=False, tol=0.001, cache_size=200, \n",
    "#                       class_weight=None, verbose=False, max_iter=- 1, decision_function_shape='ovr', break_ties=False, random_state=None)[source]\n",
    "#\n",
    "#     Options for kernal are: \"linear\", \"poly\", \"rbf\", \"sigmoid\", \"precomputed\"\n",
    "#\n",
    "#     .fit(X,y[, sample_weight]) : Fit the SVM model according to the given training data\n",
    "#     .predict : Perform classification on samples in X\n",
    "#\n",
    "\n",
    "# for loop to calculate the accuracy, precision, and recall for multiple values of K\n",
    "\n",
    "#Import svm model\n",
    "from sklearn import svm\n",
    "from sklearn.model_selection import train_test_split \n",
    "from sklearn.metrics import confusion_matrix \n",
    "from sklearn import metrics \n",
    "\n",
    "# Initial arrays to store evaluation metric data\n",
    "accuracy = np.zeros(upperK)\n",
    "precision = np.zeros(upperK)\n",
    "recall = np.zeros(upperK)\n",
    "\n",
    "# PCA feature extraction algorithm. Also runs SVM and computes evaluation metrics\n",
    "for h in range(2,upperK+1):\n",
    "    h_range = list(range(0,h))\n",
    "    K1 = pca_iterations(h,x,y)\n",
    "    \n",
    "    X = K1.loc[:, h_range].values \n",
    "    Y = K1.loc[:, ['targets']].values\n",
    "    Y_array = Y.reshape(569,)\n",
    "    X_train, X_test, Y_train, Y_test = train_test_split(X, Y_array, test_size = 0.20, random_state = 0)\n",
    "        \n",
    "    # Create a svm Classifier\n",
    "    clf = svm.SVC(kernel='linear') # Linear Kernel\n",
    "    clf.fit(X_train, Y_train)\n",
    "    Y_pred = clf.predict(X_test)\n",
    "    cnf_matrix = confusion_matrix(Y_test, Y_pred) \n",
    "\n",
    "    # Calculate accuracy, precision, and recall for each iteration\n",
    "    accuracy[h-2] = round(metrics.accuracy_score(Y_test, Y_pred)*100,1)\n",
    "    precision[h-2] = round(metrics.precision_score(Y_test, Y_pred)*100,2)\n",
    "    recall[h-2] = round(metrics.recall_score(Y_test, Y_pred)*100,2)\n",
    "\n",
    "maximum = np.max(recall)\n",
    "minimum = np.min(recall)\n",
    "\n",
    "# Show the evaluation mertic arrays as well as # of PCA components where each metric reaches its first maximum \n",
    "print(\"Accuracy Length:\",len(accuracy),\",\",accuracy)\n",
    "max_accur = np.max(accuracy)\n",
    "max_accur_index = accuracy.argmax() + 2\n",
    "print(\"Maximum accuracy:\", max_accur, \"using\", max_accur_index, \"components\")\n",
    "\n",
    "print(\" \")\n",
    "print(\"Precision Length:\",len(precision),\",\",precision)\n",
    "max_prec = np.max(precision)\n",
    "max_prec_index = precision.argmax() + 2\n",
    "print(\"Maximum precision:\", max_prec, \"using\", max_prec_index, \"components\")\n",
    "\n",
    "\n",
    "print(\" \")\n",
    "print(\"Recall Length:\",len(recall),\",\",recall)\n",
    "max_recall = np.max(recall)\n",
    "max_recall_index = recall.argmax() + 2\n",
    "print(\"Maximum recall:\", max_recall, \"using\", max_recall_index, \"components\")"
   ]
  },
  {
   "cell_type": "code",
   "execution_count": 12,
   "id": "b440668b-2e9b-44c8-9885-b4209e962cc4",
   "metadata": {},
   "outputs": [
    {
     "data": {
      "image/png": "[encoded data removed]",
      "text/plain": [
       "<Figure size 640x480 with 1 Axes>"
      ]
     },
     "metadata": {
      "needs_background": "light"
     },
     "output_type": "display_data"
    }
   ],
   "source": [
    "# This plots accuracy over multiple # of PCA component. It seems the minimum amount of PCA \n",
    "# components needed to obtain a good accuracy is 19. When a higher value of upperK is used\n",
    "# the results do not get any better.\n",
    "\n",
    "yes = np.arange(upperK)\n",
    "for i in range(len(yes)):\n",
    "    yes[i] = yes[i] + 2\n",
    "\n",
    "strings = []\n",
    "for i in range(upperK):\n",
    "    new = str(i+2)\n",
    "    strings.append(new)\n",
    "         \n",
    "figure(figsize=(8, 6), dpi=80)\n",
    "\n",
    "width = 0.25 \n",
    "plt.bar(yes, accuracy, color='blue', tick_label=strings, width=0.25, label = \"accuracy\")\n",
    "plt.bar(yes+width, precision, color='violet',width=0.25, label = \"precision\")\n",
    "plt.bar(yes+2*width, recall, color='green',width=0.25, label = \"recall\")\n",
    "\n",
    "plt.xlabel(\"# of PCA Components\")\n",
    "plt.ylabel(\"Metric Magnitude [%]\")\n",
    "plt.title(\"Metrics vs. # of PCA Components, linear kernal\")\n",
    "plt.axis([1, upperK+1, 90, maximum+2])\n",
    "plt.legend(loc='best')\n",
    "plt.show()"
   ]
  },
  {
   "cell_type": "code",
   "execution_count": 13,
   "id": "754ea658-f795-497b-b561-82ecf79ff31a",
   "metadata": {},
   "outputs": [
    {
     "name": "stdout",
     "output_type": "stream",
     "text": [
      "Accuracy Length: 30 , [89.5 89.5 90.4 90.4 89.5 89.5 90.4 90.4 90.4 90.4 90.4 90.4 90.4 90.4\n",
      " 90.4 90.4 90.4 90.4 90.4 90.4 90.4 90.4 90.4 90.4 90.4 90.4 90.4 90.4\n",
      " 90.4  0. ]\n",
      "Maximum accuracy: 90.4 using 4 components\n",
      " \n",
      "Precision Length: 30 , [85.71 84.81 85.9  85.9  84.81 84.81 85.9  85.9  85.9  85.9  85.9  85.9\n",
      " 85.9  85.9  85.9  85.9  85.9  85.9  85.9  85.9  85.9  85.9  85.9  85.9\n",
      " 85.9  85.9  85.9  85.9  85.9   0.  ]\n",
      "Maximum precision: 85.9 using 4 components\n",
      " \n",
      "Recall Length: 30 , [ 98.51 100.   100.   100.   100.   100.   100.   100.   100.   100.\n",
      " 100.   100.   100.   100.   100.   100.   100.   100.   100.   100.\n",
      " 100.   100.   100.   100.   100.   100.   100.   100.   100.     0.  ]\n",
      "Maximum recall: 100.0 using 3 components\n"
     ]
    }
   ],
   "source": [
    "accuracy = np.zeros(upperK)\n",
    "precision = np.zeros(upperK)\n",
    "recall = np.zeros(upperK)\n",
    "\n",
    "# PCA feature extraction algorithm. Also runs SVM and computes evaluation metrics\n",
    "for h in range(2,upperK+1):\n",
    "    h_range = list(range(0,h))\n",
    "    K1 = pca_iterations(h,x,y)\n",
    "    \n",
    "    X = K1.loc[:, h_range].values \n",
    "    Y = K1.loc[:, ['targets']].values\n",
    "    Y_array = Y.reshape(569,)\n",
    "    X_train, X_test, Y_train, Y_test = train_test_split(X, Y_array, test_size = 0.20, random_state = 0)\n",
    "        \n",
    "    # Create a svm Classifier\n",
    "    clf = svm.SVC(kernel='poly',degree=3) # polynomial kernel\n",
    "    clf.fit(X_train, Y_train)\n",
    "    Y_pred = clf.predict(X_test)\n",
    "    cnf_matrix = confusion_matrix(Y_test, Y_pred) \n",
    "\n",
    "    # Calculate accuracy, precision, and recall for each iteration\n",
    "    accuracy[h-2] = round(metrics.accuracy_score(Y_test, Y_pred)*100,1)\n",
    "    precision[h-2] = round(metrics.precision_score(Y_test, Y_pred)*100,2)\n",
    "    recall[h-2] = round(metrics.recall_score(Y_test, Y_pred)*100,2)\n",
    "    \n",
    "maximum = np.max(recall)\n",
    "\n",
    "# Show the evaluation mertic arrays as well as # of PCA components where each metric reaches its first maximum \n",
    "print(\"Accuracy Length:\",len(accuracy),\",\",accuracy)\n",
    "max_accur = np.max(accuracy)\n",
    "max_accur_index = accuracy.argmax() + 2\n",
    "print(\"Maximum accuracy:\", max_accur, \"using\", max_accur_index, \"components\")\n",
    "\n",
    "print(\" \")\n",
    "print(\"Precision Length:\",len(precision),\",\",precision)\n",
    "max_prec = np.max(precision)\n",
    "max_prec_index = precision.argmax() + 2\n",
    "print(\"Maximum precision:\", max_prec, \"using\", max_prec_index, \"components\")\n",
    "\n",
    "\n",
    "print(\" \")\n",
    "print(\"Recall Length:\",len(recall),\",\",recall)\n",
    "max_recall = np.max(recall)\n",
    "max_recall_index = recall.argmax() + 2\n",
    "print(\"Maximum recall:\", max_recall, \"using\", max_recall_index, \"components\")"
   ]
  },
  {
   "cell_type": "code",
   "execution_count": 14,
   "id": "0c917606-295d-4ccb-a43e-de60f2db10f4",
   "metadata": {},
   "outputs": [
    {
     "data": {
      "image/png": "[encoded data removed]",
      "text/plain": [
       "<Figure size 640x480 with 1 Axes>"
      ]
     },
     "metadata": {
      "needs_background": "light"
     },
     "output_type": "display_data"
    }
   ],
   "source": [
    "yes = np.arange(upperK)\n",
    "for i in range(len(yes)):\n",
    "    yes[i] = yes[i] + 2\n",
    "\n",
    "strings = []\n",
    "for i in range(upperK):\n",
    "    new = str(i+2)\n",
    "    strings.append(new)\n",
    "         \n",
    "figure(figsize=(8, 6), dpi=80)\n",
    "\n",
    "width = 0.25 \n",
    "plt.bar(yes, accuracy, color='blue', tick_label=strings, width=0.25, label = \"accuracy\")\n",
    "plt.bar(yes+width, precision, color='violet',width=0.25, label = \"precision\")\n",
    "plt.bar(yes+2*width, recall, color='green',width=0.25, label = \"recall\")\n",
    "\n",
    "plt.xlabel(\"# of PCA Components\")\n",
    "plt.ylabel(\"Metric Magnitude [%]\")\n",
    "plt.title(\"Metrics vs. # of PCA Components,  degree 3 polynomial kernal\")\n",
    "plt.axis([1, upperK+1, 82, maximum+2])\n",
    "plt.legend(loc='best')\n",
    "plt.show()"
   ]
  },
  {
   "cell_type": "code",
   "execution_count": 15,
   "id": "be4174dc-1342-4c69-a80d-1ee752a25049",
   "metadata": {},
   "outputs": [
    {
     "name": "stdout",
     "output_type": "stream",
     "text": [
      "Accuracy Length: 30 , [89.5 91.2 93.  95.6 95.6 96.5 98.2 97.4 97.4 96.5 97.4 98.2 97.4 98.2\n",
      " 98.2 97.4 97.4 97.4 97.4 97.4 97.4 97.4 97.4 97.4 97.4 97.4 97.4 97.4\n",
      " 97.4  0. ]\n",
      "Maximum accuracy: 98.2 using 8 components\n",
      " \n",
      "Precision Length: 30 , [92.31 92.54 92.75 95.59 95.59 97.01 98.51 97.06 97.06 97.01 97.06 98.51\n",
      " 97.06 98.51 98.51 97.06 97.06 97.06 97.06 97.06 97.06 97.06 97.06 97.06\n",
      " 97.06 97.06 97.06 97.06 97.06  0.  ]\n",
      "Maximum precision: 98.51 using 8 components\n",
      " \n",
      "Recall Length: 30 , [89.55 92.54 95.52 97.01 97.01 97.01 98.51 98.51 98.51 97.01 98.51 98.51\n",
      " 98.51 98.51 98.51 98.51 98.51 98.51 98.51 98.51 98.51 98.51 98.51 98.51\n",
      " 98.51 98.51 98.51 98.51 98.51  0.  ]\n",
      "Maximum recall: 98.51 using 8 components\n"
     ]
    }
   ],
   "source": [
    "accuracy = np.zeros(upperK)\n",
    "precision = np.zeros(upperK)\n",
    "recall = np.zeros(upperK)\n",
    "\n",
    "# PCA feature extraction algorithm. Also runs SVM and computes evaluation metrics\n",
    "for h in range(2,upperK+1):\n",
    "    h_range = list(range(0,h))\n",
    "    K1 = pca_iterations(h,x,y)\n",
    "    \n",
    "    X = K1.loc[:, h_range].values \n",
    "    Y = K1.loc[:, ['targets']].values\n",
    "    Y_array = Y.reshape(569,)\n",
    "    X_train, X_test, Y_train, Y_test = train_test_split(X, Y_array, test_size = 0.20, random_state = 0)\n",
    "        \n",
    "    # Create a svm Classifier\n",
    "    clf = svm.SVC(kernel='rbf') # rbf kernel\n",
    "    clf.fit(X_train, Y_train)\n",
    "    Y_pred = clf.predict(X_test)\n",
    "    cnf_matrix = confusion_matrix(Y_test, Y_pred) \n",
    "\n",
    "    # Calculate accuracy, precision, and recall for each iteration\n",
    "    accuracy[h-2] = round(metrics.accuracy_score(Y_test, Y_pred)*100,1)\n",
    "    precision[h-2] = round(metrics.precision_score(Y_test, Y_pred)*100,2)\n",
    "    recall[h-2] = round(metrics.recall_score(Y_test, Y_pred)*100,2)\n",
    "    \n",
    "maximum = np.max(recall)\n",
    "\n",
    "# Show the evaluation mertic arrays as well as # of PCA components where each metric reaches its first maximum \n",
    "print(\"Accuracy Length:\",len(accuracy),\",\",accuracy)\n",
    "max_accur = np.max(accuracy)\n",
    "max_accur_index = accuracy.argmax() + 2\n",
    "print(\"Maximum accuracy:\", max_accur, \"using\", max_accur_index, \"components\")\n",
    "\n",
    "print(\" \")\n",
    "print(\"Precision Length:\",len(precision),\",\",precision)\n",
    "max_prec = np.max(precision)\n",
    "max_prec_index = precision.argmax() + 2\n",
    "print(\"Maximum precision:\", max_prec, \"using\", max_prec_index, \"components\")\n",
    "\n",
    "\n",
    "print(\" \")\n",
    "print(\"Recall Length:\",len(recall),\",\",recall)\n",
    "max_recall = np.max(recall)\n",
    "max_recall_index = recall.argmax() + 2\n",
    "print(\"Maximum recall:\", max_recall, \"using\", max_recall_index, \"components\")"
   ]
  },
  {
   "cell_type": "code",
   "execution_count": 16,
   "id": "a2abd639-e6ae-4e66-903a-490e20ff27df",
   "metadata": {},
   "outputs": [
    {
     "data": {
      "image/png": "[encoded data removed]",
      "text/plain": [
       "<Figure size 640x480 with 1 Axes>"
      ]
     },
     "metadata": {
      "needs_background": "light"
     },
     "output_type": "display_data"
    }
   ],
   "source": [
    "yes = np.arange(upperK)\n",
    "for i in range(len(yes)):\n",
    "    yes[i] = yes[i] + 2\n",
    "\n",
    "strings = []\n",
    "for i in range(upperK):\n",
    "    new = str(i+2)\n",
    "    strings.append(new)\n",
    "         \n",
    "figure(figsize=(8, 6), dpi=80)\n",
    "\n",
    "width = 0.25 \n",
    "plt.bar(yes, accuracy, color='blue', tick_label=strings, width=0.25, label = \"accuracy\")\n",
    "plt.bar(yes+width, precision, color='violet',width=0.25, label = \"precision\")\n",
    "plt.bar(yes+2*width, recall, color='green',width=0.25, label = \"recall\")\n",
    "\n",
    "plt.xlabel(\"# of PCA Components\")\n",
    "plt.ylabel(\"Metric Magnitude [%]\")\n",
    "plt.title(\"Metrics vs. # of PCA Components, rbf kernal\")\n",
    "plt.axis([1, upperK+1, 87.5, maximum+2])\n",
    "plt.legend(loc='best')\n",
    "plt.show()"
   ]
  },
  {
   "cell_type": "code",
   "execution_count": 17,
   "id": "cd8f6da1-1c67-40e6-bea9-b50683073d62",
   "metadata": {},
   "outputs": [],
   "source": [
    "# Explore different kernel tricks to capture non-linearities within your data.  \n",
    "# Plot the results and compare the accuracies for different kernels."
   ]
  },
  {
   "cell_type": "code",
   "execution_count": 18,
   "id": "6302c29e-bdf4-4f13-8a61-889478583881",
   "metadata": {},
   "outputs": [],
   "source": [
    "# Compare your results against the logistic regression that you have done in homework 3."
   ]
  },
  {
   "cell_type": "code",
   "execution_count": 19,
   "id": "6de6ddb9-a7d8-4464-808d-ea6a6d7f9c80",
   "metadata": {},
   "outputs": [],
   "source": [
    "#$$$$$$$$$$$$$$$$$$$$$$$$$$  Problem 2  $$$$$$$$$$$$$$$$$$$$$$$$$$$$$$$$$$$$$$$$$$$$$$$$$$$$$$$$$$$$$$$$$$$$$$$$$$$$$$$$$$"
   ]
  },
  {
   "cell_type": "code",
   "execution_count": 20,
   "id": "15d2c4f7-eb52-459f-a5fd-52515057c710",
   "metadata": {},
   "outputs": [],
   "source": [
    "from sklearn.svm import SVR"
   ]
  },
  {
   "cell_type": "code",
   "execution_count": 21,
   "id": "9a4d6097-a24d-46d7-9e9a-177a54f0fdc2",
   "metadata": {},
   "outputs": [],
   "source": [
    "def data_organize(data,length,scaling,problem): # Organize data into matrix for use with SVR algorithm\n",
    "    \n",
    "    # Create a list full of zeros with length of # of columns in dataset\n",
    "    cols = len(data.columns)\n",
    "    C = [0]*cols\n",
    "    \n",
    "    for i in range(len(C)):\n",
    "        B = data.values[:, i]\n",
    "        X = B.reshape(length, 1)\n",
    "        C[i] = X\n",
    "    \n",
    "    # if scaling is activated, scales price, specific to dataset in 1a)\n",
    "    end = int(len(C) - 1)\n",
    "    if scaling == 1:\n",
    "        C[0]=C[0]*10**(-3) \n",
    "        Y = data.values[:, end]*10**(-6)\n",
    "    else:\n",
    "        Y = data.values[:, end]\n",
    "\n",
    "    initial = np.ones((length, 1)) # Create a 99x1 array of ones\n",
    "    \n",
    "    # PROBLEM IS HERE WITH .hstack(), can .hstack() be dynamic?\n",
    "    if problem == 0:\n",
    "        X_tot = np.hstack((C[0],C[1],C[2],C[3],C[4]))\n",
    "    else:\n",
    "        X_tot = np.hstack((C[0],C[1],C[2],C[3],C[4],C[5],C[6],C[7],C[8],C[9]))\n",
    "\n",
    "      \n",
    "    return X_tot, Y"
   ]
  },
  {
   "cell_type": "code",
   "execution_count": 22,
   "id": "ee4d8002-6158-4c5b-afb0-9e33df5e31cd",
   "metadata": {},
   "outputs": [
    {
     "name": "stdout",
     "output_type": "stream",
     "text": [
      "(545, 13)\n"
     ]
    },
    {
     "data": {
      "text/html": [
       "<div>\n",
       "<style scoped>\n",
       "    .dataframe tbody tr th:only-of-type {\n",
       "        vertical-align: middle;\n",
       "    }\n",
       "\n",
       "    .dataframe tbody tr th {\n",
       "        vertical-align: top;\n",
       "    }\n",
       "\n",
       "    .dataframe thead th {\n",
       "        text-align: right;\n",
       "    }\n",
       "</style>\n",
       "<table border=\"1\" class=\"dataframe\">\n",
       "  <thead>\n",
       "    <tr style=\"text-align: right;\">\n",
       "      <th></th>\n",
       "      <th>price</th>\n",
       "      <th>area</th>\n",
       "      <th>bedrooms</th>\n",
       "      <th>bathrooms</th>\n",
       "      <th>stories</th>\n",
       "      <th>mainroad</th>\n",
       "      <th>guestroom</th>\n",
       "      <th>basement</th>\n",
       "      <th>hotwaterheating</th>\n",
       "      <th>airconditioning</th>\n",
       "      <th>parking</th>\n",
       "      <th>prefarea</th>\n",
       "      <th>furnishingstatus</th>\n",
       "    </tr>\n",
       "  </thead>\n",
       "  <tbody>\n",
       "    <tr>\n",
       "      <th>0</th>\n",
       "      <td>13300000</td>\n",
       "      <td>7420</td>\n",
       "      <td>4</td>\n",
       "      <td>2</td>\n",
       "      <td>3</td>\n",
       "      <td>yes</td>\n",
       "      <td>no</td>\n",
       "      <td>no</td>\n",
       "      <td>no</td>\n",
       "      <td>yes</td>\n",
       "      <td>2</td>\n",
       "      <td>yes</td>\n",
       "      <td>furnished</td>\n",
       "    </tr>\n",
       "    <tr>\n",
       "      <th>1</th>\n",
       "      <td>12250000</td>\n",
       "      <td>8960</td>\n",
       "      <td>4</td>\n",
       "      <td>4</td>\n",
       "      <td>4</td>\n",
       "      <td>yes</td>\n",
       "      <td>no</td>\n",
       "      <td>no</td>\n",
       "      <td>no</td>\n",
       "      <td>yes</td>\n",
       "      <td>3</td>\n",
       "      <td>no</td>\n",
       "      <td>furnished</td>\n",
       "    </tr>\n",
       "    <tr>\n",
       "      <th>2</th>\n",
       "      <td>12250000</td>\n",
       "      <td>9960</td>\n",
       "      <td>3</td>\n",
       "      <td>2</td>\n",
       "      <td>2</td>\n",
       "      <td>yes</td>\n",
       "      <td>no</td>\n",
       "      <td>yes</td>\n",
       "      <td>no</td>\n",
       "      <td>no</td>\n",
       "      <td>2</td>\n",
       "      <td>yes</td>\n",
       "      <td>semi-furnished</td>\n",
       "    </tr>\n",
       "    <tr>\n",
       "      <th>3</th>\n",
       "      <td>12215000</td>\n",
       "      <td>7500</td>\n",
       "      <td>4</td>\n",
       "      <td>2</td>\n",
       "      <td>2</td>\n",
       "      <td>yes</td>\n",
       "      <td>no</td>\n",
       "      <td>yes</td>\n",
       "      <td>no</td>\n",
       "      <td>yes</td>\n",
       "      <td>3</td>\n",
       "      <td>yes</td>\n",
       "      <td>furnished</td>\n",
       "    </tr>\n",
       "    <tr>\n",
       "      <th>4</th>\n",
       "      <td>11410000</td>\n",
       "      <td>7420</td>\n",
       "      <td>4</td>\n",
       "      <td>1</td>\n",
       "      <td>2</td>\n",
       "      <td>yes</td>\n",
       "      <td>yes</td>\n",
       "      <td>yes</td>\n",
       "      <td>no</td>\n",
       "      <td>yes</td>\n",
       "      <td>2</td>\n",
       "      <td>no</td>\n",
       "      <td>furnished</td>\n",
       "    </tr>\n",
       "  </tbody>\n",
       "</table>\n",
       "</div>"
      ],
      "text/plain": [
       "      price  area  bedrooms  bathrooms  stories mainroad guestroom basement  \\\n",
       "0  13300000  7420         4          2        3      yes        no       no   \n",
       "1  12250000  8960         4          4        4      yes        no       no   \n",
       "2  12250000  9960         3          2        2      yes        no      yes   \n",
       "3  12215000  7500         4          2        2      yes        no      yes   \n",
       "4  11410000  7420         4          1        2      yes       yes      yes   \n",
       "\n",
       "  hotwaterheating airconditioning  parking prefarea furnishingstatus  \n",
       "0              no             yes        2      yes        furnished  \n",
       "1              no             yes        3       no        furnished  \n",
       "2              no              no        2      yes   semi-furnished  \n",
       "3              no             yes        3      yes        furnished  \n",
       "4              no             yes        2       no        furnished  "
      ]
     },
     "execution_count": 22,
     "metadata": {},
     "output_type": "execute_result"
    }
   ],
   "source": [
    "# This section is for Support Vector Regression (SVR) model to predict housing prices that were seen in HW1\n",
    "\n",
    "# Import housing list \n",
    "housing = pd.read_csv('Housing.csv')\n",
    "print(housing.shape)\n",
    "\n",
    "# Variables 1\n",
    "varlist1 = ['area','bedrooms','bathrooms','stories','parking','price']\n",
    "\n",
    "# Variables 2\n",
    "varlist2 = ['area','bedrooms','bathrooms','stories','mainroad','guestroom','basement','hotwaterheating','airconditioning','parking','prefarea','price']\n",
    "\n",
    "housing.head()"
   ]
  },
  {
   "cell_type": "code",
   "execution_count": 23,
   "id": "88eafafa-2cc7-4431-834e-5362845dd08c",
   "metadata": {},
   "outputs": [],
   "source": [
    "# This shows data set metrics\n",
    "# housing.describe()"
   ]
  },
  {
   "cell_type": "code",
   "execution_count": 24,
   "id": "9ddbb99b-d5f1-45a9-8bcf-289dc3bc0090",
   "metadata": {},
   "outputs": [],
   "source": [
    "# Make all yes/no answers into binary\n",
    "\n",
    "binary_varlist = ['mainroad', 'guestroom', 'basement','hotwaterheating', 'airconditioning','prefarea']\n",
    "\n",
    "#varlist=['mainroad','guestroom','basement','hotwaterheating','airconditioning',\n",
    "# Defining the map function\n",
    "         \n",
    "def binary_map(x):\n",
    "         return x.map({'yes':1,\"no\":0})\n",
    "         \n",
    "# Applying the function to the housing list\n",
    "housing[binary_varlist]=housing[binary_varlist].apply(binary_map)\n",
    "\n",
    "# Check the housing dataframe now\n",
    "# housing.head()"
   ]
  },
  {
   "cell_type": "code",
   "execution_count": 25,
   "id": "f63a7760-e2b4-4c16-88c1-e976ba2d995a",
   "metadata": {},
   "outputs": [],
   "source": [
    "B = housing.values[:, 0] # Price values"
   ]
  },
  {
   "cell_type": "code",
   "execution_count": 26,
   "id": "f8ea34fd-7f5b-4aaa-9718-346a3d6ec19f",
   "metadata": {},
   "outputs": [
    {
     "name": "stdout",
     "output_type": "stream",
     "text": [
      "Dimensions of df_train: (381, 13)\n",
      "Dimensions of df_train: (164, 13)\n"
     ]
    }
   ],
   "source": [
    "from sklearn.model_selection import train_test_split\n",
    "\n",
    "# Splitting the dataset into two sets specified in train_test_split\n",
    "np.random.seed(0)\n",
    "df_train, df_test = train_test_split(housing, test_size = 0.3, train_size = 0.7, random_state = 1 )\n",
    "\n",
    "# Get the lengths of the training and test set\n",
    "mTrain = len(df_train)\n",
    "mTest = len(df_test)\n",
    "\n",
    "print('Dimensions of df_train:',df_train.shape)\n",
    "print('Dimensions of df_train:',df_test.shape)"
   ]
  },
  {
   "cell_type": "code",
   "execution_count": 27,
   "id": "e00b418a-8c0a-404f-99db-1b75cc4eae15",
   "metadata": {},
   "outputs": [
    {
     "name": "stdout",
     "output_type": "stream",
     "text": [
      "Dimensions of training set used in 1a: (381, 6)\n",
      "Dimensions of training set used in 1b: (381, 12)\n",
      "     area  bedrooms  bathrooms  stories  mainroad  guestroom  basement  \\\n",
      "180  4500         4          2        1         0          0         1   \n",
      "189  3540         2          1        1         0          1         1   \n",
      "93   7200         3          2        1         1          0         1   \n",
      "\n",
      "     hotwaterheating  airconditioning  parking  prefarea    price  \n",
      "180                0                1        2         0  5215000  \n",
      "189                0                0        0         0  5040000  \n",
      "93                 0                1        3         0  6300000  \n"
     ]
    }
   ],
   "source": [
    "df_NewtrainA = df_train[varlist1]\n",
    "df_NewtestA = df_test[varlist1]\n",
    "\n",
    "df_NewtrainB = df_train[varlist2]\n",
    "df_NewtestB = df_test[varlist2]\n",
    "\n",
    "print('Dimensions of training set used in 1a:', df_NewtrainA.shape)\n",
    "print('Dimensions of training set used in 1b:', df_NewtrainB.shape)\n",
    "#print(df_NewtrainA[: 5])\n",
    "print(df_NewtrainB[: 3])"
   ]
  },
  {
   "cell_type": "code",
   "execution_count": 28,
   "id": "0fe58e1b-3d35-4c41-90a0-4fe066a94e79",
   "metadata": {},
   "outputs": [
    {
     "name": "stdout",
     "output_type": "stream",
     "text": [
      "(381,)\n"
     ]
    }
   ],
   "source": [
    "y = df_train.values[:, 0]\n",
    "print(y.shape)"
   ]
  },
  {
   "cell_type": "code",
   "execution_count": 29,
   "id": "92822f38-bc05-41f4-b647-c39fcc9e1891",
   "metadata": {},
   "outputs": [],
   "source": [
    "xTrainA, yTrainA = data_organize(df_NewtrainA,mTrain,1,0)\n",
    "xTestA, yTestA = data_organize(df_NewtestA,mTest,1,0)\n",
    "\n",
    "mTrainB = len(df_NewtrainB)\n",
    "mTestB = len(df_NewtestB)\n",
    "\n",
    "xTrainB, yTrainB = data_organize(df_NewtrainB,mTrainB,1,1)\n",
    "xTestB, yTestB = data_organize(df_NewtrainB,mTrain,1,1)"
   ]
  },
  {
   "cell_type": "code",
   "execution_count": 30,
   "id": "8f2729ba-eb83-464f-b221-3f827561de24",
   "metadata": {},
   "outputs": [],
   "source": [
    "# Put the training and test data into appropriate variables X and y in this block"
   ]
  },
  {
   "cell_type": "code",
   "execution_count": 31,
   "id": "4e17f96f-092d-43d0-b7bd-4e6f320162c2",
   "metadata": {},
   "outputs": [],
   "source": [
    "# Fit regression model\n",
    "svr_rbf = SVR(kernel='rbf', C=1e3, gamma=0.1)\n",
    "svr_lin = SVR(kernel='linear', C=1e3)\n",
    "svr_poly = SVR(kernel='poly', C=1e3, degree=2)\n",
    "y_rbf = svr_rbf.fit(xTrainA,yTrainA).predict(xTrainA)\n",
    "# y_lin = svr_lin.fit(X, y).predict(X)\n",
    "# y_poly = svr_poly.fit(X, y).predict(X)"
   ]
  },
  {
   "cell_type": "code",
   "execution_count": 32,
   "id": "5fa5996d-debe-4842-9852-24b86fcac935",
   "metadata": {},
   "outputs": [
    {
     "name": "stdout",
     "output_type": "stream",
     "text": [
      "[5.25667881 3.23981373 6.19946797 3.60463012 6.51537502]\n"
     ]
    }
   ],
   "source": [
    "# These are the predictions from the SVR. From here I am not sure what to do\n",
    "print(y_rbf[: 5])"
   ]
  },
  {
   "cell_type": "code",
   "execution_count": null,
   "id": "a54bab99-7521-4937-8d07-4a6d32530bf5",
   "metadata": {},
   "outputs": [],
   "source": []
  }
 ],
 "metadata": {
  "kernelspec": {
   "display_name": "Python 3",
   "language": "python",
   "name": "python3"
  },
  "language_info": {
   "codemirror_mode": {
    "name": "ipython",
    "version": 3
   },
   "file_extension": ".py",
   "mimetype": "text/x-python",
   "name": "python",
   "nbconvert_exporter": "python",
   "pygments_lexer": "ipython3",
   "version": "3.8.8"
  }
 },
 "nbformat": 4,
 "nbformat_minor": 5
}
