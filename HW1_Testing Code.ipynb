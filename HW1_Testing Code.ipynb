{
 "cells": [
  {
   "cell_type": "code",
   "execution_count": 1,
   "id": "c06c9669-652a-429e-b98a-c7a28b2722ec",
   "metadata": {},
   "outputs": [],
   "source": [
    "# This is for testing code"
   ]
  },
  {
   "cell_type": "code",
   "execution_count": 2,
   "id": "52907bd0-4f6c-4bd9-80d5-a975e59826ab",
   "metadata": {},
   "outputs": [],
   "source": [
    "import numpy as np\n",
    "import pandas as pd\n",
    "import matplotlib.pyplot as plt\n",
    "import seaborn as sns"
   ]
  },
  {
   "cell_type": "code",
   "execution_count": 3,
   "id": "20084f22-2a27-40f4-8025-6305dcc7d0b4",
   "metadata": {},
   "outputs": [],
   "source": [
    "def compute_cost(x, y, theta, m): # Compute cost for linear regression.\n",
    "\n",
    "    predictions = x.dot(theta)\n",
    "    errors = np.subtract(predictions, y)\n",
    "    sqrErrors = np.square(errors)\n",
    "    J = 1 / (2 * m) * np.sum(sqrErrors) # cost function, sum of squared errors\n",
    "    return J"
   ]
  },
  {
   "cell_type": "code",
   "execution_count": 4,
   "id": "a23d2ee5-7133-49b3-9e8f-14f069958b0e",
   "metadata": {},
   "outputs": [],
   "source": [
    "def gradient_descent(x, y, a, b, theta, alpha, iterations, lengthTrain, lengthTest): # Compute cost for linear regression.\n",
    "\n",
    "    cost_history = np.zeros(iterations)\n",
    "    cost_history_test = np.zeros(iterations)\n",
    "    \n",
    "    for i in range(iterations):\n",
    "        predictions = x.dot(theta)\n",
    "        errors = np.subtract(predictions, y)\n",
    "        sum_delta = (alpha / lengthTrain) * x.transpose().dot(errors);\n",
    "        theta = theta - sum_delta;\n",
    "        cost_history[i] = compute_cost(x, y, theta, lengthTrain)\n",
    "        cost_history_test[i] = compute_cost(a, b, theta, lengthTest)\n",
    "        \n",
    "    return theta, cost_history, cost_history_test"
   ]
  },
  {
   "cell_type": "code",
   "execution_count": 5,
   "id": "3a498aa4-1b40-44e8-8d69-3f7911c057f2",
   "metadata": {},
   "outputs": [],
   "source": [
    "def data_organize(data,length,scaling,problem): # Organize data into matrix for use with gradient descent algorithm\n",
    "    \n",
    "    cols = len(data.columns)\n",
    "    C = [0]*cols\n",
    "    \n",
    "    for i in range(len(C)):\n",
    "        B = data.values[:, i]\n",
    "        X = B.reshape(length, 1)\n",
    "        C[i] = X\n",
    "    \n",
    "    # if scaling is activated, scales price, specific to dataset in 1a)\n",
    "    end = int(len(C) - 1)\n",
    "    if scaling == 1:\n",
    "        C[0]=C[0]*10**(-3) \n",
    "        Y = data.values[:, end]*10**(-6)\n",
    "    else:\n",
    "        Y = data.values[:, end]\n",
    "\n",
    "    initial = np.ones((length, 1)) # Create a 99x1 array of ones\n",
    "    \n",
    "    # PROBLEM IS HERE WITH .hstack(), can .hstack() be dynamic?\n",
    "    if problem == 0:\n",
    "        X_tot = np.hstack((initial,C[0],C[1],C[2],C[3],C[4]))\n",
    "    else:\n",
    "        X_tot = np.hstack((initial,C[0],C[1],C[2],C[3],C[4],C[5],C[6],C[7],C[8],C[9]))\n",
    "\n",
    "      \n",
    "    return X_tot, Y"
   ]
  },
  {
   "cell_type": "code",
   "execution_count": 6,
   "id": "a66d0085-348e-4fed-af4e-015b5f8e009d",
   "metadata": {},
   "outputs": [
    {
     "name": "stdout",
     "output_type": "stream",
     "text": [
      "(545, 13)\n"
     ]
    },
    {
     "data": {
      "text/html": [
       "<div>\n",
       "<style scoped>\n",
       "    .dataframe tbody tr th:only-of-type {\n",
       "        vertical-align: middle;\n",
       "    }\n",
       "\n",
       "    .dataframe tbody tr th {\n",
       "        vertical-align: top;\n",
       "    }\n",
       "\n",
       "    .dataframe thead th {\n",
       "        text-align: right;\n",
       "    }\n",
       "</style>\n",
       "<table border=\"1\" class=\"dataframe\">\n",
       "  <thead>\n",
       "    <tr style=\"text-align: right;\">\n",
       "      <th></th>\n",
       "      <th>price</th>\n",
       "      <th>area</th>\n",
       "      <th>bedrooms</th>\n",
       "      <th>bathrooms</th>\n",
       "      <th>stories</th>\n",
       "      <th>mainroad</th>\n",
       "      <th>guestroom</th>\n",
       "      <th>basement</th>\n",
       "      <th>hotwaterheating</th>\n",
       "      <th>airconditioning</th>\n",
       "      <th>parking</th>\n",
       "      <th>prefarea</th>\n",
       "      <th>furnishingstatus</th>\n",
       "    </tr>\n",
       "  </thead>\n",
       "  <tbody>\n",
       "    <tr>\n",
       "      <th>0</th>\n",
       "      <td>13300000</td>\n",
       "      <td>7420</td>\n",
       "      <td>4</td>\n",
       "      <td>2</td>\n",
       "      <td>3</td>\n",
       "      <td>yes</td>\n",
       "      <td>no</td>\n",
       "      <td>no</td>\n",
       "      <td>no</td>\n",
       "      <td>yes</td>\n",
       "      <td>2</td>\n",
       "      <td>yes</td>\n",
       "      <td>furnished</td>\n",
       "    </tr>\n",
       "    <tr>\n",
       "      <th>1</th>\n",
       "      <td>12250000</td>\n",
       "      <td>8960</td>\n",
       "      <td>4</td>\n",
       "      <td>4</td>\n",
       "      <td>4</td>\n",
       "      <td>yes</td>\n",
       "      <td>no</td>\n",
       "      <td>no</td>\n",
       "      <td>no</td>\n",
       "      <td>yes</td>\n",
       "      <td>3</td>\n",
       "      <td>no</td>\n",
       "      <td>furnished</td>\n",
       "    </tr>\n",
       "    <tr>\n",
       "      <th>2</th>\n",
       "      <td>12250000</td>\n",
       "      <td>9960</td>\n",
       "      <td>3</td>\n",
       "      <td>2</td>\n",
       "      <td>2</td>\n",
       "      <td>yes</td>\n",
       "      <td>no</td>\n",
       "      <td>yes</td>\n",
       "      <td>no</td>\n",
       "      <td>no</td>\n",
       "      <td>2</td>\n",
       "      <td>yes</td>\n",
       "      <td>semi-furnished</td>\n",
       "    </tr>\n",
       "    <tr>\n",
       "      <th>3</th>\n",
       "      <td>12215000</td>\n",
       "      <td>7500</td>\n",
       "      <td>4</td>\n",
       "      <td>2</td>\n",
       "      <td>2</td>\n",
       "      <td>yes</td>\n",
       "      <td>no</td>\n",
       "      <td>yes</td>\n",
       "      <td>no</td>\n",
       "      <td>yes</td>\n",
       "      <td>3</td>\n",
       "      <td>yes</td>\n",
       "      <td>furnished</td>\n",
       "    </tr>\n",
       "    <tr>\n",
       "      <th>4</th>\n",
       "      <td>11410000</td>\n",
       "      <td>7420</td>\n",
       "      <td>4</td>\n",
       "      <td>1</td>\n",
       "      <td>2</td>\n",
       "      <td>yes</td>\n",
       "      <td>yes</td>\n",
       "      <td>yes</td>\n",
       "      <td>no</td>\n",
       "      <td>yes</td>\n",
       "      <td>2</td>\n",
       "      <td>no</td>\n",
       "      <td>furnished</td>\n",
       "    </tr>\n",
       "  </tbody>\n",
       "</table>\n",
       "</div>"
      ],
      "text/plain": [
       "      price  area  bedrooms  bathrooms  stories mainroad guestroom basement  \\\n",
       "0  13300000  7420         4          2        3      yes        no       no   \n",
       "1  12250000  8960         4          4        4      yes        no       no   \n",
       "2  12250000  9960         3          2        2      yes        no      yes   \n",
       "3  12215000  7500         4          2        2      yes        no      yes   \n",
       "4  11410000  7420         4          1        2      yes       yes      yes   \n",
       "\n",
       "  hotwaterheating airconditioning  parking prefarea furnishingstatus  \n",
       "0              no             yes        2      yes        furnished  \n",
       "1              no             yes        3       no        furnished  \n",
       "2              no              no        2      yes   semi-furnished  \n",
       "3              no             yes        3      yes        furnished  \n",
       "4              no             yes        2       no        furnished  "
      ]
     },
     "execution_count": 6,
     "metadata": {},
     "output_type": "execute_result"
    }
   ],
   "source": [
    "# Import housing list \n",
    "housing = pd.read_csv('Housing.csv')\n",
    "print(housing.shape)\n",
    "\n",
    "# 1a Variables\n",
    "varlist1 = ['area','bedrooms','bathrooms','stories','parking','price']\n",
    "varlist2 = ['area','bedrooms','bathrooms','stories','mainroad','guestroom','basement','hotwaterheating','airconditioning','parking','prefarea','price']\n",
    "\n",
    "housing.head()"
   ]
  },
  {
   "cell_type": "code",
   "execution_count": 7,
   "id": "0aa90cfa-8e21-4424-800e-37af887679f7",
   "metadata": {},
   "outputs": [
    {
     "data": {
      "text/html": [
       "<div>\n",
       "<style scoped>\n",
       "    .dataframe tbody tr th:only-of-type {\n",
       "        vertical-align: middle;\n",
       "    }\n",
       "\n",
       "    .dataframe tbody tr th {\n",
       "        vertical-align: top;\n",
       "    }\n",
       "\n",
       "    .dataframe thead th {\n",
       "        text-align: right;\n",
       "    }\n",
       "</style>\n",
       "<table border=\"1\" class=\"dataframe\">\n",
       "  <thead>\n",
       "    <tr style=\"text-align: right;\">\n",
       "      <th></th>\n",
       "      <th>price</th>\n",
       "      <th>area</th>\n",
       "      <th>bedrooms</th>\n",
       "      <th>bathrooms</th>\n",
       "      <th>stories</th>\n",
       "      <th>mainroad</th>\n",
       "      <th>guestroom</th>\n",
       "      <th>basement</th>\n",
       "      <th>hotwaterheating</th>\n",
       "      <th>airconditioning</th>\n",
       "      <th>parking</th>\n",
       "      <th>prefarea</th>\n",
       "      <th>furnishingstatus</th>\n",
       "    </tr>\n",
       "  </thead>\n",
       "  <tbody>\n",
       "    <tr>\n",
       "      <th>0</th>\n",
       "      <td>13300000</td>\n",
       "      <td>7420</td>\n",
       "      <td>4</td>\n",
       "      <td>2</td>\n",
       "      <td>3</td>\n",
       "      <td>1</td>\n",
       "      <td>0</td>\n",
       "      <td>0</td>\n",
       "      <td>0</td>\n",
       "      <td>1</td>\n",
       "      <td>2</td>\n",
       "      <td>1</td>\n",
       "      <td>furnished</td>\n",
       "    </tr>\n",
       "    <tr>\n",
       "      <th>1</th>\n",
       "      <td>12250000</td>\n",
       "      <td>8960</td>\n",
       "      <td>4</td>\n",
       "      <td>4</td>\n",
       "      <td>4</td>\n",
       "      <td>1</td>\n",
       "      <td>0</td>\n",
       "      <td>0</td>\n",
       "      <td>0</td>\n",
       "      <td>1</td>\n",
       "      <td>3</td>\n",
       "      <td>0</td>\n",
       "      <td>furnished</td>\n",
       "    </tr>\n",
       "    <tr>\n",
       "      <th>2</th>\n",
       "      <td>12250000</td>\n",
       "      <td>9960</td>\n",
       "      <td>3</td>\n",
       "      <td>2</td>\n",
       "      <td>2</td>\n",
       "      <td>1</td>\n",
       "      <td>0</td>\n",
       "      <td>1</td>\n",
       "      <td>0</td>\n",
       "      <td>0</td>\n",
       "      <td>2</td>\n",
       "      <td>1</td>\n",
       "      <td>semi-furnished</td>\n",
       "    </tr>\n",
       "    <tr>\n",
       "      <th>3</th>\n",
       "      <td>12215000</td>\n",
       "      <td>7500</td>\n",
       "      <td>4</td>\n",
       "      <td>2</td>\n",
       "      <td>2</td>\n",
       "      <td>1</td>\n",
       "      <td>0</td>\n",
       "      <td>1</td>\n",
       "      <td>0</td>\n",
       "      <td>1</td>\n",
       "      <td>3</td>\n",
       "      <td>1</td>\n",
       "      <td>furnished</td>\n",
       "    </tr>\n",
       "    <tr>\n",
       "      <th>4</th>\n",
       "      <td>11410000</td>\n",
       "      <td>7420</td>\n",
       "      <td>4</td>\n",
       "      <td>1</td>\n",
       "      <td>2</td>\n",
       "      <td>1</td>\n",
       "      <td>1</td>\n",
       "      <td>1</td>\n",
       "      <td>0</td>\n",
       "      <td>1</td>\n",
       "      <td>2</td>\n",
       "      <td>0</td>\n",
       "      <td>furnished</td>\n",
       "    </tr>\n",
       "  </tbody>\n",
       "</table>\n",
       "</div>"
      ],
      "text/plain": [
       "      price  area  bedrooms  bathrooms  stories  mainroad  guestroom  \\\n",
       "0  13300000  7420         4          2        3         1          0   \n",
       "1  12250000  8960         4          4        4         1          0   \n",
       "2  12250000  9960         3          2        2         1          0   \n",
       "3  12215000  7500         4          2        2         1          0   \n",
       "4  11410000  7420         4          1        2         1          1   \n",
       "\n",
       "   basement  hotwaterheating  airconditioning  parking  prefarea  \\\n",
       "0         0                0                1        2         1   \n",
       "1         0                0                1        3         0   \n",
       "2         1                0                0        2         1   \n",
       "3         1                0                1        3         1   \n",
       "4         1                0                1        2         0   \n",
       "\n",
       "  furnishingstatus  \n",
       "0        furnished  \n",
       "1        furnished  \n",
       "2   semi-furnished  \n",
       "3        furnished  \n",
       "4        furnished  "
      ]
     },
     "execution_count": 7,
     "metadata": {},
     "output_type": "execute_result"
    }
   ],
   "source": [
    "# Binary Variables DOES THIS ACTUALLY WORK?\n",
    "binary_varlist = ['mainroad', 'guestroom', 'basement','hotwaterheating', 'airconditioning','prefarea']\n",
    "\n",
    "#varlist=['mainroad','guestroom','basement','hotwaterheating','airconditioning',\n",
    "# Defining the map function\n",
    "         \n",
    "def binary_map(x):\n",
    "         return x.map({'yes':1,\"no\":0})\n",
    "         \n",
    "# Applying the function to the housing list\n",
    "housing[binary_varlist]=housing[binary_varlist].apply(binary_map)\n",
    "# Check the housing dataframe now\n",
    "housing.head()"
   ]
  },
  {
   "cell_type": "code",
   "execution_count": 8,
   "id": "fd459a7c-35e8-4ae0-b196-91ffb445f66a",
   "metadata": {},
   "outputs": [
    {
     "name": "stdout",
     "output_type": "stream",
     "text": [
      "Dimensions of df_train: (381, 13)\n",
      "Dimensions of df_train: (164, 13)\n"
     ]
    }
   ],
   "source": [
    "from sklearn.model_selection import train_test_split\n",
    "\n",
    "# Splitting the dataset into two sets specified in train_test_split\n",
    "np.random.seed(0)\n",
    "df_train, df_test = train_test_split(housing, test_size = 0.3, train_size = 0.7, random_state = 1 )\n",
    "\n",
    "# Get the lengths of the training and test set\n",
    "mTrain = len(df_train)\n",
    "mTest = len(df_test)\n",
    "\n",
    "print('Dimensions of df_train:',df_train.shape)\n",
    "print('Dimensions of df_train:',df_test.shape)"
   ]
  },
  {
   "cell_type": "code",
   "execution_count": 9,
   "id": "a62708f5-204d-4a52-8664-7f34347124ee",
   "metadata": {},
   "outputs": [
    {
     "name": "stdout",
     "output_type": "stream",
     "text": [
      "Dimensions of training set used in 1a: (381, 6)\n",
      "Dimensions of training set used in 1b: (381, 12)\n",
      "     area  bedrooms  bathrooms  stories  mainroad  guestroom  basement  \\\n",
      "180  4500         4          2        1         0          0         1   \n",
      "189  3540         2          1        1         0          1         1   \n",
      "93   7200         3          2        1         1          0         1   \n",
      "\n",
      "     hotwaterheating  airconditioning  parking  prefarea    price  \n",
      "180                0                1        2         0  5215000  \n",
      "189                0                0        0         0  5040000  \n",
      "93                 0                1        3         0  6300000  \n"
     ]
    }
   ],
   "source": [
    "df_NewtrainA = df_train[varlist1]\n",
    "df_NewtestA = df_test[varlist1]\n",
    "\n",
    "df_NewtrainB = df_train[varlist2]\n",
    "df_NewtestB = df_test[varlist2]\n",
    "\n",
    "print('Dimensions of training set used in 1a:', df_NewtrainA.shape)\n",
    "print('Dimensions of training set used in 1b:', df_NewtrainB.shape)\n",
    "#print(df_NewtrainA[: 5])\n",
    "print(df_NewtrainB[: 3])"
   ]
  },
  {
   "cell_type": "code",
   "execution_count": 10,
   "id": "4a3fd060-73cc-4877-b8f7-9dcccef48374",
   "metadata": {},
   "outputs": [],
   "source": [
    "xTrainA, yTrainA = data_organize(df_NewtrainA,mTrain,1,0)\n",
    "xTestA, yTestA = data_organize(df_NewtestA,mTest,1,0)\n",
    "\n",
    "mTrainB = len(df_NewtrainB)\n",
    "mTestB = len(df_NewtestB)\n",
    "\n",
    "xTrainB, yTrainB = data_organize(df_NewtrainB,mTrainB,1,2)\n",
    "xTestB, yTestB = data_organize(df_NewtrainB,mTrain,1,2)"
   ]
  },
  {
   "cell_type": "code",
   "execution_count": 11,
   "id": "484f1904-eda6-4418-b640-307c2e7325b3",
   "metadata": {},
   "outputs": [],
   "source": [
    "thetaA = np.zeros(6) # row vector for Theta initialized to 0\n",
    "thetaB = np.zeros(11)\n",
    "iterations = 200;\n",
    "\n",
    "alpha1 = 0.01; # Comparing 3 different training rates\n",
    "alpha2 = 0.02;\n",
    "alpha3 = 0.042;"
   ]
  },
  {
   "cell_type": "code",
   "execution_count": 12,
   "id": "1276f3f5-cee0-49a3-bc6f-7dd723398901",
   "metadata": {},
   "outputs": [
    {
     "name": "stdout",
     "output_type": "stream",
     "text": [
      "Final value of theta1 = [0.13704238 0.33468751 0.35999223 0.52877376 0.5115619  0.31372862]\n",
      "Cost History for Training1: [4.44256749 1.99836155 1.29819849 1.09388494 1.03067776 1.00775209\n",
      " 0.99644672 0.98860956 0.98191747 0.97570414]\n",
      "Cost History for Testing1: [4.8857971  2.35423482 1.55919425 1.29157565 1.19184296 1.14939921\n",
      " 1.12835867 1.11616443 1.10799824 1.10182766]\n"
     ]
    }
   ],
   "source": [
    "# Run Cost History and Gradient Descent algorithms for training data\n",
    "thetaTrainA1, cost_historyTrainA1, cost_historyTestA1 = gradient_descent(xTrainA, yTrainA, xTestA, yTestA, thetaA, 0.01, iterations, mTrain, mTest)\n",
    "thetaTrainA2, cost_historyTrainA2, cost_historyTestA2 = gradient_descent(xTrainA, yTrainA, xTestA, yTestA, thetaA, 0.03, iterations, mTrain, mTest)\n",
    "thetaTrainA3, cost_historyTrainA3, cost_historyTestA3 = gradient_descent(xTrainA, yTrainA, xTestA, yTestA, thetaA, 0.04, iterations, mTrain, mTest)\n",
    "\n",
    "thetaTrainB1, cost_historyTrainB1, cost_historyTestB1 = gradient_descent(xTrainB, yTrainB, xTestB, yTestB, thetaB, 0.01, iterations, mTrainB, mTestB)\n",
    "thetaTrainB2, cost_historyTrainB2, cost_historyTestB2 = gradient_descent(xTrainB, yTrainB, xTestB, yTestB, thetaB, 0.03, iterations, mTrainB, mTestB)\n",
    "thetaTrainB3, cost_historyTrainB3, cost_historyTestB3 = gradient_descent(xTrainB, yTrainB, xTestB, yTestB, thetaB, 0.04, iterations, mTrainB, mTestB)\n",
    "\n",
    "print('Final value of theta1 =', thetaTrainA1)\n",
    "print('Cost History for Training1:', cost_historyTrainA1[: 10]) # Here the cost history just blows up without a small enough learning rate\n",
    "print('Cost History for Testing1:', cost_historyTestA1[: 10])"
   ]
  },
  {
   "cell_type": "code",
   "execution_count": 13,
   "id": "2327f819-dd80-4ac0-94c7-d6f464e5264d",
   "metadata": {},
   "outputs": [],
   "source": [
    "###### PROBLEM 1a ##############################################################################"
   ]
  },
  {
   "cell_type": "code",
   "execution_count": 14,
   "id": "2dafc779-0b7d-4dc3-b639-32fcca825497",
   "metadata": {},
   "outputs": [
    {
     "data": {
      "text/plain": [
       "<matplotlib.legend.Legend at 0x2b7af4a6790>"
      ]
     },
     "execution_count": 14,
     "metadata": {},
     "output_type": "execute_result"
    },
    {
     "data": {
      "image/png": "[encoded data removed]",
      "text/plain": [
       "<Figure size 432x288 with 1 Axes>"
      ]
     },
     "metadata": {
      "needs_background": "light"
     },
     "output_type": "display_data"
    }
   ],
   "source": [
    "plt.plot(range(1, iterations + 1),cost_historyTrainA1, color='green', label='Train Data')\n",
    "plt.plot(range(1, iterations + 1),cost_historyTestA1, color='blue', label='Test Data')\n",
    "\n",
    "plt.rcParams[\"figure.figsize\"] = (10,6)\n",
    "plt.grid()\n",
    "plt.xlabel('Number of iterations')\n",
    "plt.ylabel('Cost (J)')\n",
    "plt.title('Cost History over Iterations, a = 0.01, scaled Area and Price')\n",
    "plt.legend()"
   ]
  },
  {
   "cell_type": "code",
   "execution_count": 15,
   "id": "1005f192-dc07-4d8d-8069-0cd5587d13d8",
   "metadata": {},
   "outputs": [
    {
     "data": {
      "text/plain": [
       "<matplotlib.legend.Legend at 0x2b7af5a8220>"
      ]
     },
     "execution_count": 15,
     "metadata": {},
     "output_type": "execute_result"
    },
    {
     "data": {
      "image/png": "[encoded data removed]",
      "text/plain": [
       "<Figure size 720x432 with 1 Axes>"
      ]
     },
     "metadata": {
      "needs_background": "light"
     },
     "output_type": "display_data"
    }
   ],
   "source": [
    "plt.plot(range(1, iterations + 1),cost_historyTrainA2, color='green', label='Train Data')\n",
    "plt.plot(range(1, iterations + 1),cost_historyTestA2, color='blue', label='Test Data')\n",
    "\n",
    "plt.rcParams[\"figure.figsize\"] = (10,6)\n",
    "plt.grid()\n",
    "plt.xlabel('Number of iterations')\n",
    "plt.ylabel('Cost (J)')\n",
    "plt.title('Cost History over Iterations, a = 0.03, scaled Area and Price')\n",
    "plt.legend()"
   ]
  },
  {
   "cell_type": "code",
   "execution_count": 16,
   "id": "d5253c80-b45e-4131-8d8b-22729e760e6d",
   "metadata": {},
   "outputs": [
    {
     "data": {
      "text/plain": [
       "<matplotlib.legend.Legend at 0x2b7af761490>"
      ]
     },
     "execution_count": 16,
     "metadata": {},
     "output_type": "execute_result"
    },
    {
     "data": {
      "image/png": "[encoded data removed]",
      "text/plain": [
       "<Figure size 720x432 with 1 Axes>"
      ]
     },
     "metadata": {
      "needs_background": "light"
     },
     "output_type": "display_data"
    }
   ],
   "source": [
    "plt.plot(range(1, iterations + 1),cost_historyTrainA3, color='green', label='Train Data')\n",
    "plt.plot(range(1, iterations + 1),cost_historyTestA3, color='blue', label='Test Data')\n",
    "\n",
    "plt.rcParams[\"figure.figsize\"] = (10,6)\n",
    "plt.grid()\n",
    "plt.xlabel('Number of iterations')\n",
    "plt.ylabel('Cost (J)')\n",
    "plt.title('Cost History over Iterations, a = 0.04, scaled Area and Price')\n",
    "plt.legend()"
   ]
  },
  {
   "cell_type": "code",
   "execution_count": 17,
   "id": "969e6214-117c-41d1-967a-a73113592941",
   "metadata": {},
   "outputs": [],
   "source": [
    "###### PROBLEM 1b ##############################################################################"
   ]
  },
  {
   "cell_type": "code",
   "execution_count": 18,
   "id": "1432bfea-bc3e-4535-a632-bf0afc8cd79b",
   "metadata": {},
   "outputs": [
    {
     "data": {
      "text/plain": [
       "<matplotlib.legend.Legend at 0x2b7af649820>"
      ]
     },
     "execution_count": 18,
     "metadata": {},
     "output_type": "execute_result"
    },
    {
     "data": {
      "image/png": "[encoded data removed]",
      "text/plain": [
       "<Figure size 720x432 with 1 Axes>"
      ]
     },
     "metadata": {
      "needs_background": "light"
     },
     "output_type": "display_data"
    }
   ],
   "source": [
    "plt.plot(range(1, iterations + 1),cost_historyTrainB1, color='green', label='Train Data')\n",
    "plt.plot(range(1, iterations + 1),cost_historyTestB1, color='blue', label='Test Data')\n",
    "\n",
    "plt.rcParams[\"figure.figsize\"] = (10,6)\n",
    "plt.grid()\n",
    "plt.xlabel('Number of iterations')\n",
    "plt.ylabel('Cost (J)')\n",
    "plt.title('Cost History over Iterations, a = 0.01, scaled Area and Price')\n",
    "plt.legend()"
   ]
  },
  {
   "cell_type": "code",
   "execution_count": 19,
   "id": "7aa782e7-a576-41ee-b87f-c532f1248a6b",
   "metadata": {},
   "outputs": [
    {
     "data": {
      "text/plain": [
       "<matplotlib.legend.Legend at 0x2b7af6c2130>"
      ]
     },
     "execution_count": 19,
     "metadata": {},
     "output_type": "execute_result"
    },
    {
     "data": {
      "image/png": "[encoded data removed]",
      "text/plain": [
       "<Figure size 720x432 with 1 Axes>"
      ]
     },
     "metadata": {
      "needs_background": "light"
     },
     "output_type": "display_data"
    }
   ],
   "source": [
    "plt.plot(range(1, iterations + 1),cost_historyTrainB2, color='green', label='Train Data')\n",
    "plt.plot(range(1, iterations + 1),cost_historyTestB2, color='blue', label='Test Data')\n",
    "\n",
    "plt.rcParams[\"figure.figsize\"] = (10,6)\n",
    "plt.grid()\n",
    "plt.xlabel('Number of iterations')\n",
    "plt.ylabel('Cost (J)')\n",
    "plt.title('Cost History over Iterations, a = 0.01, scaled Area and Price')\n",
    "plt.legend()"
   ]
  },
  {
   "cell_type": "code",
   "execution_count": 20,
   "id": "9ac1316c-bd38-446f-b7eb-6f70a5ea2bdb",
   "metadata": {},
   "outputs": [
    {
     "data": {
      "text/plain": [
       "<matplotlib.legend.Legend at 0x2b7af661eb0>"
      ]
     },
     "execution_count": 20,
     "metadata": {},
     "output_type": "execute_result"
    },
    {
     "data": {
      "image/png": "[encoded data removed]",
      "text/plain": [
       "<Figure size 720x432 with 1 Axes>"
      ]
     },
     "metadata": {
      "needs_background": "light"
     },
     "output_type": "display_data"
    }
   ],
   "source": [
    "plt.plot(range(1, iterations + 1),cost_historyTrainB3, color='green', label='Train Data')\n",
    "plt.plot(range(1, iterations + 1),cost_historyTestB3, color='blue', label='Test Data')\n",
    "\n",
    "plt.rcParams[\"figure.figsize\"] = (10,6)\n",
    "plt.grid()\n",
    "plt.xlabel('Number of iterations')\n",
    "plt.ylabel('Cost (J)')\n",
    "plt.title('Cost History over Iterations, a = 0.01, scaled Area and Price')\n",
    "plt.legend()"
   ]
  },
  {
   "cell_type": "code",
   "execution_count": 21,
   "id": "7b823662-38ae-4759-905d-11ac73cda980",
   "metadata": {},
   "outputs": [],
   "source": [
    "###### PROBLEM 2a ##############################################################################"
   ]
  },
  {
   "cell_type": "code",
   "execution_count": 22,
   "id": "eb9a32a8-ca4a-479e-9e13-fa183a36d100",
   "metadata": {},
   "outputs": [
    {
     "data": {
      "text/html": [
       "<div>\n",
       "<style scoped>\n",
       "    .dataframe tbody tr th:only-of-type {\n",
       "        vertical-align: middle;\n",
       "    }\n",
       "\n",
       "    .dataframe tbody tr th {\n",
       "        vertical-align: top;\n",
       "    }\n",
       "\n",
       "    .dataframe thead th {\n",
       "        text-align: right;\n",
       "    }\n",
       "</style>\n",
       "<table border=\"1\" class=\"dataframe\">\n",
       "  <thead>\n",
       "    <tr style=\"text-align: right;\">\n",
       "      <th></th>\n",
       "      <th>area</th>\n",
       "      <th>bedrooms</th>\n",
       "      <th>bathrooms</th>\n",
       "      <th>stories</th>\n",
       "      <th>parking</th>\n",
       "      <th>price</th>\n",
       "    </tr>\n",
       "  </thead>\n",
       "  <tbody>\n",
       "    <tr>\n",
       "      <th>180</th>\n",
       "      <td>0.193103</td>\n",
       "      <td>0.6</td>\n",
       "      <td>0.333333</td>\n",
       "      <td>0.000000</td>\n",
       "      <td>0.666667</td>\n",
       "      <td>0.330000</td>\n",
       "    </tr>\n",
       "    <tr>\n",
       "      <th>189</th>\n",
       "      <td>0.126897</td>\n",
       "      <td>0.2</td>\n",
       "      <td>0.000000</td>\n",
       "      <td>0.000000</td>\n",
       "      <td>0.000000</td>\n",
       "      <td>0.313333</td>\n",
       "    </tr>\n",
       "    <tr>\n",
       "      <th>93</th>\n",
       "      <td>0.379310</td>\n",
       "      <td>0.4</td>\n",
       "      <td>0.333333</td>\n",
       "      <td>0.000000</td>\n",
       "      <td>1.000000</td>\n",
       "      <td>0.433333</td>\n",
       "    </tr>\n",
       "    <tr>\n",
       "      <th>444</th>\n",
       "      <td>0.097931</td>\n",
       "      <td>0.4</td>\n",
       "      <td>0.000000</td>\n",
       "      <td>0.333333</td>\n",
       "      <td>0.000000</td>\n",
       "      <td>0.140000</td>\n",
       "    </tr>\n",
       "    <tr>\n",
       "      <th>81</th>\n",
       "      <td>0.158621</td>\n",
       "      <td>0.4</td>\n",
       "      <td>0.333333</td>\n",
       "      <td>0.333333</td>\n",
       "      <td>0.333333</td>\n",
       "      <td>0.463333</td>\n",
       "    </tr>\n",
       "    <tr>\n",
       "      <th>345</th>\n",
       "      <td>0.021724</td>\n",
       "      <td>0.4</td>\n",
       "      <td>0.000000</td>\n",
       "      <td>0.333333</td>\n",
       "      <td>0.000000</td>\n",
       "      <td>0.200000</td>\n",
       "    </tr>\n",
       "    <tr>\n",
       "      <th>314</th>\n",
       "      <td>0.161379</td>\n",
       "      <td>0.2</td>\n",
       "      <td>0.000000</td>\n",
       "      <td>0.333333</td>\n",
       "      <td>0.333333</td>\n",
       "      <td>0.223333</td>\n",
       "    </tr>\n",
       "    <tr>\n",
       "      <th>115</th>\n",
       "      <td>0.434483</td>\n",
       "      <td>0.4</td>\n",
       "      <td>0.000000</td>\n",
       "      <td>0.000000</td>\n",
       "      <td>0.666667</td>\n",
       "      <td>0.406667</td>\n",
       "    </tr>\n",
       "    <tr>\n",
       "      <th>286</th>\n",
       "      <td>0.074966</td>\n",
       "      <td>0.4</td>\n",
       "      <td>0.000000</td>\n",
       "      <td>0.000000</td>\n",
       "      <td>0.000000</td>\n",
       "      <td>0.236667</td>\n",
       "    </tr>\n",
       "    <tr>\n",
       "      <th>400</th>\n",
       "      <td>0.124966</td>\n",
       "      <td>0.2</td>\n",
       "      <td>0.000000</td>\n",
       "      <td>0.000000</td>\n",
       "      <td>0.333333</td>\n",
       "      <td>0.166667</td>\n",
       "    </tr>\n",
       "    <tr>\n",
       "      <th>221</th>\n",
       "      <td>0.118621</td>\n",
       "      <td>0.6</td>\n",
       "      <td>0.333333</td>\n",
       "      <td>0.333333</td>\n",
       "      <td>0.000000</td>\n",
       "      <td>0.287333</td>\n",
       "    </tr>\n",
       "    <tr>\n",
       "      <th>432</th>\n",
       "      <td>0.300690</td>\n",
       "      <td>0.4</td>\n",
       "      <td>0.000000</td>\n",
       "      <td>0.000000</td>\n",
       "      <td>0.000000</td>\n",
       "      <td>0.146667</td>\n",
       "    </tr>\n",
       "    <tr>\n",
       "      <th>270</th>\n",
       "      <td>0.193103</td>\n",
       "      <td>0.4</td>\n",
       "      <td>0.333333</td>\n",
       "      <td>0.666667</td>\n",
       "      <td>0.333333</td>\n",
       "      <td>0.246667</td>\n",
       "    </tr>\n",
       "    <tr>\n",
       "      <th>139</th>\n",
       "      <td>0.321379</td>\n",
       "      <td>0.4</td>\n",
       "      <td>0.000000</td>\n",
       "      <td>0.000000</td>\n",
       "      <td>0.666667</td>\n",
       "      <td>0.380000</td>\n",
       "    </tr>\n",
       "    <tr>\n",
       "      <th>106</th>\n",
       "      <td>0.258621</td>\n",
       "      <td>0.6</td>\n",
       "      <td>0.333333</td>\n",
       "      <td>0.000000</td>\n",
       "      <td>0.000000</td>\n",
       "      <td>0.420000</td>\n",
       "    </tr>\n",
       "    <tr>\n",
       "      <th>257</th>\n",
       "      <td>0.451724</td>\n",
       "      <td>0.4</td>\n",
       "      <td>0.000000</td>\n",
       "      <td>0.000000</td>\n",
       "      <td>0.000000</td>\n",
       "      <td>0.260000</td>\n",
       "    </tr>\n",
       "    <tr>\n",
       "      <th>329</th>\n",
       "      <td>0.155862</td>\n",
       "      <td>0.4</td>\n",
       "      <td>0.000000</td>\n",
       "      <td>0.333333</td>\n",
       "      <td>0.000000</td>\n",
       "      <td>0.213333</td>\n",
       "    </tr>\n",
       "    <tr>\n",
       "      <th>88</th>\n",
       "      <td>0.393793</td>\n",
       "      <td>0.4</td>\n",
       "      <td>0.000000</td>\n",
       "      <td>0.000000</td>\n",
       "      <td>0.666667</td>\n",
       "      <td>0.450000</td>\n",
       "    </tr>\n",
       "    <tr>\n",
       "      <th>277</th>\n",
       "      <td>0.597241</td>\n",
       "      <td>0.2</td>\n",
       "      <td>0.000000</td>\n",
       "      <td>0.000000</td>\n",
       "      <td>0.333333</td>\n",
       "      <td>0.243333</td>\n",
       "    </tr>\n",
       "    <tr>\n",
       "      <th>366</th>\n",
       "      <td>0.133103</td>\n",
       "      <td>0.2</td>\n",
       "      <td>0.000000</td>\n",
       "      <td>0.000000</td>\n",
       "      <td>0.000000</td>\n",
       "      <td>0.183333</td>\n",
       "    </tr>\n",
       "  </tbody>\n",
       "</table>\n",
       "</div>"
      ],
      "text/plain": [
       "         area  bedrooms  bathrooms   stories   parking     price\n",
       "180  0.193103       0.6   0.333333  0.000000  0.666667  0.330000\n",
       "189  0.126897       0.2   0.000000  0.000000  0.000000  0.313333\n",
       "93   0.379310       0.4   0.333333  0.000000  1.000000  0.433333\n",
       "444  0.097931       0.4   0.000000  0.333333  0.000000  0.140000\n",
       "81   0.158621       0.4   0.333333  0.333333  0.333333  0.463333\n",
       "345  0.021724       0.4   0.000000  0.333333  0.000000  0.200000\n",
       "314  0.161379       0.2   0.000000  0.333333  0.333333  0.223333\n",
       "115  0.434483       0.4   0.000000  0.000000  0.666667  0.406667\n",
       "286  0.074966       0.4   0.000000  0.000000  0.000000  0.236667\n",
       "400  0.124966       0.2   0.000000  0.000000  0.333333  0.166667\n",
       "221  0.118621       0.6   0.333333  0.333333  0.000000  0.287333\n",
       "432  0.300690       0.4   0.000000  0.000000  0.000000  0.146667\n",
       "270  0.193103       0.4   0.333333  0.666667  0.333333  0.246667\n",
       "139  0.321379       0.4   0.000000  0.000000  0.666667  0.380000\n",
       "106  0.258621       0.6   0.333333  0.000000  0.000000  0.420000\n",
       "257  0.451724       0.4   0.000000  0.000000  0.000000  0.260000\n",
       "329  0.155862       0.4   0.000000  0.333333  0.000000  0.213333\n",
       "88   0.393793       0.4   0.000000  0.000000  0.666667  0.450000\n",
       "277  0.597241       0.2   0.000000  0.000000  0.333333  0.243333\n",
       "366  0.133103       0.2   0.000000  0.000000  0.000000  0.183333"
      ]
     },
     "execution_count": 22,
     "metadata": {},
     "output_type": "execute_result"
    }
   ],
   "source": [
    "#As you know, there are two common ways of rescaling:\n",
    "#1. Min-Max scaling\n",
    "#2. Standardisation (mean-0, sigma-1)\n",
    "\n",
    "import warnings\n",
    "warnings.filterwarnings('ignore')\n",
    "\n",
    "from sklearn.preprocessing import MinMaxScaler, StandardScaler\n",
    "\n",
    "# define standard scaler\n",
    "#scaler = StandardScaler()\n",
    "scaler=MinMaxScaler()\n",
    "df_NewtrainA[varlist1]= scaler.fit_transform(df_NewtrainA[varlist1])\n",
    "df_NewtrainA.head(20)"
   ]
  },
  {
   "cell_type": "code",
   "execution_count": 23,
   "id": "46955e6a-e067-4112-9dbb-c43a27a26e90",
   "metadata": {},
   "outputs": [],
   "source": [
    "#y_NewtrainA = df_NewtrainA.pop('price')\n",
    "#X_NewtrainA = df_NewtrainA"
   ]
  },
  {
   "cell_type": "code",
   "execution_count": 24,
   "id": "60003b26-cbd7-47f2-a25d-83894934b329",
   "metadata": {},
   "outputs": [],
   "source": [
    "#y_NewtrainA.head()"
   ]
  },
  {
   "cell_type": "code",
   "execution_count": 26,
   "id": "248998a2-fe31-4b6e-a38f-2fd90a8d1360",
   "metadata": {},
   "outputs": [],
   "source": [
    "#X_NewtrainA.head()"
   ]
  },
  {
   "cell_type": "code",
   "execution_count": 36,
   "id": "6a3bd92c-a385-4613-8721-227b91232127",
   "metadata": {},
   "outputs": [
    {
     "name": "stdout",
     "output_type": "stream",
     "text": [
      "xTrainC:  (381, 6) [[1.         0.19310345 0.6        0.33333333 0.         0.66666667]\n",
      " [1.         0.12689655 0.2        0.         0.         0.        ]\n",
      " [1.         0.37931034 0.4        0.33333333 0.         1.        ]\n",
      " [1.         0.09793103 0.4        0.         0.33333333 0.        ]\n",
      " [1.         0.15862069 0.4        0.33333333 0.33333333 0.33333333]]\n",
      "yTrainC:  (381,) [0.33       0.31333333 0.43333333 0.14       0.46333333]\n"
     ]
    }
   ],
   "source": [
    "xTrainC, yTrainC = data_organize(df_NewtrainA,mTrain,0,0)\n",
    "xTestC, yTestC = data_organize(df_NewtestA,mTest,0,0)\n",
    "\n",
    "print('xTrainC: ',np.shape(xTrainC), xTrainC[: 5])\n",
    "print('yTrainC: ',np.shape(yTrainC), yTrainC[: 5])"
   ]
  },
  {
   "cell_type": "code",
   "execution_count": 34,
   "id": "db1cdaa2-2933-492d-9488-c6743e235871",
   "metadata": {},
   "outputs": [
    {
     "name": "stdout",
     "output_type": "stream",
     "text": [
      "Final value of theta1 = [0.18589269 0.06887448 0.08637094 0.04341051 0.07650836 0.07031203]\n",
      "Cost History for Training1: [0.05498432 0.05378963 0.05262729 0.05149641 0.05039614 0.04932564\n",
      " 0.04828411 0.04727077 0.04628483 0.04532557]\n",
      "Cost History for Testing1: [1.33024179e+13 1.33023964e+13 1.33023751e+13 1.33023542e+13\n",
      " 1.33023334e+13 1.33023130e+13 1.33022927e+13 1.33022728e+13\n",
      " 1.33022530e+13 1.33022335e+13]\n"
     ]
    }
   ],
   "source": [
    "thetaTrainA1, cost_historyTrainA1, cost_historyTestA1 = gradient_descent(xTrainC, yTrainC, xTestC, yTestC, thetaA, 0.01, iterations, mTrain, mTest)\n",
    "#thetaTrainA2, cost_historyTrainA2, cost_historyTestA2 = gradient_descent(xTrainA, yTrainA, xTestA, yTestA, thetaA, 0.03, iterations, mTrain, mTest)\n",
    "\n",
    "print('Final value of theta1 =', thetaTrainA1)\n",
    "print('Cost History for Training1:', cost_historyTrainA1[: 10]) # Here the cost history just blows up without a small enough learning rate\n",
    "print('Cost History for Testing1:', cost_historyTestA1[: 10])"
   ]
  },
  {
   "cell_type": "code",
   "execution_count": 35,
   "id": "3a19c7de-3536-478a-ac99-ee2ba40e4dab",
   "metadata": {},
   "outputs": [
    {
     "data": {
      "text/plain": [
       "<matplotlib.legend.Legend at 0x2b7af9b2ee0>"
      ]
     },
     "execution_count": 35,
     "metadata": {},
     "output_type": "execute_result"
    },
    {
     "data": {
      "image/png": "[encoded data removed]",
      "text/plain": [
       "<Figure size 720x432 with 1 Axes>"
      ]
     },
     "metadata": {
      "needs_background": "light"
     },
     "output_type": "display_data"
    }
   ],
   "source": [
    "plt.plot(range(1, iterations + 1),cost_historyTrainA1, color='green', label='Train Data')\n",
    "plt.plot(range(1, iterations + 1),cost_historyTestA1, color='blue', label='Test Data')\n",
    "\n",
    "plt.rcParams[\"figure.figsize\"] = (10,6)\n",
    "plt.grid()\n",
    "plt.xlabel('Number of iterations')\n",
    "plt.ylabel('Cost (J)')\n",
    "plt.title('Cost History over Iterations, a = 0.01, scaled Area and Price')\n",
    "plt.legend()"
   ]
  },
  {
   "cell_type": "code",
   "execution_count": null,
   "id": "1df86083-16d6-4a8f-b869-f01fe15b27c0",
   "metadata": {},
   "outputs": [],
   "source": []
  }
 ],
 "metadata": {
  "kernelspec": {
   "display_name": "Python 3",
   "language": "python",
   "name": "python3"
  },
  "language_info": {
   "codemirror_mode": {
    "name": "ipython",
    "version": 3
   },
   "file_extension": ".py",
   "mimetype": "text/x-python",
   "name": "python",
   "nbconvert_exporter": "python",
   "pygments_lexer": "ipython3",
   "version": "3.8.8"
  }
 },
 "nbformat": 4,
 "nbformat_minor": 5
}
