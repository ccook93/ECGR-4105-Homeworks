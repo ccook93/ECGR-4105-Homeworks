{
 "cells": [
  {
   "cell_type": "code",
   "execution_count": null,
   "id": "c06c9669-652a-429e-b98a-c7a28b2722ec",
   "metadata": {},
   "outputs": [],
   "source": [
    "# This is for testing code"
   ]
  },
  {
   "cell_type": "code",
   "execution_count": null,
   "id": "52907bd0-4f6c-4bd9-80d5-a975e59826ab",
   "metadata": {},
   "outputs": [],
   "source": [
    "import numpy as np\n",
    "import pandas as pd\n",
    "import matplotlib.pyplot as plt\n",
    "import seaborn as sns"
   ]
  },
  {
   "cell_type": "code",
   "execution_count": null,
   "id": "20084f22-2a27-40f4-8025-6305dcc7d0b4",
   "metadata": {},
   "outputs": [],
   "source": [
    "def compute_cost(x, y, theta, m): # Compute cost for linear regression.\n",
    "\n",
    "    predictions = x.dot(theta)\n",
    "    errors = np.subtract(predictions, y)\n",
    "    sqrErrors = np.square(errors)\n",
    "    J = 1 / (2 * m) * np.sum(sqrErrors) # cost function, sum of squared errors\n",
    "    return J"
   ]
  },
  {
   "cell_type": "code",
   "execution_count": null,
   "id": "a23d2ee5-7133-49b3-9e8f-14f069958b0e",
   "metadata": {},
   "outputs": [],
   "source": [
    "def gradient_descent(x, y, a, b, theta, alpha, iterations, lengthTrain, lengthTest): # Compute cost for linear regression.\n",
    "\n",
    "    cost_history = np.zeros(iterations)\n",
    "    cost_history_test = np.zeros(iterations)\n",
    "    \n",
    "    for i in range(iterations):\n",
    "        predictions = x.dot(theta)\n",
    "        errors = np.subtract(predictions, y)\n",
    "        sum_delta = (alpha / lengthTrain) * x.transpose().dot(errors);\n",
    "        theta = theta - sum_delta;\n",
    "        cost_history[i] = compute_cost(x, y, theta, lengthTrain)\n",
    "        cost_history_test[i] = compute_cost(a, b, theta, lengthTest)\n",
    "        \n",
    "    return theta, cost_history, cost_history_test"
   ]
  },
  {
   "cell_type": "code",
   "execution_count": null,
   "id": "3a498aa4-1b40-44e8-8d69-3f7911c057f2",
   "metadata": {},
   "outputs": [],
   "source": [
    "def data_organize(data,length,scaling,problem): # Organize data into matrix for use with gradient descent algorithm\n",
    "    \n",
    "    cols = len(data.columns)\n",
    "    C = [0]*cols\n",
    "    \n",
    "    for i in range(len(C)):\n",
    "        B = data.values[:, i]\n",
    "        X = B.reshape(length, 1)\n",
    "        C[i] = X\n",
    "    \n",
    "    # if scaling is activated, scales price, specific to dataset in 1a)\n",
    "    end = int(len(C) - 1)\n",
    "    if scaling == 1:\n",
    "        C[0]=C[0]*10**(-3) \n",
    "        Y = data.values[:, end]*10**(-6)\n",
    "    else:\n",
    "        Y = data.values[:, end]\n",
    "\n",
    "    initial = np.ones((length, 1)) # Create a 99x1 array of ones\n",
    "    \n",
    "    # PROBLEM IS HERE WITH .hstack(), can .hstack() be dynamic?\n",
    "    if problem == 0:\n",
    "        X_tot = np.hstack((initial,C[0],C[1],C[2],C[3],C[4]))\n",
    "    else:\n",
    "        X_tot = np.hstack((initial,C[0],C[1],C[2],C[3],C[4],C[5],C[6],C[7],C[8],C[9]))\n",
    "\n",
    "      \n",
    "    return X_tot, Y"
   ]
  },
  {
   "cell_type": "code",
   "execution_count": null,
   "id": "a66d0085-348e-4fed-af4e-015b5f8e009d",
   "metadata": {},
   "outputs": [],
   "source": [
    "# Import housing list \n",
    "housing = pd.read_csv('Housing.csv')\n",
    "print(housing.shape)\n",
    "\n",
    "# 1a Variables\n",
    "varlist1 = ['area','bedrooms','bathrooms','stories','parking','price']\n",
    "varlist2 = ['area','bedrooms','bathrooms','stories','mainroad','guestroom','basement','hotwaterheating','airconditioning','parking','prefarea','price']\n",
    "\n",
    "housing.head()"
   ]
  },
  {
   "cell_type": "code",
   "execution_count": null,
   "id": "0aa90cfa-8e21-4424-800e-37af887679f7",
   "metadata": {},
   "outputs": [],
   "source": [
    "# Binary Variables DOES THIS ACTUALLY WORK?\n",
    "binary_varlist = ['mainroad', 'guestroom', 'basement','hotwaterheating', 'airconditioning','prefarea']\n",
    "\n",
    "#varlist=['mainroad','guestroom','basement','hotwaterheating','airconditioning',\n",
    "# Defining the map function\n",
    "         \n",
    "def binary_map(x):\n",
    "         return x.map({'yes':1,\"no\":0})\n",
    "         \n",
    "# Applying the function to the housing list\n",
    "housing[binary_varlist]=housing[binary_varlist].apply(binary_map)\n",
    "# Check the housing dataframe now\n",
    "housing.head()"
   ]
  },
  {
   "cell_type": "code",
   "execution_count": null,
   "id": "fd459a7c-35e8-4ae0-b196-91ffb445f66a",
   "metadata": {},
   "outputs": [],
   "source": [
    "from sklearn.model_selection import train_test_split\n",
    "\n",
    "# Splitting the dataset into two sets specified in train_test_split\n",
    "np.random.seed(0)\n",
    "df_train, df_test = train_test_split(housing, test_size = 0.3, train_size = 0.7, random_state = 1 )\n",
    "\n",
    "# Get the lengths of the training and test set\n",
    "mTrain = len(df_train)\n",
    "mTest = len(df_test)\n",
    "\n",
    "print('Dimensions of df_train:',df_train.shape)\n",
    "print('Dimensions of df_train:',df_test.shape)\n",
    "\n",
    "cols = len(df_train.columns)\n",
    "C = [0]*cols\n",
    "print(len(C)-1)\n",
    "K = len(C) - 1\n",
    "print(type(K))\n",
    "print(C[len(C)-1])"
   ]
  },
  {
   "cell_type": "code",
   "execution_count": null,
   "id": "a62708f5-204d-4a52-8664-7f34347124ee",
   "metadata": {},
   "outputs": [],
   "source": [
    "df_NewtrainA = df_train[varlist1]\n",
    "df_NewtestA = df_test[varlist1]\n",
    "\n",
    "df_NewtrainB = df_train[varlist2]\n",
    "df_NewtestB = df_test[varlist2]\n",
    "\n",
    "print('Dimensions of training set used in 1a:', df_NewtrainA.shape)\n",
    "print('Dimensions of training set used in 1b:', df_NewtrainB.shape)\n",
    "#print(df_NewtrainA[: 5])\n",
    "print(df_NewtrainB[: 3])"
   ]
  },
  {
   "cell_type": "code",
   "execution_count": null,
   "id": "4a3fd060-73cc-4877-b8f7-9dcccef48374",
   "metadata": {},
   "outputs": [],
   "source": [
    "xTrainA, yTrainA = data_organize(df_NewtrainA,mTrain,1,0)\n",
    "xTestA, yTestA = data_organize(df_NewtestA,mTest,1,0)\n",
    "\n",
    "mTrainB = len(df_NewtrainB)\n",
    "mTestB = len(df_NewtestB)\n",
    "\n",
    "xTrainB, yTrainB = data_organize(df_NewtrainB,mTrainB,1,2)\n",
    "xTestB, yTestB = data_organize(df_NewtrainB,mTrain,1,2)"
   ]
  },
  {
   "cell_type": "code",
   "execution_count": null,
   "id": "484f1904-eda6-4418-b640-307c2e7325b3",
   "metadata": {},
   "outputs": [],
   "source": [
    "thetaA = np.zeros(6) # row vector for Theta initialized to 0\n",
    "thetaB = np.zeros(11)\n",
    "iterations = 200;\n",
    "\n",
    "alpha1 = 0.01; # Comparing 3 different training rates\n",
    "alpha2 = 0.02;\n",
    "alpha3 = 0.042;\n",
    "\n",
    "theta"
   ]
  },
  {
   "cell_type": "code",
   "execution_count": null,
   "id": "1276f3f5-cee0-49a3-bc6f-7dd723398901",
   "metadata": {},
   "outputs": [],
   "source": [
    "# Run Cost History and Gradient Descent algorithms for training data\n",
    "thetaTrainA1, cost_historyTrainA1, cost_historyTestA1 = gradient_descent(xTrainA, yTrainA, xTestA, yTestA, thetaA, 0.01, iterations, mTrain, mTest)\n",
    "thetaTrainA2, cost_historyTrainA2, cost_historyTestA2 = gradient_descent(xTrainA, yTrainA, xTestA, yTestA, thetaA, 0.03, iterations, mTrain, mTest)\n",
    "thetaTrainA3, cost_historyTrainA3, cost_historyTestA3 = gradient_descent(xTrainA, yTrainA, xTestA, yTestA, thetaA, 0.04, iterations, mTrain, mTest)\n",
    "\n",
    "thetaTrainB1, cost_historyTrainB1, cost_historyTestB1 = gradient_descent(xTrainB, yTrainB, xTestB, yTestB, thetaB, 0.01, iterations, mTrainB, mTestB)\n",
    "thetaTrainB2, cost_historyTrainB2, cost_historyTestB2 = gradient_descent(xTrainB, yTrainB, xTestB, yTestB, thetaB, 0.03, iterations, mTrainB, mTestB)\n",
    "thetaTrainB3, cost_historyTrainB3, cost_historyTestB3 = gradient_descent(xTrainB, yTrainB, xTestB, yTestB, thetaB, 0.04, iterations, mTrainB, mTestB)\n",
    "\n",
    "print('Final value of theta1 =', thetaTrainA1)\n",
    "print('Cost History for Training1:', cost_historyTrainA1[: 10]) # Here the cost history just blows up without a small enough learning rate\n",
    "print('Cost History for Testing1:', cost_historyTestA1[: 10])"
   ]
  },
  {
   "cell_type": "code",
   "execution_count": null,
   "id": "2dafc779-0b7d-4dc3-b639-32fcca825497",
   "metadata": {},
   "outputs": [],
   "source": [
    "plt.plot(range(1, iterations + 1),cost_historyTrainA1, color='green', label='Train Data')\n",
    "plt.plot(range(1, iterations + 1),cost_historyTestA1, color='blue', label='Test Data')\n",
    "\n",
    "plt.rcParams[\"figure.figsize\"] = (10,6)\n",
    "plt.grid()\n",
    "plt.xlabel('Number of iterations')\n",
    "plt.ylabel('Cost (J)')\n",
    "plt.title('Cost History over Iterations, a = 0.01, scaled Area and Price')\n",
    "plt.legend()"
   ]
  },
  {
   "cell_type": "code",
   "execution_count": null,
   "id": "1005f192-dc07-4d8d-8069-0cd5587d13d8",
   "metadata": {},
   "outputs": [],
   "source": [
    "plt.plot(range(1, iterations + 1),cost_historyTrainA2, color='green', label='Train Data')\n",
    "plt.plot(range(1, iterations + 1),cost_historyTestA2, color='blue', label='Test Data')\n",
    "\n",
    "plt.rcParams[\"figure.figsize\"] = (10,6)\n",
    "plt.grid()\n",
    "plt.xlabel('Number of iterations')\n",
    "plt.ylabel('Cost (J)')\n",
    "plt.title('Cost History over Iterations, a = 0.03, scaled Area and Price')\n",
    "plt.legend()"
   ]
  },
  {
   "cell_type": "code",
   "execution_count": null,
   "id": "d5253c80-b45e-4131-8d8b-22729e760e6d",
   "metadata": {},
   "outputs": [],
   "source": [
    "plt.plot(range(1, iterations + 1),cost_historyTrainA3, color='green', label='Train Data')\n",
    "plt.plot(range(1, iterations + 1),cost_historyTestA3, color='blue', label='Test Data')\n",
    "\n",
    "plt.rcParams[\"figure.figsize\"] = (10,6)\n",
    "plt.grid()\n",
    "plt.xlabel('Number of iterations')\n",
    "plt.ylabel('Cost (J)')\n",
    "plt.title('Cost History over Iterations, a = 0.04, scaled Area and Price')\n",
    "plt.legend()"
   ]
  },
  {
   "cell_type": "code",
   "execution_count": null,
   "id": "1432bfea-bc3e-4535-a632-bf0afc8cd79b",
   "metadata": {},
   "outputs": [],
   "source": [
    "plt.plot(range(1, iterations + 1),cost_historyTrainB1, color='green', label='Train Data')\n",
    "plt.plot(range(1, iterations + 1),cost_historyTestB1, color='blue', label='Test Data')\n",
    "\n",
    "plt.rcParams[\"figure.figsize\"] = (10,6)\n",
    "plt.grid()\n",
    "plt.xlabel('Number of iterations')\n",
    "plt.ylabel('Cost (J)')\n",
    "plt.title('Cost History over Iterations, a = 0.01, scaled Area and Price')\n",
    "plt.legend()"
   ]
  },
  {
   "cell_type": "code",
   "execution_count": null,
   "id": "7aa782e7-a576-41ee-b87f-c532f1248a6b",
   "metadata": {},
   "outputs": [],
   "source": [
    "plt.plot(range(1, iterations + 1),cost_historyTrainB2, color='green', label='Train Data')\n",
    "plt.plot(range(1, iterations + 1),cost_historyTestB2, color='blue', label='Test Data')\n",
    "\n",
    "plt.rcParams[\"figure.figsize\"] = (10,6)\n",
    "plt.grid()\n",
    "plt.xlabel('Number of iterations')\n",
    "plt.ylabel('Cost (J)')\n",
    "plt.title('Cost History over Iterations, a = 0.01, scaled Area and Price')\n",
    "plt.legend()"
   ]
  },
  {
   "cell_type": "code",
   "execution_count": null,
   "id": "9ac1316c-bd38-446f-b7eb-6f70a5ea2bdb",
   "metadata": {},
   "outputs": [],
   "source": [
    "plt.plot(range(1, iterations + 1),cost_historyTrainB3, color='green', label='Train Data')\n",
    "plt.plot(range(1, iterations + 1),cost_historyTestB3, color='blue', label='Test Data')\n",
    "\n",
    "plt.rcParams[\"figure.figsize\"] = (10,6)\n",
    "plt.grid()\n",
    "plt.xlabel('Number of iterations')\n",
    "plt.ylabel('Cost (J)')\n",
    "plt.title('Cost History over Iterations, a = 0.01, scaled Area and Price')\n",
    "plt.legend()"
   ]
  },
  {
   "cell_type": "code",
   "execution_count": null,
   "id": "18cb57c3-36a5-4d14-8e47-14d788b3460d",
   "metadata": {},
   "outputs": [],
   "source": [
    "x = 2\n",
    "y = \"awesome\"\n",
    "z =  str(x) + y\n",
    "print(z)"
   ]
  },
  {
   "cell_type": "code",
   "execution_count": null,
   "id": "ce2cb9b8-cb2a-4e65-98cc-3294b022ce8e",
   "metadata": {},
   "outputs": [],
   "source": [
    "print(str(1))"
   ]
  },
  {
   "cell_type": "code",
   "execution_count": null,
   "id": "66a0c3ae-33a1-46c3-bdea-3a55695f915b",
   "metadata": {},
   "outputs": [],
   "source": []
  },
  {
   "cell_type": "code",
   "execution_count": null,
   "id": "552ed89f-3843-4d00-ba17-9d91991dde30",
   "metadata": {},
   "outputs": [],
   "source": []
  }
 ],
 "metadata": {
  "kernelspec": {
   "display_name": "Python 3",
   "language": "python",
   "name": "python3"
  },
  "language_info": {
   "codemirror_mode": {
    "name": "ipython",
    "version": 3
   },
   "file_extension": ".py",
   "mimetype": "text/x-python",
   "name": "python",
   "nbconvert_exporter": "python",
   "pygments_lexer": "ipython3",
   "version": "3.8.8"
  }
 },
 "nbformat": 4,
 "nbformat_minor": 5
}
