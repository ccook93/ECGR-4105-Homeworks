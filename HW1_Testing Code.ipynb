{
 "cells": [
  {
   "cell_type": "code",
   "execution_count": 1,
   "id": "c06c9669-652a-429e-b98a-c7a28b2722ec",
   "metadata": {},
   "outputs": [],
   "source": [
    "# This is for testing code"
   ]
  },
  {
   "cell_type": "code",
   "execution_count": 2,
   "id": "52907bd0-4f6c-4bd9-80d5-a975e59826ab",
   "metadata": {},
   "outputs": [],
   "source": [
    "import numpy as np\n",
    "import pandas as pd\n",
    "import matplotlib.pyplot as plt\n",
    "import seaborn as sns"
   ]
  },
  {
   "cell_type": "code",
   "execution_count": 3,
   "id": "20084f22-2a27-40f4-8025-6305dcc7d0b4",
   "metadata": {},
   "outputs": [],
   "source": [
    "def compute_cost(x, y, theta, m): # Compute cost for linear regression.\n",
    "\n",
    "    predictions = x.dot(theta)\n",
    "    errors = np.subtract(predictions, y)\n",
    "    sqrErrors = np.square(errors)\n",
    "    J = 1 / (2 * m) * np.sum(sqrErrors) # cost function, sum of squared errors\n",
    "    return J"
   ]
  },
  {
   "cell_type": "code",
   "execution_count": 4,
   "id": "a23d2ee5-7133-49b3-9e8f-14f069958b0e",
   "metadata": {},
   "outputs": [],
   "source": [
    "def gradient_descent(x, y, a, b, theta, alpha, iterations, lengthTrain, lengthTest): # Compute cost for linear regression.\n",
    "\n",
    "    cost_history = np.zeros(iterations)\n",
    "    cost_history_test = np.zeros(iterations)\n",
    "    \n",
    "    for i in range(iterations):\n",
    "        predictions = x.dot(theta)\n",
    "        errors = np.subtract(predictions, y)\n",
    "        sum_delta = (alpha / lengthTrain) * x.transpose().dot(errors);\n",
    "        theta = theta - sum_delta;\n",
    "        cost_history[i] = compute_cost(x, y, theta, lengthTrain)\n",
    "        cost_history_test[i] = compute_cost(a, b, theta, lengthTest)\n",
    "        \n",
    "    return theta, cost_history, cost_history_test"
   ]
  },
  {
   "cell_type": "code",
   "execution_count": 24,
   "id": "3a498aa4-1b40-44e8-8d69-3f7911c057f2",
   "metadata": {},
   "outputs": [],
   "source": [
    "def data_organize(data,length,scaling,problem): # Organize data into matrix for use with gradient descent algorithm\n",
    "    \n",
    "    cols = len(data.columns)\n",
    "    C = [0]*cols\n",
    "    \n",
    "    for i in range(len(C)):\n",
    "        B = data.values[:, i]\n",
    "        X = B.reshape(length, 1)\n",
    "        C[i] = X\n",
    "    \n",
    "    # if scaling is activated, scales price, specific to dataset in 1a)\n",
    "    end = int(len(C) - 1)\n",
    "    if scaling == 1:\n",
    "        C[0]=C[0]*10**(-3) \n",
    "        Y = data.values[:, end]*10**(-6)\n",
    "    else:\n",
    "        Y = data.values[:, end]\n",
    "\n",
    "    initial = np.ones((length, 1)) # Create a 99x1 array of ones\n",
    "    \n",
    "    # PROBLEM IS HERE WITH .hstack(), can .hstack() be dynamic?\n",
    "    if problem == 0:\n",
    "        X_tot = np.hstack((initial,C[0],C[1],C[2],C[3],C[4]))\n",
    "    else:\n",
    "        X_tot = np.hstack((initial,C[0],C[1],C[2],C[3],C[4],C[5],C[6],C[7],C[8],C[9]))\n",
    "\n",
    "      \n",
    "    return X_tot, Y"
   ]
  },
  {
   "cell_type": "code",
   "execution_count": 25,
   "id": "a66d0085-348e-4fed-af4e-015b5f8e009d",
   "metadata": {},
   "outputs": [
    {
     "name": "stdout",
     "output_type": "stream",
     "text": [
      "(545, 13)\n"
     ]
    },
    {
     "data": {
      "text/html": [
       "<div>\n",
       "<style scoped>\n",
       "    .dataframe tbody tr th:only-of-type {\n",
       "        vertical-align: middle;\n",
       "    }\n",
       "\n",
       "    .dataframe tbody tr th {\n",
       "        vertical-align: top;\n",
       "    }\n",
       "\n",
       "    .dataframe thead th {\n",
       "        text-align: right;\n",
       "    }\n",
       "</style>\n",
       "<table border=\"1\" class=\"dataframe\">\n",
       "  <thead>\n",
       "    <tr style=\"text-align: right;\">\n",
       "      <th></th>\n",
       "      <th>price</th>\n",
       "      <th>area</th>\n",
       "      <th>bedrooms</th>\n",
       "      <th>bathrooms</th>\n",
       "      <th>stories</th>\n",
       "      <th>mainroad</th>\n",
       "      <th>guestroom</th>\n",
       "      <th>basement</th>\n",
       "      <th>hotwaterheating</th>\n",
       "      <th>airconditioning</th>\n",
       "      <th>parking</th>\n",
       "      <th>prefarea</th>\n",
       "      <th>furnishingstatus</th>\n",
       "    </tr>\n",
       "  </thead>\n",
       "  <tbody>\n",
       "    <tr>\n",
       "      <th>0</th>\n",
       "      <td>13300000</td>\n",
       "      <td>7420</td>\n",
       "      <td>4</td>\n",
       "      <td>2</td>\n",
       "      <td>3</td>\n",
       "      <td>yes</td>\n",
       "      <td>no</td>\n",
       "      <td>no</td>\n",
       "      <td>no</td>\n",
       "      <td>yes</td>\n",
       "      <td>2</td>\n",
       "      <td>yes</td>\n",
       "      <td>furnished</td>\n",
       "    </tr>\n",
       "    <tr>\n",
       "      <th>1</th>\n",
       "      <td>12250000</td>\n",
       "      <td>8960</td>\n",
       "      <td>4</td>\n",
       "      <td>4</td>\n",
       "      <td>4</td>\n",
       "      <td>yes</td>\n",
       "      <td>no</td>\n",
       "      <td>no</td>\n",
       "      <td>no</td>\n",
       "      <td>yes</td>\n",
       "      <td>3</td>\n",
       "      <td>no</td>\n",
       "      <td>furnished</td>\n",
       "    </tr>\n",
       "    <tr>\n",
       "      <th>2</th>\n",
       "      <td>12250000</td>\n",
       "      <td>9960</td>\n",
       "      <td>3</td>\n",
       "      <td>2</td>\n",
       "      <td>2</td>\n",
       "      <td>yes</td>\n",
       "      <td>no</td>\n",
       "      <td>yes</td>\n",
       "      <td>no</td>\n",
       "      <td>no</td>\n",
       "      <td>2</td>\n",
       "      <td>yes</td>\n",
       "      <td>semi-furnished</td>\n",
       "    </tr>\n",
       "    <tr>\n",
       "      <th>3</th>\n",
       "      <td>12215000</td>\n",
       "      <td>7500</td>\n",
       "      <td>4</td>\n",
       "      <td>2</td>\n",
       "      <td>2</td>\n",
       "      <td>yes</td>\n",
       "      <td>no</td>\n",
       "      <td>yes</td>\n",
       "      <td>no</td>\n",
       "      <td>yes</td>\n",
       "      <td>3</td>\n",
       "      <td>yes</td>\n",
       "      <td>furnished</td>\n",
       "    </tr>\n",
       "    <tr>\n",
       "      <th>4</th>\n",
       "      <td>11410000</td>\n",
       "      <td>7420</td>\n",
       "      <td>4</td>\n",
       "      <td>1</td>\n",
       "      <td>2</td>\n",
       "      <td>yes</td>\n",
       "      <td>yes</td>\n",
       "      <td>yes</td>\n",
       "      <td>no</td>\n",
       "      <td>yes</td>\n",
       "      <td>2</td>\n",
       "      <td>no</td>\n",
       "      <td>furnished</td>\n",
       "    </tr>\n",
       "  </tbody>\n",
       "</table>\n",
       "</div>"
      ],
      "text/plain": [
       "      price  area  bedrooms  bathrooms  stories mainroad guestroom basement  \\\n",
       "0  13300000  7420         4          2        3      yes        no       no   \n",
       "1  12250000  8960         4          4        4      yes        no       no   \n",
       "2  12250000  9960         3          2        2      yes        no      yes   \n",
       "3  12215000  7500         4          2        2      yes        no      yes   \n",
       "4  11410000  7420         4          1        2      yes       yes      yes   \n",
       "\n",
       "  hotwaterheating airconditioning  parking prefarea furnishingstatus  \n",
       "0              no             yes        2      yes        furnished  \n",
       "1              no             yes        3       no        furnished  \n",
       "2              no              no        2      yes   semi-furnished  \n",
       "3              no             yes        3      yes        furnished  \n",
       "4              no             yes        2       no        furnished  "
      ]
     },
     "execution_count": 25,
     "metadata": {},
     "output_type": "execute_result"
    }
   ],
   "source": [
    "# Import housing list \n",
    "housing = pd.read_csv('Housing.csv')\n",
    "print(housing.shape)\n",
    "\n",
    "# 1a Variables\n",
    "varlist1 = ['area','bedrooms','bathrooms','stories','parking','price']\n",
    "varlist2 = ['area','bedrooms','bathrooms','stories','mainroad','guestroom','basement','hotwaterheating','airconditioning','parking','prefarea','price']\n",
    "\n",
    "housing.head()"
   ]
  },
  {
   "cell_type": "code",
   "execution_count": 26,
   "id": "0aa90cfa-8e21-4424-800e-37af887679f7",
   "metadata": {},
   "outputs": [
    {
     "data": {
      "text/html": [
       "<div>\n",
       "<style scoped>\n",
       "    .dataframe tbody tr th:only-of-type {\n",
       "        vertical-align: middle;\n",
       "    }\n",
       "\n",
       "    .dataframe tbody tr th {\n",
       "        vertical-align: top;\n",
       "    }\n",
       "\n",
       "    .dataframe thead th {\n",
       "        text-align: right;\n",
       "    }\n",
       "</style>\n",
       "<table border=\"1\" class=\"dataframe\">\n",
       "  <thead>\n",
       "    <tr style=\"text-align: right;\">\n",
       "      <th></th>\n",
       "      <th>price</th>\n",
       "      <th>area</th>\n",
       "      <th>bedrooms</th>\n",
       "      <th>bathrooms</th>\n",
       "      <th>stories</th>\n",
       "      <th>mainroad</th>\n",
       "      <th>guestroom</th>\n",
       "      <th>basement</th>\n",
       "      <th>hotwaterheating</th>\n",
       "      <th>airconditioning</th>\n",
       "      <th>parking</th>\n",
       "      <th>prefarea</th>\n",
       "      <th>furnishingstatus</th>\n",
       "    </tr>\n",
       "  </thead>\n",
       "  <tbody>\n",
       "    <tr>\n",
       "      <th>0</th>\n",
       "      <td>13300000</td>\n",
       "      <td>7420</td>\n",
       "      <td>4</td>\n",
       "      <td>2</td>\n",
       "      <td>3</td>\n",
       "      <td>1</td>\n",
       "      <td>0</td>\n",
       "      <td>0</td>\n",
       "      <td>0</td>\n",
       "      <td>1</td>\n",
       "      <td>2</td>\n",
       "      <td>1</td>\n",
       "      <td>furnished</td>\n",
       "    </tr>\n",
       "    <tr>\n",
       "      <th>1</th>\n",
       "      <td>12250000</td>\n",
       "      <td>8960</td>\n",
       "      <td>4</td>\n",
       "      <td>4</td>\n",
       "      <td>4</td>\n",
       "      <td>1</td>\n",
       "      <td>0</td>\n",
       "      <td>0</td>\n",
       "      <td>0</td>\n",
       "      <td>1</td>\n",
       "      <td>3</td>\n",
       "      <td>0</td>\n",
       "      <td>furnished</td>\n",
       "    </tr>\n",
       "    <tr>\n",
       "      <th>2</th>\n",
       "      <td>12250000</td>\n",
       "      <td>9960</td>\n",
       "      <td>3</td>\n",
       "      <td>2</td>\n",
       "      <td>2</td>\n",
       "      <td>1</td>\n",
       "      <td>0</td>\n",
       "      <td>1</td>\n",
       "      <td>0</td>\n",
       "      <td>0</td>\n",
       "      <td>2</td>\n",
       "      <td>1</td>\n",
       "      <td>semi-furnished</td>\n",
       "    </tr>\n",
       "    <tr>\n",
       "      <th>3</th>\n",
       "      <td>12215000</td>\n",
       "      <td>7500</td>\n",
       "      <td>4</td>\n",
       "      <td>2</td>\n",
       "      <td>2</td>\n",
       "      <td>1</td>\n",
       "      <td>0</td>\n",
       "      <td>1</td>\n",
       "      <td>0</td>\n",
       "      <td>1</td>\n",
       "      <td>3</td>\n",
       "      <td>1</td>\n",
       "      <td>furnished</td>\n",
       "    </tr>\n",
       "    <tr>\n",
       "      <th>4</th>\n",
       "      <td>11410000</td>\n",
       "      <td>7420</td>\n",
       "      <td>4</td>\n",
       "      <td>1</td>\n",
       "      <td>2</td>\n",
       "      <td>1</td>\n",
       "      <td>1</td>\n",
       "      <td>1</td>\n",
       "      <td>0</td>\n",
       "      <td>1</td>\n",
       "      <td>2</td>\n",
       "      <td>0</td>\n",
       "      <td>furnished</td>\n",
       "    </tr>\n",
       "  </tbody>\n",
       "</table>\n",
       "</div>"
      ],
      "text/plain": [
       "      price  area  bedrooms  bathrooms  stories  mainroad  guestroom  \\\n",
       "0  13300000  7420         4          2        3         1          0   \n",
       "1  12250000  8960         4          4        4         1          0   \n",
       "2  12250000  9960         3          2        2         1          0   \n",
       "3  12215000  7500         4          2        2         1          0   \n",
       "4  11410000  7420         4          1        2         1          1   \n",
       "\n",
       "   basement  hotwaterheating  airconditioning  parking  prefarea  \\\n",
       "0         0                0                1        2         1   \n",
       "1         0                0                1        3         0   \n",
       "2         1                0                0        2         1   \n",
       "3         1                0                1        3         1   \n",
       "4         1                0                1        2         0   \n",
       "\n",
       "  furnishingstatus  \n",
       "0        furnished  \n",
       "1        furnished  \n",
       "2   semi-furnished  \n",
       "3        furnished  \n",
       "4        furnished  "
      ]
     },
     "execution_count": 26,
     "metadata": {},
     "output_type": "execute_result"
    }
   ],
   "source": [
    "# Binary Variables DOES THIS ACTUALLY WORK?\n",
    "binary_varlist = ['mainroad', 'guestroom', 'basement','hotwaterheating', 'airconditioning','prefarea']\n",
    "\n",
    "#varlist=['mainroad','guestroom','basement','hotwaterheating','airconditioning',\n",
    "# Defining the map function\n",
    "         \n",
    "def binary_map(x):\n",
    "         return x.map({'yes':1,\"no\":0})\n",
    "         \n",
    "# Applying the function to the housing list\n",
    "housing[binary_varlist]=housing[binary_varlist].apply(binary_map)\n",
    "# Check the housing dataframe now\n",
    "housing.head()"
   ]
  },
  {
   "cell_type": "code",
   "execution_count": 27,
   "id": "fd459a7c-35e8-4ae0-b196-91ffb445f66a",
   "metadata": {},
   "outputs": [
    {
     "name": "stdout",
     "output_type": "stream",
     "text": [
      "Dimensions of df_train: (381, 13)\n",
      "Dimensions of df_train: (164, 13)\n",
      "12\n",
      "<class 'int'>\n",
      "0\n"
     ]
    }
   ],
   "source": [
    "from sklearn.model_selection import train_test_split\n",
    "\n",
    "# Splitting the dataset into two sets specified in train_test_split\n",
    "np.random.seed(0)\n",
    "df_train, df_test = train_test_split(housing, test_size = 0.3, train_size = 0.7, random_state = 1 )\n",
    "\n",
    "# Get the lengths of the training and test set\n",
    "mTrain = len(df_train)\n",
    "mTest = len(df_test)\n",
    "\n",
    "print('Dimensions of df_train:',df_train.shape)\n",
    "print('Dimensions of df_train:',df_test.shape)\n",
    "\n",
    "cols = len(df_train.columns)\n",
    "C = [0]*cols\n",
    "print(len(C)-1)\n",
    "K = len(C) - 1\n",
    "print(type(K))\n",
    "print(C[len(C)-1])"
   ]
  },
  {
   "cell_type": "code",
   "execution_count": 28,
   "id": "a62708f5-204d-4a52-8664-7f34347124ee",
   "metadata": {},
   "outputs": [
    {
     "name": "stdout",
     "output_type": "stream",
     "text": [
      "Dimensions of training set used in 1a: (381, 6)\n",
      "Dimensions of training set used in 1b: (381, 12)\n",
      "     area  bedrooms  bathrooms  stories  mainroad  guestroom  basement  \\\n",
      "180  4500         4          2        1         0          0         1   \n",
      "189  3540         2          1        1         0          1         1   \n",
      "93   7200         3          2        1         1          0         1   \n",
      "\n",
      "     hotwaterheating  airconditioning  parking  prefarea    price  \n",
      "180                0                1        2         0  5215000  \n",
      "189                0                0        0         0  5040000  \n",
      "93                 0                1        3         0  6300000  \n"
     ]
    }
   ],
   "source": [
    "df_NewtrainA = df_train[varlist1]\n",
    "df_NewtestA = df_test[varlist1]\n",
    "\n",
    "df_NewtrainB = df_train[varlist2]\n",
    "df_NewtestB = df_test[varlist2]\n",
    "\n",
    "print('Dimensions of training set used in 1a:', df_NewtrainA.shape)\n",
    "print('Dimensions of training set used in 1b:', df_NewtrainB.shape)\n",
    "#print(df_NewtrainA[: 5])\n",
    "print(df_NewtrainB[: 3])"
   ]
  },
  {
   "cell_type": "code",
   "execution_count": 31,
   "id": "4a3fd060-73cc-4877-b8f7-9dcccef48374",
   "metadata": {},
   "outputs": [
    {
     "name": "stdout",
     "output_type": "stream",
     "text": [
      "Shape of xTrainA: (381, 6)\n",
      "Shape of yTrainA: (381,) [5.215 5.04  6.3   3.22  6.615]\n",
      "Shape of xTestA: (164, 6)\n",
      "Shape of yTestA: (164,)\n",
      "Shape of xTrainB: (381, 11)\n",
      "Shape of yTrain: (381,) [5.215 5.04  6.3   3.22  6.615]\n",
      "Shape of xTrain: (381, 11)\n",
      "Shape of yTrain: (381,)\n",
      "[[1.   4.5  4.   2.   1.   0.   0.   1.   0.   1.   2.  ]\n",
      " [1.   3.54 2.   1.   1.   0.   1.   1.   0.   0.   0.  ]\n",
      " [1.   7.2  3.   2.   1.   1.   0.   1.   0.   1.   3.  ]\n",
      " [1.   3.12 3.   1.   2.   0.   0.   0.   0.   0.   0.  ]\n",
      " [1.   4.   3.   2.   2.   1.   0.   1.   0.   1.   1.  ]]\n"
     ]
    }
   ],
   "source": [
    "xTrainA, yTrainA = data_organize(df_NewtrainA,mTrain,1,0)\n",
    "xTestA, yTestA = data_organize(df_NewtestA,mTest,1,0)\n",
    "\n",
    "mTrainB = len(df_NewtrainB)\n",
    "mTestB = len(df_NewtestB)\n",
    "\n",
    "xTrainB, yTrainB = data_organize(df_NewtrainB,mTrainB,1,2)\n",
    "xTestB, yTestB = data_organize(df_NewtrainB,mTrain,1,2)\n",
    "\n",
    "print('Shape of xTrainA:',np.shape(xTrainA))\n",
    "print('Shape of yTrainA:',np.shape(yTrainA), yTrainA[: 5])\n",
    "\n",
    "print('Shape of xTestA:',np.shape(xTestA))\n",
    "print('Shape of yTestA:',np.shape(yTestA))\n",
    "\n",
    "print('Shape of xTrainB:',np.shape(xTrainB))\n",
    "print('Shape of yTrain:',np.shape(yTrainB), yTrainB[: 5])\n",
    "\n",
    "print('Shape of xTrain:',np.shape(xTrainB))\n",
    "print('Shape of yTrain:',np.shape(yTrainB))\n",
    "\n",
    "print(xTrainB[: 5])\n",
    "#print(yTrainB[: 5])"
   ]
  },
  {
   "cell_type": "code",
   "execution_count": 39,
   "id": "484f1904-eda6-4418-b640-307c2e7325b3",
   "metadata": {},
   "outputs": [
    {
     "data": {
      "text/plain": [
       "array([0., 0., 0., 0., 0., 0.])"
      ]
     },
     "execution_count": 39,
     "metadata": {},
     "output_type": "execute_result"
    }
   ],
   "source": [
    "thetaA = np.zeros(6) # row vector for Theta initialized to 0\n",
    "thetaB = np.zeros(11)\n",
    "iterations = 200;\n",
    "\n",
    "alpha1 = 0.01; # Comparing 3 different training rates\n",
    "alpha2 = 0.02;\n",
    "alpha3 = 0.042;\n",
    "\n",
    "theta"
   ]
  },
  {
   "cell_type": "code",
   "execution_count": 49,
   "id": "1276f3f5-cee0-49a3-bc6f-7dd723398901",
   "metadata": {},
   "outputs": [
    {
     "name": "stdout",
     "output_type": "stream",
     "text": [
      "Final value of theta1 = [0.04215866 0.27086886 0.06968425 0.85891046 0.56004847 0.38841253\n",
      " 0.32292821 0.60797431 0.22696055 0.51637405 0.34583307]\n",
      "Cost History for Training1: [4.44256749 1.99836155 1.29819849 1.09388494 1.03067776 1.00775209\n",
      " 0.99644672 0.98860956 0.98191747 0.97570414]\n",
      "Cost History for Testing1: [4.8857971  2.35423482 1.55919425 1.29157565 1.19184296 1.14939921\n",
      " 1.12835867 1.11616443 1.10799824 1.10182766]\n"
     ]
    }
   ],
   "source": [
    "# Run Cost History and Gradient Descent algorithms for training data\n",
    "thetaTrainA1, cost_historyTrainA1, cost_historyTestA1 = gradient_descent(xTrainA, yTrainA, xTestA, yTestA, thetaA, 0.01, iterations, mTrain, mTest)\n",
    "thetaTrainA2, cost_historyTrainA2, cost_historyTestA2 = gradient_descent(xTrainA, yTrainA, xTestA, yTestA, thetaA, 0.03, iterations, mTrain, mTest)\n",
    "thetaTrainA3, cost_historyTrainA3, cost_historyTestA3 = gradient_descent(xTrainA, yTrainA, xTestA, yTestA, thetaA, 0.04, iterations, mTrain, mTest)\n",
    "\n",
    "thetaTrainA1, cost_historyTrainB1, cost_historyTestB1 = gradient_descent(xTrainB, yTrainB, xTestB, yTestB, thetaB, 0.04, iterations, mTrainB, mTestB)\n",
    "\n",
    "print('Final value of theta1 =', thetaTrainA1)\n",
    "print('Cost History for Training1:', cost_historyTrainA1[: 10]) # Here the cost history just blows up without a small enough learning rate\n",
    "print('Cost History for Testing1:', cost_historyTestA1[: 10])"
   ]
  },
  {
   "cell_type": "code",
   "execution_count": 50,
   "id": "64d04aa6-0bb2-47e7-8020-8f13c0be7567",
   "metadata": {},
   "outputs": [
    {
     "data": {
      "text/plain": [
       "<matplotlib.legend.Legend at 0x21406213280>"
      ]
     },
     "execution_count": 50,
     "metadata": {},
     "output_type": "execute_result"
    },
    {
     "data": {
      "image/png": "[encoded data removed]",
      "text/plain": [
       "<Figure size 720x432 with 1 Axes>"
      ]
     },
     "metadata": {
      "needs_background": "light"
     },
     "output_type": "display_data"
    }
   ],
   "source": [
    "plt.plot(range(1, iterations + 1),cost_historyTrainB1, color='green', label='Train Data')\n",
    "plt.plot(range(1, iterations + 1),cost_historyTestB1, color='blue', label='Test Data')\n",
    "\n",
    "plt.rcParams[\"figure.figsize\"] = (10,6)\n",
    "plt.grid()\n",
    "plt.xlabel('Number of iterations')\n",
    "plt.ylabel('Cost (J)')\n",
    "plt.title('Cost History over Iterations, a = 0.01, scaled Area and Price')\n",
    "plt.legend()"
   ]
  },
  {
   "cell_type": "code",
   "execution_count": 42,
   "id": "2dafc779-0b7d-4dc3-b639-32fcca825497",
   "metadata": {},
   "outputs": [
    {
     "data": {
      "text/plain": [
       "<matplotlib.legend.Legend at 0x21406038a90>"
      ]
     },
     "execution_count": 42,
     "metadata": {},
     "output_type": "execute_result"
    },
    {
     "data": {
      "image/png": "[encoded data removed]",
      "text/plain": [
       "<Figure size 720x432 with 1 Axes>"
      ]
     },
     "metadata": {
      "needs_background": "light"
     },
     "output_type": "display_data"
    }
   ],
   "source": [
    "plt.plot(range(1, iterations + 1),cost_historyTrainA1, color='green', label='Train Data')\n",
    "plt.plot(range(1, iterations + 1),cost_historyTestA1, color='blue', label='Test Data')\n",
    "\n",
    "plt.rcParams[\"figure.figsize\"] = (10,6)\n",
    "plt.grid()\n",
    "plt.xlabel('Number of iterations')\n",
    "plt.ylabel('Cost (J)')\n",
    "plt.title('Cost History over Iterations, a = 0.01, scaled Area and Price')\n",
    "plt.legend()"
   ]
  },
  {
   "cell_type": "code",
   "execution_count": 43,
   "id": "1005f192-dc07-4d8d-8069-0cd5587d13d8",
   "metadata": {},
   "outputs": [
    {
     "data": {
      "text/plain": [
       "<matplotlib.legend.Legend at 0x214061e7880>"
      ]
     },
     "execution_count": 43,
     "metadata": {},
     "output_type": "execute_result"
    },
    {
     "data": {
      "image/png": "[encoded data removed]",
      "text/plain": [
       "<Figure size 720x432 with 1 Axes>"
      ]
     },
     "metadata": {
      "needs_background": "light"
     },
     "output_type": "display_data"
    }
   ],
   "source": [
    "plt.plot(range(1, iterations + 1),cost_historyTrainA2, color='green', label='Train Data')\n",
    "plt.plot(range(1, iterations + 1),cost_historyTestA2, color='blue', label='Test Data')\n",
    "\n",
    "plt.rcParams[\"figure.figsize\"] = (10,6)\n",
    "plt.grid()\n",
    "plt.xlabel('Number of iterations')\n",
    "plt.ylabel('Cost (J)')\n",
    "plt.title('Cost History over Iterations, a = 0.03, scaled Area and Price')\n",
    "plt.legend()"
   ]
  },
  {
   "cell_type": "code",
   "execution_count": 44,
   "id": "d5253c80-b45e-4131-8d8b-22729e760e6d",
   "metadata": {},
   "outputs": [
    {
     "data": {
      "text/plain": [
       "<matplotlib.legend.Legend at 0x214060bd790>"
      ]
     },
     "execution_count": 44,
     "metadata": {},
     "output_type": "execute_result"
    },
    {
     "data": {
      "image/png": "[encoded data removed]",
      "text/plain": [
       "<Figure size 720x432 with 1 Axes>"
      ]
     },
     "metadata": {
      "needs_background": "light"
     },
     "output_type": "display_data"
    }
   ],
   "source": [
    "plt.plot(range(1, iterations + 1),cost_historyTrainA3, color='green', label='Train Data')\n",
    "plt.plot(range(1, iterations + 1),cost_historyTestA3, color='blue', label='Test Data')\n",
    "\n",
    "plt.rcParams[\"figure.figsize\"] = (10,6)\n",
    "plt.grid()\n",
    "plt.xlabel('Number of iterations')\n",
    "plt.ylabel('Cost (J)')\n",
    "plt.title('Cost History over Iterations, a = 0.04, scaled Area and Price')\n",
    "plt.legend()"
   ]
  },
  {
   "cell_type": "code",
   "execution_count": 17,
   "id": "18cb57c3-36a5-4d14-8e47-14d788b3460d",
   "metadata": {},
   "outputs": [
    {
     "name": "stdout",
     "output_type": "stream",
     "text": [
      "2awesome\n"
     ]
    }
   ],
   "source": [
    "x = 2\n",
    "y = \"awesome\"\n",
    "z =  str(x) + y\n",
    "print(z)"
   ]
  },
  {
   "cell_type": "code",
   "execution_count": 18,
   "id": "ce2cb9b8-cb2a-4e65-98cc-3294b022ce8e",
   "metadata": {},
   "outputs": [
    {
     "name": "stdout",
     "output_type": "stream",
     "text": [
      "1\n"
     ]
    }
   ],
   "source": [
    "print(str(1))"
   ]
  },
  {
   "cell_type": "code",
   "execution_count": null,
   "id": "66a0c3ae-33a1-46c3-bdea-3a55695f915b",
   "metadata": {},
   "outputs": [],
   "source": []
  },
  {
   "cell_type": "code",
   "execution_count": null,
   "id": "552ed89f-3843-4d00-ba17-9d91991dde30",
   "metadata": {},
   "outputs": [],
   "source": []
  }
 ],
 "metadata": {
  "kernelspec": {
   "display_name": "Python 3",
   "language": "python",
   "name": "python3"
  },
  "language_info": {
   "codemirror_mode": {
    "name": "ipython",
    "version": 3
   },
   "file_extension": ".py",
   "mimetype": "text/x-python",
   "name": "python",
   "nbconvert_exporter": "python",
   "pygments_lexer": "ipython3",
   "version": "3.8.8"
  }
 },
 "nbformat": 4,
 "nbformat_minor": 5
}
