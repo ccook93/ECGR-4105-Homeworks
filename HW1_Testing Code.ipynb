{
 "cells": [
  {
   "cell_type": "code",
   "execution_count": 1,
   "id": "c06c9669-652a-429e-b98a-c7a28b2722ec",
   "metadata": {},
   "outputs": [],
   "source": [
    "# This is for testing code"
   ]
  },
  {
   "cell_type": "code",
   "execution_count": 70,
   "id": "52907bd0-4f6c-4bd9-80d5-a975e59826ab",
   "metadata": {},
   "outputs": [],
   "source": [
    "import numpy as np\n",
    "import pandas as pd\n",
    "import matplotlib.pyplot as plt\n",
    "import seaborn as sns"
   ]
  },
  {
   "cell_type": "code",
   "execution_count": 71,
   "id": "20084f22-2a27-40f4-8025-6305dcc7d0b4",
   "metadata": {},
   "outputs": [],
   "source": [
    "def compute_cost(x, y, theta, m): # Compute cost for linear regression.\n",
    "\n",
    "    predictions = x.dot(theta)\n",
    "    errors = np.subtract(predictions, y)\n",
    "    sqrErrors = np.square(errors)\n",
    "    J = 1 / (2 * m) * np.sum(sqrErrors) # cost function, sum of squared errors\n",
    "    return J"
   ]
  },
  {
   "cell_type": "code",
   "execution_count": 72,
   "id": "a23d2ee5-7133-49b3-9e8f-14f069958b0e",
   "metadata": {},
   "outputs": [],
   "source": [
    "def gradient_descent(x, y, theta, alpha, iterations, length): # Compute cost for linear regression.\n",
    "\n",
    "    cost_history = np.zeros(iterations)\n",
    "    \n",
    "    for i in range(iterations):\n",
    "        predictions = x.dot(theta)\n",
    "        errors = np.subtract(predictions, y)\n",
    "        sum_delta = (alpha / length) * x.transpose().dot(errors);\n",
    "        theta = theta - sum_delta;\n",
    "        cost_history[i] = compute_cost(x, y, theta, length)\n",
    "    return theta, cost_history"
   ]
  },
  {
   "cell_type": "code",
   "execution_count": 160,
   "id": "3a498aa4-1b40-44e8-8d69-3f7911c057f2",
   "metadata": {},
   "outputs": [],
   "source": [
    "def data_organize(data,length): # Organize data into matrix for use with gradient descent\n",
    "    \n",
    "    \n",
    "    R = np. size(data, 1)\n",
    "    \n",
    "    for k in range(R)\n",
    "        C[i] = 0\n",
    "    \n",
    "    for i in range(len(C)):\n",
    "        B = data.values[:, i]\n",
    "        X = B.reshape(length, 1)\n",
    "        C[i] = X\n",
    "        \n",
    "    initial = np.ones((length, 1)) # Create a 99x1 array of ones\n",
    "    X_tot = np.hstack((initial,C[0],C[1],C[2],C[3],C[4]))\n",
    "    Y = data.values[:, 5]\n",
    "        \n",
    "    return X_tot, Y"
   ]
  },
  {
   "cell_type": "code",
   "execution_count": 161,
   "id": "a66d0085-348e-4fed-af4e-015b5f8e009d",
   "metadata": {},
   "outputs": [
    {
     "name": "stdout",
     "output_type": "stream",
     "text": [
      "6\n",
      "6\n"
     ]
    }
   ],
   "source": [
    "# Import housing list \n",
    "housing = pd.read_csv('Housing.csv')\n",
    "housing.shape\n",
    "\n",
    "varlist1 = ['area','bedrooms','bathrooms','stories','parking','price']\n",
    "\n",
    "C1 = np.zeros(6)\n",
    "C2 = [0, 0, 0, 0, 0, 0]\n",
    "print(len(C1))\n",
    "print(len(C2))"
   ]
  },
  {
   "cell_type": "code",
   "execution_count": 162,
   "id": "fd459a7c-35e8-4ae0-b196-91ffb445f66a",
   "metadata": {},
   "outputs": [
    {
     "name": "stdout",
     "output_type": "stream",
     "text": [
      "Dimensions of df_train: (381, 13)\n",
      "Dimensions of df_train: (164, 13)\n",
      "13\n"
     ]
    }
   ],
   "source": [
    "from sklearn.model_selection import train_test_split\n",
    "\n",
    "# We specify this so that the train and test data set always have the same rows, respectively. (columns?)\n",
    "np.random.seed(0)\n",
    "df_train, df_test = train_test_split(housing, test_size = 0.3, train_size = 0.7, random_state = 1 )\n",
    "\n",
    "# Get the lengths of the training and test set\n",
    "mTrain = len(df_train)\n",
    "mTest = len(df_test)\n",
    "\n",
    "print('Dimensions of df_train:',df_train.shape)\n",
    "print('Dimensions of df_train:',df_test.shape)\n",
    "\n",
    "cols = len(df_train.columns)\n",
    "print(cols)\n"
   ]
  },
  {
   "cell_type": "code",
   "execution_count": 163,
   "id": "a62708f5-204d-4a52-8664-7f34347124ee",
   "metadata": {},
   "outputs": [
    {
     "name": "stdout",
     "output_type": "stream",
     "text": [
      "Dimensions of training set used in 1a: (381, 6)\n",
      "     area  bedrooms  bathrooms  stories  parking    price\n",
      "180  4500         4          2        1        2  5215000\n",
      "189  3540         2          1        1        0  5040000\n",
      "93   7200         3          2        1        3  6300000\n",
      "444  3120         3          1        2        0  3220000\n",
      "81   4000         3          2        2        1  6615000\n"
     ]
    }
   ],
   "source": [
    "df_Newtrain = df_train[varlist1]\n",
    "df_Newtest = df_test[varlist1]\n",
    "print('Dimensions of training set used in 1a:', df_Newtrain.shape)\n",
    "print(df_Newtrain[: 5])"
   ]
  },
  {
   "cell_type": "code",
   "execution_count": 164,
   "id": "4a3fd060-73cc-4877-b8f7-9dcccef48374",
   "metadata": {},
   "outputs": [
    {
     "ename": "ValueError",
     "evalue": "setting an array element with a sequence.",
     "output_type": "error",
     "traceback": [
      "\u001b[1;31m---------------------------------------------------------------------------\u001b[0m",
      "\u001b[1;31mTypeError\u001b[0m                                 Traceback (most recent call last)",
      "\u001b[1;31mTypeError\u001b[0m: only size-1 arrays can be converted to Python scalars",
      "\nThe above exception was the direct cause of the following exception:\n",
      "\u001b[1;31mValueError\u001b[0m                                Traceback (most recent call last)",
      "\u001b[1;32m<ipython-input-164-206cf0492bff>\u001b[0m in \u001b[0;36m<module>\u001b[1;34m\u001b[0m\n\u001b[1;32m----> 1\u001b[1;33m \u001b[0mxTrain\u001b[0m\u001b[1;33m,\u001b[0m \u001b[0myTrain\u001b[0m \u001b[1;33m=\u001b[0m \u001b[0mdata_organize\u001b[0m\u001b[1;33m(\u001b[0m\u001b[0mdf_Newtrain\u001b[0m\u001b[1;33m,\u001b[0m\u001b[0mmTrain\u001b[0m\u001b[1;33m)\u001b[0m\u001b[1;33m\u001b[0m\u001b[1;33m\u001b[0m\u001b[0m\n\u001b[0m\u001b[0;32m      2\u001b[0m \u001b[0mxTest\u001b[0m\u001b[1;33m,\u001b[0m \u001b[0myTest\u001b[0m \u001b[1;33m=\u001b[0m \u001b[0mdata_organize\u001b[0m\u001b[1;33m(\u001b[0m\u001b[0mdf_Newtest\u001b[0m\u001b[1;33m,\u001b[0m\u001b[0mmTest\u001b[0m\u001b[1;33m)\u001b[0m\u001b[1;33m\u001b[0m\u001b[1;33m\u001b[0m\u001b[0m\n\u001b[0;32m      3\u001b[0m \u001b[1;33m\u001b[0m\u001b[0m\n\u001b[0;32m      4\u001b[0m \u001b[0mprint\u001b[0m\u001b[1;33m(\u001b[0m\u001b[1;34m'Shape of xTrain:'\u001b[0m\u001b[1;33m,\u001b[0m\u001b[0mnp\u001b[0m\u001b[1;33m.\u001b[0m\u001b[0mshape\u001b[0m\u001b[1;33m(\u001b[0m\u001b[0mxTrain\u001b[0m\u001b[1;33m)\u001b[0m\u001b[1;33m)\u001b[0m\u001b[1;33m\u001b[0m\u001b[1;33m\u001b[0m\u001b[0m\n\u001b[0;32m      5\u001b[0m \u001b[0mprint\u001b[0m\u001b[1;33m(\u001b[0m\u001b[1;34m'Shape of yTrain:'\u001b[0m\u001b[1;33m,\u001b[0m\u001b[0mnp\u001b[0m\u001b[1;33m.\u001b[0m\u001b[0mshape\u001b[0m\u001b[1;33m(\u001b[0m\u001b[0myTrain\u001b[0m\u001b[1;33m)\u001b[0m\u001b[1;33m)\u001b[0m\u001b[1;33m\u001b[0m\u001b[1;33m\u001b[0m\u001b[0m\n",
      "\u001b[1;32m<ipython-input-160-e3c612da896b>\u001b[0m in \u001b[0;36mdata_organize\u001b[1;34m(data, length)\u001b[0m\n\u001b[0;32m      8\u001b[0m         \u001b[0mB\u001b[0m \u001b[1;33m=\u001b[0m \u001b[0mdata\u001b[0m\u001b[1;33m.\u001b[0m\u001b[0mvalues\u001b[0m\u001b[1;33m[\u001b[0m\u001b[1;33m:\u001b[0m\u001b[1;33m,\u001b[0m \u001b[0mi\u001b[0m\u001b[1;33m]\u001b[0m\u001b[1;33m\u001b[0m\u001b[1;33m\u001b[0m\u001b[0m\n\u001b[0;32m      9\u001b[0m         \u001b[0mX\u001b[0m \u001b[1;33m=\u001b[0m \u001b[0mB\u001b[0m\u001b[1;33m.\u001b[0m\u001b[0mreshape\u001b[0m\u001b[1;33m(\u001b[0m\u001b[0mlength\u001b[0m\u001b[1;33m,\u001b[0m \u001b[1;36m1\u001b[0m\u001b[1;33m)\u001b[0m\u001b[1;33m\u001b[0m\u001b[1;33m\u001b[0m\u001b[0m\n\u001b[1;32m---> 10\u001b[1;33m         \u001b[0mC\u001b[0m\u001b[1;33m[\u001b[0m\u001b[0mi\u001b[0m\u001b[1;33m]\u001b[0m \u001b[1;33m=\u001b[0m \u001b[0mX\u001b[0m\u001b[1;33m\u001b[0m\u001b[1;33m\u001b[0m\u001b[0m\n\u001b[0m\u001b[0;32m     11\u001b[0m \u001b[1;33m\u001b[0m\u001b[0m\n\u001b[0;32m     12\u001b[0m     \u001b[0minitial\u001b[0m \u001b[1;33m=\u001b[0m \u001b[0mnp\u001b[0m\u001b[1;33m.\u001b[0m\u001b[0mones\u001b[0m\u001b[1;33m(\u001b[0m\u001b[1;33m(\u001b[0m\u001b[0mlength\u001b[0m\u001b[1;33m,\u001b[0m \u001b[1;36m1\u001b[0m\u001b[1;33m)\u001b[0m\u001b[1;33m)\u001b[0m \u001b[1;31m# Create a 99x1 array of ones\u001b[0m\u001b[1;33m\u001b[0m\u001b[1;33m\u001b[0m\u001b[0m\n",
      "\u001b[1;31mValueError\u001b[0m: setting an array element with a sequence."
     ]
    }
   ],
   "source": [
    "xTrain, yTrain = data_organize(df_Newtrain,mTrain)\n",
    "xTest, yTest = data_organize(df_Newtest,mTest)\n",
    "\n",
    "print('Shape of xTrain:',np.shape(xTrain))\n",
    "print('Shape of yTrain:',np.shape(yTrain))\n",
    "\n",
    "print('Shape of test matrix:',np.shape(xTest))\n",
    "\n",
    "#print(yTrain)"
   ]
  },
  {
   "cell_type": "code",
   "execution_count": 136,
   "id": "484f1904-eda6-4418-b640-307c2e7325b3",
   "metadata": {},
   "outputs": [
    {
     "data": {
      "text/plain": [
       "array([0., 0., 0., 0., 0., 0.])"
      ]
     },
     "execution_count": 136,
     "metadata": {},
     "output_type": "execute_result"
    }
   ],
   "source": [
    "theta = np.zeros(6) # row vector for Theta initialized to 0\n",
    "iterations = 100;\n",
    "\n",
    "alpha1 = 0.01; # Comparing 3 different training rates\n",
    "alpha2 = 0.02;\n",
    "alpha3 = 0.042;\n",
    "\n",
    "theta"
   ]
  },
  {
   "cell_type": "code",
   "execution_count": 137,
   "id": "1276f3f5-cee0-49a3-bc6f-7dd723398901",
   "metadata": {},
   "outputs": [
    {
     "name": "stdout",
     "output_type": "stream",
     "text": [
      "Final value of theta1 = [5.33762575e-01 8.36267882e+02 1.88278637e+00 1.00780303e+00\n",
      " 1.50180746e+00 4.65706697e-01]\n",
      "Cost History: [6.86350247e+12 4.05059696e+12 2.76595428e+12 2.17926310e+12\n",
      " 1.91132356e+12 1.78895663e+12 1.73307212e+12 1.70754986e+12\n",
      " 1.69589392e+12 1.69057067e+12]\n"
     ]
    }
   ],
   "source": [
    "# Run Cost History and Gradient Descent algorithms for training data\n",
    "theta1, cost_history1 = gradient_descent(xTrain, yTrain, theta, 0.00000001, iterations, mTrain)\n",
    "#thetaNorm, cost_historyNorm = gradient_descent(X_totNorm, Ynorm, theta, alpha1, iterations)\n",
    "\n",
    "# Run Cost History function for training data\n",
    "\n",
    "print('Final value of theta1 =', theta1)\n",
    "print('Cost History:', cost_history1[: 10]) # Here the cost history just blows up without a small enough learning rate"
   ]
  },
  {
   "cell_type": "code",
   "execution_count": 138,
   "id": "2dafc779-0b7d-4dc3-b639-32fcca825497",
   "metadata": {},
   "outputs": [
    {
     "data": {
      "text/plain": [
       "<matplotlib.legend.Legend at 0x1858c9e2c40>"
      ]
     },
     "execution_count": 138,
     "metadata": {},
     "output_type": "execute_result"
    },
    {
     "data": {
      "image/png": "[encoded data removed]",
      "text/plain": [
       "<Figure size 720x432 with 1 Axes>"
      ]
     },
     "metadata": {
      "needs_background": "light"
     },
     "output_type": "display_data"
    }
   ],
   "source": [
    "# plt.plot(range(1, iterations + 1),cost_history1, color='blue', label='a = 0.00000001')\n",
    "plt.plot(range(1, iterations + 1),cost_history1, color='green', label='a = 0.01')\n",
    "#plt.plot(range(1, iterations + 1),cost_historyNorm, color='Blue', label='a = 0.01')\n",
    "\n",
    "plt.rcParams[\"figure.figsize\"] = (10,6)\n",
    "plt.grid()\n",
    "plt.xlabel('Number of iterations')\n",
    "plt.ylabel('Cost (J)')\n",
    "plt.title('Convergence of gradient descent, scaled Area and Price')\n",
    "plt.legend()"
   ]
  },
  {
   "cell_type": "code",
   "execution_count": 92,
   "id": "18cb57c3-36a5-4d14-8e47-14d788b3460d",
   "metadata": {},
   "outputs": [
    {
     "name": "stdout",
     "output_type": "stream",
     "text": [
      "2awesome\n"
     ]
    }
   ],
   "source": [
    "x = 2\n",
    "y = \"awesome\"\n",
    "z =  str(x) + y\n",
    "print(z)"
   ]
  },
  {
   "cell_type": "code",
   "execution_count": 115,
   "id": "ce2cb9b8-cb2a-4e65-98cc-3294b022ce8e",
   "metadata": {},
   "outputs": [
    {
     "name": "stdout",
     "output_type": "stream",
     "text": [
      "1\n"
     ]
    }
   ],
   "source": [
    "print(str(1))"
   ]
  },
  {
   "cell_type": "code",
   "execution_count": null,
   "id": "66a0c3ae-33a1-46c3-bdea-3a55695f915b",
   "metadata": {},
   "outputs": [],
   "source": []
  }
 ],
 "metadata": {
  "kernelspec": {
   "display_name": "Python 3",
   "language": "python",
   "name": "python3"
  },
  "language_info": {
   "codemirror_mode": {
    "name": "ipython",
    "version": 3
   },
   "file_extension": ".py",
   "mimetype": "text/x-python",
   "name": "python",
   "nbconvert_exporter": "python",
   "pygments_lexer": "ipython3",
   "version": "3.8.8"
  }
 },
 "nbformat": 4,
 "nbformat_minor": 5
}
